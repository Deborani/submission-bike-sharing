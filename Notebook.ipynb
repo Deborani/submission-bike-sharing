{
  "cells": [
    {
      "cell_type": "markdown",
      "metadata": {
        "id": "8CMR71v1LTZM"
      },
      "source": [
        "# Proyek Analisis Data: [Bike Sharing Dataset]:\n",
        "\n",
        "1.   List item\n",
        "2.   List item\n",
        "\n",
        "\n",
        "- **Nama:** [Deborani Siagian]\n",
        "- **Email:** [deboranisiagian13@gmail.com]\n",
        "- **ID Dicoding:** [deboranisiagian]"
      ]
    },
    {
      "cell_type": "markdown",
      "metadata": {
        "id": "Ui6tTXZ0LW01"
      },
      "source": [
        "## Menentukan Pertanyaan Bisnis\n",
        "- Melihat Tren Jumlah Pengguna Tahun 2011-2012?\n",
        "- Bagaimana Pola Penyewaan Sepeda Berdasarkan Musim dan Cuaca yang ada?\n",
        "- Melihat perbandingan penyewaan sepeda menurut Hari dalam seminggu dan Hari Kerja?\n",
        "- Melihat Pengguna Sepeda Disetiap Jam?\n",
        "- Melihat Pengguna Sepeda Menurut Jam dan Hari?"
      ]
    },
    {
      "cell_type": "markdown",
      "metadata": {
        "id": "HPHEZm0oL2Dg"
      },
      "source": [
        "## Import Semua Packages/Library yang Digunakan"
      ]
    },
    {
      "cell_type": "code",
      "execution_count": 1,
      "metadata": {
        "colab": {
          "base_uri": "https://localhost:8080/"
        },
        "id": "Mk1ZNAZbi7WS",
        "outputId": "ccdec4aa-e9c2-4d18-acf4-7b8e4d2d61f3"
      },
      "outputs": [
        {
          "name": "stdout",
          "output_type": "stream",
          "text": [
            "Requirement already satisfied: streamlit in c:\\users\\hp\\appdata\\local\\programs\\python\\python312\\lib\\site-packages (1.37.1)\n",
            "Requirement already satisfied: altair<6,>=4.0 in c:\\users\\hp\\appdata\\local\\programs\\python\\python312\\lib\\site-packages (from streamlit) (5.3.0)\n",
            "Requirement already satisfied: blinker<2,>=1.0.0 in c:\\users\\hp\\appdata\\local\\programs\\python\\python312\\lib\\site-packages (from streamlit) (1.8.2)\n",
            "Requirement already satisfied: cachetools<6,>=4.0 in c:\\users\\hp\\appdata\\local\\programs\\python\\python312\\lib\\site-packages (from streamlit) (5.4.0)\n",
            "Requirement already satisfied: click<9,>=7.0 in c:\\users\\hp\\appdata\\local\\programs\\python\\python312\\lib\\site-packages (from streamlit) (8.1.7)\n",
            "Requirement already satisfied: numpy<3,>=1.20 in c:\\users\\hp\\appdata\\local\\programs\\python\\python312\\lib\\site-packages (from streamlit) (2.0.1)\n",
            "Requirement already satisfied: packaging<25,>=20 in c:\\users\\hp\\appdata\\local\\programs\\python\\python312\\lib\\site-packages (from streamlit) (24.1)\n",
            "Requirement already satisfied: pandas<3,>=1.3.0 in c:\\users\\hp\\appdata\\local\\programs\\python\\python312\\lib\\site-packages (from streamlit) (2.2.2)\n",
            "Requirement already satisfied: pillow<11,>=7.1.0 in c:\\users\\hp\\appdata\\local\\programs\\python\\python312\\lib\\site-packages (from streamlit) (10.4.0)\n",
            "Requirement already satisfied: protobuf<6,>=3.20 in c:\\users\\hp\\appdata\\local\\programs\\python\\python312\\lib\\site-packages (from streamlit) (5.27.3)\n",
            "Requirement already satisfied: pyarrow>=7.0 in c:\\users\\hp\\appdata\\local\\programs\\python\\python312\\lib\\site-packages (from streamlit) (17.0.0)\n",
            "Requirement already satisfied: requests<3,>=2.27 in c:\\users\\hp\\appdata\\local\\programs\\python\\python312\\lib\\site-packages (from streamlit) (2.32.3)\n",
            "Requirement already satisfied: rich<14,>=10.14.0 in c:\\users\\hp\\appdata\\local\\programs\\python\\python312\\lib\\site-packages (from streamlit) (13.7.1)\n",
            "Requirement already satisfied: tenacity<9,>=8.1.0 in c:\\users\\hp\\appdata\\local\\programs\\python\\python312\\lib\\site-packages (from streamlit) (8.5.0)\n",
            "Requirement already satisfied: toml<2,>=0.10.1 in c:\\users\\hp\\appdata\\local\\programs\\python\\python312\\lib\\site-packages (from streamlit) (0.10.2)\n",
            "Requirement already satisfied: typing-extensions<5,>=4.3.0 in c:\\users\\hp\\appdata\\local\\programs\\python\\python312\\lib\\site-packages (from streamlit) (4.12.2)\n",
            "Requirement already satisfied: gitpython!=3.1.19,<4,>=3.0.7 in c:\\users\\hp\\appdata\\local\\programs\\python\\python312\\lib\\site-packages (from streamlit) (3.1.43)\n",
            "Requirement already satisfied: pydeck<1,>=0.8.0b4 in c:\\users\\hp\\appdata\\local\\programs\\python\\python312\\lib\\site-packages (from streamlit) (0.9.1)\n",
            "Requirement already satisfied: tornado<7,>=6.0.3 in c:\\users\\hp\\appdata\\local\\programs\\python\\python312\\lib\\site-packages (from streamlit) (6.4.1)\n",
            "Requirement already satisfied: watchdog<5,>=2.1.5 in c:\\users\\hp\\appdata\\local\\programs\\python\\python312\\lib\\site-packages (from streamlit) (4.0.1)\n",
            "Requirement already satisfied: jinja2 in c:\\users\\hp\\appdata\\local\\programs\\python\\python312\\lib\\site-packages (from altair<6,>=4.0->streamlit) (3.1.4)\n",
            "Requirement already satisfied: jsonschema>=3.0 in c:\\users\\hp\\appdata\\local\\programs\\python\\python312\\lib\\site-packages (from altair<6,>=4.0->streamlit) (4.23.0)\n",
            "Requirement already satisfied: toolz in c:\\users\\hp\\appdata\\local\\programs\\python\\python312\\lib\\site-packages (from altair<6,>=4.0->streamlit) (0.12.1)\n",
            "Requirement already satisfied: colorama in c:\\users\\hp\\appdata\\local\\programs\\python\\python312\\lib\\site-packages (from click<9,>=7.0->streamlit) (0.4.6)\n",
            "Requirement already satisfied: gitdb<5,>=4.0.1 in c:\\users\\hp\\appdata\\local\\programs\\python\\python312\\lib\\site-packages (from gitpython!=3.1.19,<4,>=3.0.7->streamlit) (4.0.11)\n",
            "Requirement already satisfied: python-dateutil>=2.8.2 in c:\\users\\hp\\appdata\\local\\programs\\python\\python312\\lib\\site-packages (from pandas<3,>=1.3.0->streamlit) (2.9.0.post0)\n",
            "Requirement already satisfied: pytz>=2020.1 in c:\\users\\hp\\appdata\\local\\programs\\python\\python312\\lib\\site-packages (from pandas<3,>=1.3.0->streamlit) (2024.1)\n",
            "Requirement already satisfied: tzdata>=2022.7 in c:\\users\\hp\\appdata\\local\\programs\\python\\python312\\lib\\site-packages (from pandas<3,>=1.3.0->streamlit) (2024.1)\n",
            "Requirement already satisfied: charset-normalizer<4,>=2 in c:\\users\\hp\\appdata\\local\\programs\\python\\python312\\lib\\site-packages (from requests<3,>=2.27->streamlit) (3.3.2)\n",
            "Requirement already satisfied: idna<4,>=2.5 in c:\\users\\hp\\appdata\\local\\programs\\python\\python312\\lib\\site-packages (from requests<3,>=2.27->streamlit) (3.7)\n",
            "Requirement already satisfied: urllib3<3,>=1.21.1 in c:\\users\\hp\\appdata\\local\\programs\\python\\python312\\lib\\site-packages (from requests<3,>=2.27->streamlit) (2.2.2)\n",
            "Requirement already satisfied: certifi>=2017.4.17 in c:\\users\\hp\\appdata\\local\\programs\\python\\python312\\lib\\site-packages (from requests<3,>=2.27->streamlit) (2024.7.4)\n",
            "Requirement already satisfied: markdown-it-py>=2.2.0 in c:\\users\\hp\\appdata\\local\\programs\\python\\python312\\lib\\site-packages (from rich<14,>=10.14.0->streamlit) (3.0.0)\n",
            "Requirement already satisfied: pygments<3.0.0,>=2.13.0 in c:\\users\\hp\\appdata\\local\\programs\\python\\python312\\lib\\site-packages (from rich<14,>=10.14.0->streamlit) (2.18.0)\n",
            "Requirement already satisfied: smmap<6,>=3.0.1 in c:\\users\\hp\\appdata\\local\\programs\\python\\python312\\lib\\site-packages (from gitdb<5,>=4.0.1->gitpython!=3.1.19,<4,>=3.0.7->streamlit) (5.0.1)\n",
            "Requirement already satisfied: MarkupSafe>=2.0 in c:\\users\\hp\\appdata\\local\\programs\\python\\python312\\lib\\site-packages (from jinja2->altair<6,>=4.0->streamlit) (2.1.5)\n",
            "Requirement already satisfied: attrs>=22.2.0 in c:\\users\\hp\\appdata\\local\\programs\\python\\python312\\lib\\site-packages (from jsonschema>=3.0->altair<6,>=4.0->streamlit) (24.2.0)\n",
            "Requirement already satisfied: jsonschema-specifications>=2023.03.6 in c:\\users\\hp\\appdata\\local\\programs\\python\\python312\\lib\\site-packages (from jsonschema>=3.0->altair<6,>=4.0->streamlit) (2023.12.1)\n",
            "Requirement already satisfied: referencing>=0.28.4 in c:\\users\\hp\\appdata\\local\\programs\\python\\python312\\lib\\site-packages (from jsonschema>=3.0->altair<6,>=4.0->streamlit) (0.35.1)\n",
            "Requirement already satisfied: rpds-py>=0.7.1 in c:\\users\\hp\\appdata\\local\\programs\\python\\python312\\lib\\site-packages (from jsonschema>=3.0->altair<6,>=4.0->streamlit) (0.20.0)\n",
            "Requirement already satisfied: mdurl~=0.1 in c:\\users\\hp\\appdata\\local\\programs\\python\\python312\\lib\\site-packages (from markdown-it-py>=2.2.0->rich<14,>=10.14.0->streamlit) (0.1.2)\n",
            "Requirement already satisfied: six>=1.5 in c:\\users\\hp\\appdata\\local\\programs\\python\\python312\\lib\\site-packages (from python-dateutil>=2.8.2->pandas<3,>=1.3.0->streamlit) (1.16.0)\n",
            "Note: you may need to restart the kernel to use updated packages.\n"
          ]
        }
      ],
      "source": [
        "pip install streamlit"
      ]
    },
    {
      "cell_type": "code",
      "execution_count": 2,
      "metadata": {
        "id": "DnDGRedOisql"
      },
      "outputs": [],
      "source": [
        "import numpy as np\n",
        "import pandas as pd\n",
        "import matplotlib.pyplot as plt\n",
        "import seaborn as sns\n",
        "import streamlit as st\n",
        "from datetime import datetime\n",
        "import plotly.express as px\n",
        "import plotly.offline as pyo\n",
        "pyo.init_notebook_mode()\n",
        "\n",
        "from plotly.subplots import make_subplots\n",
        "sns.set(style='dark')"
      ]
    },
    {
      "cell_type": "markdown",
      "metadata": {
        "id": "nszlUEonMF4O"
      },
      "source": [
        "## Data Wrangling\n"
      ]
    },
    {
      "cell_type": "markdown",
      "metadata": {
        "id": "ka24YgLiMJhf"
      },
      "source": [
        "### Gathering Data"
      ]
    },
    {
      "cell_type": "code",
      "execution_count": 3,
      "metadata": {
        "colab": {
          "base_uri": "https://localhost:8080/",
          "height": 206
        },
        "id": "Mnk07htLMT3M",
        "outputId": "fd5300b8-bf64-494d-aab8-e99661b74b15"
      },
      "outputs": [
        {
          "data": {
            "text/html": [
              "<div>\n",
              "<style scoped>\n",
              "    .dataframe tbody tr th:only-of-type {\n",
              "        vertical-align: middle;\n",
              "    }\n",
              "\n",
              "    .dataframe tbody tr th {\n",
              "        vertical-align: top;\n",
              "    }\n",
              "\n",
              "    .dataframe thead th {\n",
              "        text-align: right;\n",
              "    }\n",
              "</style>\n",
              "<table border=\"1\" class=\"dataframe\">\n",
              "  <thead>\n",
              "    <tr style=\"text-align: right;\">\n",
              "      <th></th>\n",
              "      <th>instant</th>\n",
              "      <th>dteday</th>\n",
              "      <th>season</th>\n",
              "      <th>yr</th>\n",
              "      <th>mnth</th>\n",
              "      <th>holiday</th>\n",
              "      <th>weekday</th>\n",
              "      <th>workingday</th>\n",
              "      <th>weathersit</th>\n",
              "      <th>temp</th>\n",
              "      <th>atemp</th>\n",
              "      <th>hum</th>\n",
              "      <th>windspeed</th>\n",
              "      <th>casual</th>\n",
              "      <th>registered</th>\n",
              "      <th>cnt</th>\n",
              "    </tr>\n",
              "  </thead>\n",
              "  <tbody>\n",
              "    <tr>\n",
              "      <th>0</th>\n",
              "      <td>1</td>\n",
              "      <td>2011-01-01</td>\n",
              "      <td>1</td>\n",
              "      <td>0</td>\n",
              "      <td>1</td>\n",
              "      <td>0</td>\n",
              "      <td>6</td>\n",
              "      <td>0</td>\n",
              "      <td>2</td>\n",
              "      <td>0.344167</td>\n",
              "      <td>0.363625</td>\n",
              "      <td>0.805833</td>\n",
              "      <td>0.160446</td>\n",
              "      <td>331</td>\n",
              "      <td>654</td>\n",
              "      <td>985</td>\n",
              "    </tr>\n",
              "    <tr>\n",
              "      <th>1</th>\n",
              "      <td>2</td>\n",
              "      <td>2011-01-02</td>\n",
              "      <td>1</td>\n",
              "      <td>0</td>\n",
              "      <td>1</td>\n",
              "      <td>0</td>\n",
              "      <td>0</td>\n",
              "      <td>0</td>\n",
              "      <td>2</td>\n",
              "      <td>0.363478</td>\n",
              "      <td>0.353739</td>\n",
              "      <td>0.696087</td>\n",
              "      <td>0.248539</td>\n",
              "      <td>131</td>\n",
              "      <td>670</td>\n",
              "      <td>801</td>\n",
              "    </tr>\n",
              "    <tr>\n",
              "      <th>2</th>\n",
              "      <td>3</td>\n",
              "      <td>2011-01-03</td>\n",
              "      <td>1</td>\n",
              "      <td>0</td>\n",
              "      <td>1</td>\n",
              "      <td>0</td>\n",
              "      <td>1</td>\n",
              "      <td>1</td>\n",
              "      <td>1</td>\n",
              "      <td>0.196364</td>\n",
              "      <td>0.189405</td>\n",
              "      <td>0.437273</td>\n",
              "      <td>0.248309</td>\n",
              "      <td>120</td>\n",
              "      <td>1229</td>\n",
              "      <td>1349</td>\n",
              "    </tr>\n",
              "    <tr>\n",
              "      <th>3</th>\n",
              "      <td>4</td>\n",
              "      <td>2011-01-04</td>\n",
              "      <td>1</td>\n",
              "      <td>0</td>\n",
              "      <td>1</td>\n",
              "      <td>0</td>\n",
              "      <td>2</td>\n",
              "      <td>1</td>\n",
              "      <td>1</td>\n",
              "      <td>0.200000</td>\n",
              "      <td>0.212122</td>\n",
              "      <td>0.590435</td>\n",
              "      <td>0.160296</td>\n",
              "      <td>108</td>\n",
              "      <td>1454</td>\n",
              "      <td>1562</td>\n",
              "    </tr>\n",
              "    <tr>\n",
              "      <th>4</th>\n",
              "      <td>5</td>\n",
              "      <td>2011-01-05</td>\n",
              "      <td>1</td>\n",
              "      <td>0</td>\n",
              "      <td>1</td>\n",
              "      <td>0</td>\n",
              "      <td>3</td>\n",
              "      <td>1</td>\n",
              "      <td>1</td>\n",
              "      <td>0.226957</td>\n",
              "      <td>0.229270</td>\n",
              "      <td>0.436957</td>\n",
              "      <td>0.186900</td>\n",
              "      <td>82</td>\n",
              "      <td>1518</td>\n",
              "      <td>1600</td>\n",
              "    </tr>\n",
              "  </tbody>\n",
              "</table>\n",
              "</div>"
            ],
            "text/plain": [
              "   instant      dteday  season  yr  mnth  holiday  weekday  workingday  \\\n",
              "0        1  2011-01-01       1   0     1        0        6           0   \n",
              "1        2  2011-01-02       1   0     1        0        0           0   \n",
              "2        3  2011-01-03       1   0     1        0        1           1   \n",
              "3        4  2011-01-04       1   0     1        0        2           1   \n",
              "4        5  2011-01-05       1   0     1        0        3           1   \n",
              "\n",
              "   weathersit      temp     atemp       hum  windspeed  casual  registered  \\\n",
              "0           2  0.344167  0.363625  0.805833   0.160446     331         654   \n",
              "1           2  0.363478  0.353739  0.696087   0.248539     131         670   \n",
              "2           1  0.196364  0.189405  0.437273   0.248309     120        1229   \n",
              "3           1  0.200000  0.212122  0.590435   0.160296     108        1454   \n",
              "4           1  0.226957  0.229270  0.436957   0.186900      82        1518   \n",
              "\n",
              "    cnt  \n",
              "0   985  \n",
              "1   801  \n",
              "2  1349  \n",
              "3  1562  \n",
              "4  1600  "
            ]
          },
          "execution_count": 3,
          "metadata": {},
          "output_type": "execute_result"
        }
      ],
      "source": [
        "day_df=pd.read_csv(\"day.csv\", delimiter=\",\")\n",
        "day_df.head()"
      ]
    },
    {
      "cell_type": "code",
      "execution_count": 4,
      "metadata": {
        "colab": {
          "base_uri": "https://localhost:8080/",
          "height": 206
        },
        "id": "X4WyBz5SM8Gr",
        "outputId": "5c83f848-172c-4e0d-9e77-9c693fb228de"
      },
      "outputs": [
        {
          "data": {
            "text/html": [
              "<div>\n",
              "<style scoped>\n",
              "    .dataframe tbody tr th:only-of-type {\n",
              "        vertical-align: middle;\n",
              "    }\n",
              "\n",
              "    .dataframe tbody tr th {\n",
              "        vertical-align: top;\n",
              "    }\n",
              "\n",
              "    .dataframe thead th {\n",
              "        text-align: right;\n",
              "    }\n",
              "</style>\n",
              "<table border=\"1\" class=\"dataframe\">\n",
              "  <thead>\n",
              "    <tr style=\"text-align: right;\">\n",
              "      <th></th>\n",
              "      <th>instant</th>\n",
              "      <th>dteday</th>\n",
              "      <th>season</th>\n",
              "      <th>yr</th>\n",
              "      <th>mnth</th>\n",
              "      <th>hr</th>\n",
              "      <th>holiday</th>\n",
              "      <th>weekday</th>\n",
              "      <th>workingday</th>\n",
              "      <th>weathersit</th>\n",
              "      <th>temp</th>\n",
              "      <th>atemp</th>\n",
              "      <th>hum</th>\n",
              "      <th>windspeed</th>\n",
              "      <th>casual</th>\n",
              "      <th>registered</th>\n",
              "      <th>cnt</th>\n",
              "    </tr>\n",
              "  </thead>\n",
              "  <tbody>\n",
              "    <tr>\n",
              "      <th>0</th>\n",
              "      <td>1</td>\n",
              "      <td>2011-01-01</td>\n",
              "      <td>1</td>\n",
              "      <td>0</td>\n",
              "      <td>1</td>\n",
              "      <td>0</td>\n",
              "      <td>0</td>\n",
              "      <td>6</td>\n",
              "      <td>0</td>\n",
              "      <td>1</td>\n",
              "      <td>0.24</td>\n",
              "      <td>0.2879</td>\n",
              "      <td>0.81</td>\n",
              "      <td>0.0</td>\n",
              "      <td>3</td>\n",
              "      <td>13</td>\n",
              "      <td>16</td>\n",
              "    </tr>\n",
              "    <tr>\n",
              "      <th>1</th>\n",
              "      <td>2</td>\n",
              "      <td>2011-01-01</td>\n",
              "      <td>1</td>\n",
              "      <td>0</td>\n",
              "      <td>1</td>\n",
              "      <td>1</td>\n",
              "      <td>0</td>\n",
              "      <td>6</td>\n",
              "      <td>0</td>\n",
              "      <td>1</td>\n",
              "      <td>0.22</td>\n",
              "      <td>0.2727</td>\n",
              "      <td>0.80</td>\n",
              "      <td>0.0</td>\n",
              "      <td>8</td>\n",
              "      <td>32</td>\n",
              "      <td>40</td>\n",
              "    </tr>\n",
              "    <tr>\n",
              "      <th>2</th>\n",
              "      <td>3</td>\n",
              "      <td>2011-01-01</td>\n",
              "      <td>1</td>\n",
              "      <td>0</td>\n",
              "      <td>1</td>\n",
              "      <td>2</td>\n",
              "      <td>0</td>\n",
              "      <td>6</td>\n",
              "      <td>0</td>\n",
              "      <td>1</td>\n",
              "      <td>0.22</td>\n",
              "      <td>0.2727</td>\n",
              "      <td>0.80</td>\n",
              "      <td>0.0</td>\n",
              "      <td>5</td>\n",
              "      <td>27</td>\n",
              "      <td>32</td>\n",
              "    </tr>\n",
              "    <tr>\n",
              "      <th>3</th>\n",
              "      <td>4</td>\n",
              "      <td>2011-01-01</td>\n",
              "      <td>1</td>\n",
              "      <td>0</td>\n",
              "      <td>1</td>\n",
              "      <td>3</td>\n",
              "      <td>0</td>\n",
              "      <td>6</td>\n",
              "      <td>0</td>\n",
              "      <td>1</td>\n",
              "      <td>0.24</td>\n",
              "      <td>0.2879</td>\n",
              "      <td>0.75</td>\n",
              "      <td>0.0</td>\n",
              "      <td>3</td>\n",
              "      <td>10</td>\n",
              "      <td>13</td>\n",
              "    </tr>\n",
              "    <tr>\n",
              "      <th>4</th>\n",
              "      <td>5</td>\n",
              "      <td>2011-01-01</td>\n",
              "      <td>1</td>\n",
              "      <td>0</td>\n",
              "      <td>1</td>\n",
              "      <td>4</td>\n",
              "      <td>0</td>\n",
              "      <td>6</td>\n",
              "      <td>0</td>\n",
              "      <td>1</td>\n",
              "      <td>0.24</td>\n",
              "      <td>0.2879</td>\n",
              "      <td>0.75</td>\n",
              "      <td>0.0</td>\n",
              "      <td>0</td>\n",
              "      <td>1</td>\n",
              "      <td>1</td>\n",
              "    </tr>\n",
              "  </tbody>\n",
              "</table>\n",
              "</div>"
            ],
            "text/plain": [
              "   instant      dteday  season  yr  mnth  hr  holiday  weekday  workingday  \\\n",
              "0        1  2011-01-01       1   0     1   0        0        6           0   \n",
              "1        2  2011-01-01       1   0     1   1        0        6           0   \n",
              "2        3  2011-01-01       1   0     1   2        0        6           0   \n",
              "3        4  2011-01-01       1   0     1   3        0        6           0   \n",
              "4        5  2011-01-01       1   0     1   4        0        6           0   \n",
              "\n",
              "   weathersit  temp   atemp   hum  windspeed  casual  registered  cnt  \n",
              "0           1  0.24  0.2879  0.81        0.0       3          13   16  \n",
              "1           1  0.22  0.2727  0.80        0.0       8          32   40  \n",
              "2           1  0.22  0.2727  0.80        0.0       5          27   32  \n",
              "3           1  0.24  0.2879  0.75        0.0       3          10   13  \n",
              "4           1  0.24  0.2879  0.75        0.0       0           1    1  "
            ]
          },
          "execution_count": 4,
          "metadata": {},
          "output_type": "execute_result"
        }
      ],
      "source": [
        "hour_df=pd.read_csv(\"hour.csv\", delimiter=\",\")\n",
        "hour_df.head()"
      ]
    },
    {
      "cell_type": "markdown",
      "metadata": {
        "id": "P6QfghitM_ji"
      },
      "source": [
        "### Assessing Data"
      ]
    },
    {
      "cell_type": "code",
      "execution_count": 5,
      "metadata": {
        "colab": {
          "base_uri": "https://localhost:8080/"
        },
        "id": "OGKPQkODND_-",
        "outputId": "cf706ae3-9bcf-47fc-8bbe-b691917b263d"
      },
      "outputs": [
        {
          "name": "stdout",
          "output_type": "stream",
          "text": [
            "<class 'pandas.core.frame.DataFrame'>\n",
            "RangeIndex: 731 entries, 0 to 730\n",
            "Data columns (total 16 columns):\n",
            " #   Column      Non-Null Count  Dtype  \n",
            "---  ------      --------------  -----  \n",
            " 0   instant     731 non-null    int64  \n",
            " 1   dteday      731 non-null    object \n",
            " 2   season      731 non-null    int64  \n",
            " 3   yr          731 non-null    int64  \n",
            " 4   mnth        731 non-null    int64  \n",
            " 5   holiday     731 non-null    int64  \n",
            " 6   weekday     731 non-null    int64  \n",
            " 7   workingday  731 non-null    int64  \n",
            " 8   weathersit  731 non-null    int64  \n",
            " 9   temp        731 non-null    float64\n",
            " 10  atemp       731 non-null    float64\n",
            " 11  hum         731 non-null    float64\n",
            " 12  windspeed   731 non-null    float64\n",
            " 13  casual      731 non-null    int64  \n",
            " 14  registered  731 non-null    int64  \n",
            " 15  cnt         731 non-null    int64  \n",
            "dtypes: float64(4), int64(11), object(1)\n",
            "memory usage: 91.5+ KB\n"
          ]
        }
      ],
      "source": [
        "day_df.info()"
      ]
    },
    {
      "cell_type": "code",
      "execution_count": 6,
      "metadata": {
        "id": "t39qztBONHlb"
      },
      "outputs": [],
      "source": [
        "# dari output dari day_df.info()\n",
        "#1. Variabel dteday pada day_df bukan bertipe datetime\n",
        "#2. season, yr, mnth, holiday, weekdat, workinday, weathersit bertipe data integer dan bukan bertipe category"
      ]
    },
    {
      "cell_type": "code",
      "execution_count": 7,
      "metadata": {
        "colab": {
          "base_uri": "https://localhost:8080/",
          "height": 586
        },
        "id": "UvZjYzYsNNkF",
        "outputId": "2c29451e-934a-40ba-9081-7a6b53b2fe26"
      },
      "outputs": [
        {
          "data": {
            "text/plain": [
              "instant       0\n",
              "dteday        0\n",
              "season        0\n",
              "yr            0\n",
              "mnth          0\n",
              "holiday       0\n",
              "weekday       0\n",
              "workingday    0\n",
              "weathersit    0\n",
              "temp          0\n",
              "atemp         0\n",
              "hum           0\n",
              "windspeed     0\n",
              "casual        0\n",
              "registered    0\n",
              "cnt           0\n",
              "dtype: int64"
            ]
          },
          "execution_count": 7,
          "metadata": {},
          "output_type": "execute_result"
        }
      ],
      "source": [
        "# Mencari missing value pada day_df\n",
        "# Mencari missing value dari day_df dengan mengunnakan metode berikut\n",
        "day_df.isnull().sum()"
      ]
    },
    {
      "cell_type": "code",
      "execution_count": 8,
      "metadata": {
        "id": "8LGkhnsrNUW0"
      },
      "outputs": [],
      "source": [
        "# Dari hasil diatas tidak ditemukan missing value"
      ]
    },
    {
      "cell_type": "code",
      "execution_count": 9,
      "metadata": {
        "colab": {
          "base_uri": "https://localhost:8080/"
        },
        "id": "tgX-esc2NWSt",
        "outputId": "9dde557a-4210-4cdd-e88e-85881f05643b"
      },
      "outputs": [
        {
          "name": "stdout",
          "output_type": "stream",
          "text": [
            "Jumlah duplikasi:  0\n"
          ]
        }
      ],
      "source": [
        "# Selanjutnya kita periksa ialah duplikasi data dengan menggunakan\n",
        "print(\"Jumlah duplikasi: \", day_df.duplicated().sum())"
      ]
    },
    {
      "cell_type": "code",
      "execution_count": 10,
      "metadata": {
        "id": "vTvwMMQpNYsn"
      },
      "outputs": [],
      "source": [
        "# Dari hasil duplikasi day_df tidak ada duplicated value"
      ]
    },
    {
      "cell_type": "code",
      "execution_count": 11,
      "metadata": {
        "colab": {
          "base_uri": "https://localhost:8080/",
          "height": 765
        },
        "id": "7o1YPV_hNgcR",
        "outputId": "eef2c160-9ac1-479f-846f-43818e096b85"
      },
      "outputs": [
        {
          "data": {
            "image/png": "[encoded data removed]",
            "text/plain": [
              "<Figure size 1000x700 with 1 Axes>"
            ]
          },
          "metadata": {},
          "output_type": "display_data"
        }
      ],
      "source": [
        "# 3. Mencari outlier pada data day_df\n",
        "data = [day_df[\"temp\"], day_df[\"atemp\"], day_df[\"hum\"], day_df[\"windspeed\"]]\n",
        "\n",
        "fig = plt.figure(figsize =(10, 7))\n",
        "\n",
        "# Creating axes instance\n",
        "ax = fig.add_axes([0, 0, 1, 1])\n",
        "\n",
        "# Creating axes instance\n",
        "ax = ax.boxplot(data)\n",
        "\n",
        "# Show plot\n",
        "plt.show()"
      ]
    },
    {
      "cell_type": "code",
      "execution_count": 12,
      "metadata": {
        "colab": {
          "base_uri": "https://localhost:8080/",
          "height": 765
        },
        "id": "ZqaYF6GONkYT",
        "outputId": "afb9670a-37d7-4e98-8d91-ebcc059073a0"
      },
      "outputs": [
        {
          "data": {
            "image/png": "[encoded data removed]",
            "text/plain": [
              "<Figure size 1000x700 with 1 Axes>"
            ]
          },
          "metadata": {},
          "output_type": "display_data"
        }
      ],
      "source": [
        "data = [day_df[\"casual\"], day_df[\"registered\"], day_df[\"cnt\"]]\n",
        "\n",
        "fig = plt.figure(figsize =(10, 7))\n",
        "\n",
        "# Creating axes instance\n",
        "ax = fig.add_axes([0, 0, 1, 1])\n",
        "\n",
        "# Creating axes instance\n",
        "ax = ax.boxplot(data)\n",
        "\n",
        "# Show plot\n",
        "plt.show()"
      ]
    },
    {
      "cell_type": "code",
      "execution_count": 13,
      "metadata": {
        "id": "_KU_eDjfNrKL"
      },
      "outputs": [],
      "source": [
        "# terdapat outlier pada variabel windspeed dan casual"
      ]
    },
    {
      "cell_type": "code",
      "execution_count": 14,
      "metadata": {
        "colab": {
          "base_uri": "https://localhost:8080/"
        },
        "id": "vS7yv8ykNs0f",
        "outputId": "3365b9e9-1fdc-40df-9923-518349f5dbab"
      },
      "outputs": [
        {
          "name": "stdout",
          "output_type": "stream",
          "text": [
            "<class 'pandas.core.frame.DataFrame'>\n",
            "RangeIndex: 17379 entries, 0 to 17378\n",
            "Data columns (total 17 columns):\n",
            " #   Column      Non-Null Count  Dtype  \n",
            "---  ------      --------------  -----  \n",
            " 0   instant     17379 non-null  int64  \n",
            " 1   dteday      17379 non-null  object \n",
            " 2   season      17379 non-null  int64  \n",
            " 3   yr          17379 non-null  int64  \n",
            " 4   mnth        17379 non-null  int64  \n",
            " 5   hr          17379 non-null  int64  \n",
            " 6   holiday     17379 non-null  int64  \n",
            " 7   weekday     17379 non-null  int64  \n",
            " 8   workingday  17379 non-null  int64  \n",
            " 9   weathersit  17379 non-null  int64  \n",
            " 10  temp        17379 non-null  float64\n",
            " 11  atemp       17379 non-null  float64\n",
            " 12  hum         17379 non-null  float64\n",
            " 13  windspeed   17379 non-null  float64\n",
            " 14  casual      17379 non-null  int64  \n",
            " 15  registered  17379 non-null  int64  \n",
            " 16  cnt         17379 non-null  int64  \n",
            "dtypes: float64(4), int64(12), object(1)\n",
            "memory usage: 2.3+ MB\n"
          ]
        }
      ],
      "source": [
        "hour_df.info()"
      ]
    },
    {
      "cell_type": "code",
      "execution_count": 15,
      "metadata": {
        "id": "CSUteSdZNzbw"
      },
      "outputs": [],
      "source": [
        "# dari output dari day_df.info()\n",
        "#1. Variabel dteday pada day_df bukan bertipe datetime\n",
        "#2. season, yr, mnth, holiday, weekdat, workinday, weathersit bertipe data integer dan bukan bertipe category"
      ]
    },
    {
      "cell_type": "code",
      "execution_count": 16,
      "metadata": {
        "colab": {
          "base_uri": "https://localhost:8080/",
          "height": 617
        },
        "id": "JwxvklPeN1g8",
        "outputId": "ee5d48b1-baf1-47fc-f417-4be755305400"
      },
      "outputs": [
        {
          "data": {
            "text/plain": [
              "instant       0\n",
              "dteday        0\n",
              "season        0\n",
              "yr            0\n",
              "mnth          0\n",
              "hr            0\n",
              "holiday       0\n",
              "weekday       0\n",
              "workingday    0\n",
              "weathersit    0\n",
              "temp          0\n",
              "atemp         0\n",
              "hum           0\n",
              "windspeed     0\n",
              "casual        0\n",
              "registered    0\n",
              "cnt           0\n",
              "dtype: int64"
            ]
          },
          "execution_count": 16,
          "metadata": {},
          "output_type": "execute_result"
        }
      ],
      "source": [
        "# hour_df mencari Missing Value dengan metode berikut\n",
        "hour_df.isnull().sum()"
      ]
    },
    {
      "cell_type": "code",
      "execution_count": 17,
      "metadata": {
        "id": "GQASKtMFN-p9"
      },
      "outputs": [],
      "source": [
        "# hour_df diketahui tidak ada missing values"
      ]
    },
    {
      "cell_type": "code",
      "execution_count": 18,
      "metadata": {
        "colab": {
          "base_uri": "https://localhost:8080/"
        },
        "id": "teVLFjQMN_pU",
        "outputId": "eb98ce1f-9465-4e58-8f85-6ed653b85b5b"
      },
      "outputs": [
        {
          "name": "stdout",
          "output_type": "stream",
          "text": [
            "Jumlah duplikasi:  0\n"
          ]
        }
      ],
      "source": [
        "# Selanjutnya kita periksa ialah duplikasi data dengan menggunakan\n",
        "print(\"Jumlah duplikasi: \", hour_df.duplicated().sum())"
      ]
    },
    {
      "cell_type": "code",
      "execution_count": 19,
      "metadata": {
        "id": "NQc-0n_SOEQR"
      },
      "outputs": [],
      "source": [
        "# dari data hour_df tidak ada duplikasi"
      ]
    },
    {
      "cell_type": "code",
      "execution_count": 20,
      "metadata": {
        "colab": {
          "base_uri": "https://localhost:8080/",
          "height": 320
        },
        "id": "6OSQ3HrmOHKj",
        "outputId": "61577f73-8639-4d04-ed94-2b34e3c8744e"
      },
      "outputs": [
        {
          "data": {
            "text/html": [
              "<div>\n",
              "<style scoped>\n",
              "    .dataframe tbody tr th:only-of-type {\n",
              "        vertical-align: middle;\n",
              "    }\n",
              "\n",
              "    .dataframe tbody tr th {\n",
              "        vertical-align: top;\n",
              "    }\n",
              "\n",
              "    .dataframe thead th {\n",
              "        text-align: right;\n",
              "    }\n",
              "</style>\n",
              "<table border=\"1\" class=\"dataframe\">\n",
              "  <thead>\n",
              "    <tr style=\"text-align: right;\">\n",
              "      <th></th>\n",
              "      <th>instant</th>\n",
              "      <th>season</th>\n",
              "      <th>yr</th>\n",
              "      <th>mnth</th>\n",
              "      <th>hr</th>\n",
              "      <th>holiday</th>\n",
              "      <th>weekday</th>\n",
              "      <th>workingday</th>\n",
              "      <th>weathersit</th>\n",
              "      <th>temp</th>\n",
              "      <th>atemp</th>\n",
              "      <th>hum</th>\n",
              "      <th>windspeed</th>\n",
              "      <th>casual</th>\n",
              "      <th>registered</th>\n",
              "      <th>cnt</th>\n",
              "    </tr>\n",
              "  </thead>\n",
              "  <tbody>\n",
              "    <tr>\n",
              "      <th>count</th>\n",
              "      <td>17379.0000</td>\n",
              "      <td>17379.000000</td>\n",
              "      <td>17379.000000</td>\n",
              "      <td>17379.000000</td>\n",
              "      <td>17379.000000</td>\n",
              "      <td>17379.000000</td>\n",
              "      <td>17379.000000</td>\n",
              "      <td>17379.000000</td>\n",
              "      <td>17379.000000</td>\n",
              "      <td>17379.000000</td>\n",
              "      <td>17379.000000</td>\n",
              "      <td>17379.000000</td>\n",
              "      <td>17379.000000</td>\n",
              "      <td>17379.000000</td>\n",
              "      <td>17379.000000</td>\n",
              "      <td>17379.000000</td>\n",
              "    </tr>\n",
              "    <tr>\n",
              "      <th>mean</th>\n",
              "      <td>8690.0000</td>\n",
              "      <td>2.501640</td>\n",
              "      <td>0.502561</td>\n",
              "      <td>6.537775</td>\n",
              "      <td>11.546752</td>\n",
              "      <td>0.028770</td>\n",
              "      <td>3.003683</td>\n",
              "      <td>0.682721</td>\n",
              "      <td>1.425283</td>\n",
              "      <td>0.496987</td>\n",
              "      <td>0.475775</td>\n",
              "      <td>0.627229</td>\n",
              "      <td>0.190098</td>\n",
              "      <td>35.676218</td>\n",
              "      <td>153.786869</td>\n",
              "      <td>189.463088</td>\n",
              "    </tr>\n",
              "    <tr>\n",
              "      <th>std</th>\n",
              "      <td>5017.0295</td>\n",
              "      <td>1.106918</td>\n",
              "      <td>0.500008</td>\n",
              "      <td>3.438776</td>\n",
              "      <td>6.914405</td>\n",
              "      <td>0.167165</td>\n",
              "      <td>2.005771</td>\n",
              "      <td>0.465431</td>\n",
              "      <td>0.639357</td>\n",
              "      <td>0.192556</td>\n",
              "      <td>0.171850</td>\n",
              "      <td>0.192930</td>\n",
              "      <td>0.122340</td>\n",
              "      <td>49.305030</td>\n",
              "      <td>151.357286</td>\n",
              "      <td>181.387599</td>\n",
              "    </tr>\n",
              "    <tr>\n",
              "      <th>min</th>\n",
              "      <td>1.0000</td>\n",
              "      <td>1.000000</td>\n",
              "      <td>0.000000</td>\n",
              "      <td>1.000000</td>\n",
              "      <td>0.000000</td>\n",
              "      <td>0.000000</td>\n",
              "      <td>0.000000</td>\n",
              "      <td>0.000000</td>\n",
              "      <td>1.000000</td>\n",
              "      <td>0.020000</td>\n",
              "      <td>0.000000</td>\n",
              "      <td>0.000000</td>\n",
              "      <td>0.000000</td>\n",
              "      <td>0.000000</td>\n",
              "      <td>0.000000</td>\n",
              "      <td>1.000000</td>\n",
              "    </tr>\n",
              "    <tr>\n",
              "      <th>25%</th>\n",
              "      <td>4345.5000</td>\n",
              "      <td>2.000000</td>\n",
              "      <td>0.000000</td>\n",
              "      <td>4.000000</td>\n",
              "      <td>6.000000</td>\n",
              "      <td>0.000000</td>\n",
              "      <td>1.000000</td>\n",
              "      <td>0.000000</td>\n",
              "      <td>1.000000</td>\n",
              "      <td>0.340000</td>\n",
              "      <td>0.333300</td>\n",
              "      <td>0.480000</td>\n",
              "      <td>0.104500</td>\n",
              "      <td>4.000000</td>\n",
              "      <td>34.000000</td>\n",
              "      <td>40.000000</td>\n",
              "    </tr>\n",
              "    <tr>\n",
              "      <th>50%</th>\n",
              "      <td>8690.0000</td>\n",
              "      <td>3.000000</td>\n",
              "      <td>1.000000</td>\n",
              "      <td>7.000000</td>\n",
              "      <td>12.000000</td>\n",
              "      <td>0.000000</td>\n",
              "      <td>3.000000</td>\n",
              "      <td>1.000000</td>\n",
              "      <td>1.000000</td>\n",
              "      <td>0.500000</td>\n",
              "      <td>0.484800</td>\n",
              "      <td>0.630000</td>\n",
              "      <td>0.194000</td>\n",
              "      <td>17.000000</td>\n",
              "      <td>115.000000</td>\n",
              "      <td>142.000000</td>\n",
              "    </tr>\n",
              "    <tr>\n",
              "      <th>75%</th>\n",
              "      <td>13034.5000</td>\n",
              "      <td>3.000000</td>\n",
              "      <td>1.000000</td>\n",
              "      <td>10.000000</td>\n",
              "      <td>18.000000</td>\n",
              "      <td>0.000000</td>\n",
              "      <td>5.000000</td>\n",
              "      <td>1.000000</td>\n",
              "      <td>2.000000</td>\n",
              "      <td>0.660000</td>\n",
              "      <td>0.621200</td>\n",
              "      <td>0.780000</td>\n",
              "      <td>0.253700</td>\n",
              "      <td>48.000000</td>\n",
              "      <td>220.000000</td>\n",
              "      <td>281.000000</td>\n",
              "    </tr>\n",
              "    <tr>\n",
              "      <th>max</th>\n",
              "      <td>17379.0000</td>\n",
              "      <td>4.000000</td>\n",
              "      <td>1.000000</td>\n",
              "      <td>12.000000</td>\n",
              "      <td>23.000000</td>\n",
              "      <td>1.000000</td>\n",
              "      <td>6.000000</td>\n",
              "      <td>1.000000</td>\n",
              "      <td>4.000000</td>\n",
              "      <td>1.000000</td>\n",
              "      <td>1.000000</td>\n",
              "      <td>1.000000</td>\n",
              "      <td>0.850700</td>\n",
              "      <td>367.000000</td>\n",
              "      <td>886.000000</td>\n",
              "      <td>977.000000</td>\n",
              "    </tr>\n",
              "  </tbody>\n",
              "</table>\n",
              "</div>"
            ],
            "text/plain": [
              "          instant        season            yr          mnth            hr  \\\n",
              "count  17379.0000  17379.000000  17379.000000  17379.000000  17379.000000   \n",
              "mean    8690.0000      2.501640      0.502561      6.537775     11.546752   \n",
              "std     5017.0295      1.106918      0.500008      3.438776      6.914405   \n",
              "min        1.0000      1.000000      0.000000      1.000000      0.000000   \n",
              "25%     4345.5000      2.000000      0.000000      4.000000      6.000000   \n",
              "50%     8690.0000      3.000000      1.000000      7.000000     12.000000   \n",
              "75%    13034.5000      3.000000      1.000000     10.000000     18.000000   \n",
              "max    17379.0000      4.000000      1.000000     12.000000     23.000000   \n",
              "\n",
              "            holiday       weekday    workingday    weathersit          temp  \\\n",
              "count  17379.000000  17379.000000  17379.000000  17379.000000  17379.000000   \n",
              "mean       0.028770      3.003683      0.682721      1.425283      0.496987   \n",
              "std        0.167165      2.005771      0.465431      0.639357      0.192556   \n",
              "min        0.000000      0.000000      0.000000      1.000000      0.020000   \n",
              "25%        0.000000      1.000000      0.000000      1.000000      0.340000   \n",
              "50%        0.000000      3.000000      1.000000      1.000000      0.500000   \n",
              "75%        0.000000      5.000000      1.000000      2.000000      0.660000   \n",
              "max        1.000000      6.000000      1.000000      4.000000      1.000000   \n",
              "\n",
              "              atemp           hum     windspeed        casual    registered  \\\n",
              "count  17379.000000  17379.000000  17379.000000  17379.000000  17379.000000   \n",
              "mean       0.475775      0.627229      0.190098     35.676218    153.786869   \n",
              "std        0.171850      0.192930      0.122340     49.305030    151.357286   \n",
              "min        0.000000      0.000000      0.000000      0.000000      0.000000   \n",
              "25%        0.333300      0.480000      0.104500      4.000000     34.000000   \n",
              "50%        0.484800      0.630000      0.194000     17.000000    115.000000   \n",
              "75%        0.621200      0.780000      0.253700     48.000000    220.000000   \n",
              "max        1.000000      1.000000      0.850700    367.000000    886.000000   \n",
              "\n",
              "                cnt  \n",
              "count  17379.000000  \n",
              "mean     189.463088  \n",
              "std      181.387599  \n",
              "min        1.000000  \n",
              "25%       40.000000  \n",
              "50%      142.000000  \n",
              "75%      281.000000  \n",
              "max      977.000000  "
            ]
          },
          "execution_count": 20,
          "metadata": {},
          "output_type": "execute_result"
        }
      ],
      "source": [
        "hour_df.describe()"
      ]
    },
    {
      "cell_type": "code",
      "execution_count": 21,
      "metadata": {
        "colab": {
          "base_uri": "https://localhost:8080/",
          "height": 765
        },
        "id": "EsFFlRuhOMpl",
        "outputId": "9985de20-695b-4c95-e826-7219576f8008"
      },
      "outputs": [
        {
          "data": {
            "image/png": "[encoded data removed]",
            "text/plain": [
              "<Figure size 1000x700 with 1 Axes>"
            ]
          },
          "metadata": {},
          "output_type": "display_data"
        }
      ],
      "source": [
        "data = [hour_df[\"temp\"], hour_df[\"atemp\"], hour_df[\"hum\"], hour_df[\"windspeed\"]]\n",
        "\n",
        "fig = plt.figure(figsize =(10, 7))\n",
        "\n",
        "# Creating axes instance\n",
        "ax = fig.add_axes([0, 0, 1, 1])\n",
        "\n",
        "# Creating axes instance\n",
        "ax = ax.boxplot(data)\n",
        "\n",
        "# Show plot\n",
        "plt.show()"
      ]
    },
    {
      "cell_type": "code",
      "execution_count": 22,
      "metadata": {
        "colab": {
          "base_uri": "https://localhost:8080/",
          "height": 765
        },
        "id": "vyXBuOZwOQ2Y",
        "outputId": "32ccf569-faad-4162-fa49-3a1f0aa14221"
      },
      "outputs": [
        {
          "data": {
            "image/png": "[encoded data removed]",
            "text/plain": [
              "<Figure size 1000x700 with 1 Axes>"
            ]
          },
          "metadata": {},
          "output_type": "display_data"
        }
      ],
      "source": [
        "data = [hour_df[\"casual\"], hour_df[\"registered\"], hour_df[\"cnt\"]]\n",
        "\n",
        "fig = plt.figure(figsize =(10, 7))\n",
        "\n",
        "# Creating axes instance\n",
        "ax = fig.add_axes([0, 0, 1, 1])\n",
        "\n",
        "# Creating axes instance\n",
        "ax = ax.boxplot(data)\n",
        "\n",
        "# Show plot\n",
        "plt.show()"
      ]
    },
    {
      "cell_type": "code",
      "execution_count": 23,
      "metadata": {
        "id": "yEJcgxDhOWqf"
      },
      "outputs": [],
      "source": [
        "#berdasarkan boxplot outlier ditemukan pada variabel registered dan cnt"
      ]
    },
    {
      "cell_type": "markdown",
      "metadata": {
        "id": "ngJEf3B5PH08"
      },
      "source": [
        "### Cleaning Data"
      ]
    },
    {
      "cell_type": "code",
      "execution_count": 24,
      "metadata": {
        "colab": {
          "base_uri": "https://localhost:8080/"
        },
        "id": "s5kBbApNPKgR",
        "outputId": "b22ecb7c-4912-4b51-f5a6-66b4d481ac89"
      },
      "outputs": [
        {
          "name": "stdout",
          "output_type": "stream",
          "text": [
            "<class 'pandas.core.frame.DataFrame'>\n",
            "RangeIndex: 731 entries, 0 to 730\n",
            "Data columns (total 16 columns):\n",
            " #   Column      Non-Null Count  Dtype         \n",
            "---  ------      --------------  -----         \n",
            " 0   instant     731 non-null    int64         \n",
            " 1   dteday      731 non-null    datetime64[ns]\n",
            " 2   season      731 non-null    category      \n",
            " 3   yr          731 non-null    category      \n",
            " 4   mnth        731 non-null    category      \n",
            " 5   holiday     731 non-null    category      \n",
            " 6   weekday     731 non-null    category      \n",
            " 7   workingday  731 non-null    category      \n",
            " 8   weathersit  731 non-null    category      \n",
            " 9   temp        731 non-null    float64       \n",
            " 10  atemp       731 non-null    float64       \n",
            " 11  hum         731 non-null    float64       \n",
            " 12  windspeed   731 non-null    float64       \n",
            " 13  casual      731 non-null    int64         \n",
            " 14  registered  731 non-null    int64         \n",
            " 15  cnt         731 non-null    int64         \n",
            "dtypes: category(7), datetime64[ns](1), float64(4), int64(4)\n",
            "memory usage: 58.0 KB\n"
          ]
        }
      ],
      "source": [
        "#Variabel dteday perlu diubah menjadi varibael yang bertipe datetime\n",
        "#Variabel season, yr, mnth, holiday, weekday, workingday, weathersit perlu diubah menjadi variabel yang bertipe category\n",
        "day_df['dteday'] = pd.to_datetime(day_df['dteday'])\n",
        "str_column = [\"season\", \"yr\", \"mnth\", \"holiday\", \"weekday\", \"workingday\", \"weathersit\"]\n",
        "for column in str_column:\n",
        "  day_df[column] = day_df[column].astype('category')\n",
        "day_df.info()"
      ]
    },
    {
      "cell_type": "code",
      "execution_count": 25,
      "metadata": {
        "colab": {
          "base_uri": "https://localhost:8080/",
          "height": 206
        },
        "id": "7NtgbjYYPM_l",
        "outputId": "4eb3fd79-13a3-4bfa-8f46-d1fd17d35fc7"
      },
      "outputs": [
        {
          "data": {
            "text/html": [
              "<div>\n",
              "<style scoped>\n",
              "    .dataframe tbody tr th:only-of-type {\n",
              "        vertical-align: middle;\n",
              "    }\n",
              "\n",
              "    .dataframe tbody tr th {\n",
              "        vertical-align: top;\n",
              "    }\n",
              "\n",
              "    .dataframe thead th {\n",
              "        text-align: right;\n",
              "    }\n",
              "</style>\n",
              "<table border=\"1\" class=\"dataframe\">\n",
              "  <thead>\n",
              "    <tr style=\"text-align: right;\">\n",
              "      <th></th>\n",
              "      <th>instant</th>\n",
              "      <th>dteday</th>\n",
              "      <th>season</th>\n",
              "      <th>yr</th>\n",
              "      <th>mnth</th>\n",
              "      <th>holiday</th>\n",
              "      <th>weekday</th>\n",
              "      <th>workingday</th>\n",
              "      <th>weathersit</th>\n",
              "      <th>temp</th>\n",
              "      <th>atemp</th>\n",
              "      <th>hum</th>\n",
              "      <th>windspeed</th>\n",
              "      <th>casual</th>\n",
              "      <th>registered</th>\n",
              "      <th>cnt</th>\n",
              "    </tr>\n",
              "  </thead>\n",
              "  <tbody>\n",
              "    <tr>\n",
              "      <th>0</th>\n",
              "      <td>1</td>\n",
              "      <td>2011-01-01</td>\n",
              "      <td>Spring</td>\n",
              "      <td>2011</td>\n",
              "      <td>1</td>\n",
              "      <td>Non Holiday</td>\n",
              "      <td>Satuday</td>\n",
              "      <td>No Working</td>\n",
              "      <td>Mist/Cloudy</td>\n",
              "      <td>0.344167</td>\n",
              "      <td>0.363625</td>\n",
              "      <td>0.805833</td>\n",
              "      <td>0.160446</td>\n",
              "      <td>331</td>\n",
              "      <td>654</td>\n",
              "      <td>985</td>\n",
              "    </tr>\n",
              "    <tr>\n",
              "      <th>1</th>\n",
              "      <td>2</td>\n",
              "      <td>2011-01-02</td>\n",
              "      <td>Spring</td>\n",
              "      <td>2011</td>\n",
              "      <td>1</td>\n",
              "      <td>Non Holiday</td>\n",
              "      <td>Sunday</td>\n",
              "      <td>No Working</td>\n",
              "      <td>Mist/Cloudy</td>\n",
              "      <td>0.363478</td>\n",
              "      <td>0.353739</td>\n",
              "      <td>0.696087</td>\n",
              "      <td>0.248539</td>\n",
              "      <td>131</td>\n",
              "      <td>670</td>\n",
              "      <td>801</td>\n",
              "    </tr>\n",
              "    <tr>\n",
              "      <th>2</th>\n",
              "      <td>3</td>\n",
              "      <td>2011-01-03</td>\n",
              "      <td>Spring</td>\n",
              "      <td>2011</td>\n",
              "      <td>1</td>\n",
              "      <td>Non Holiday</td>\n",
              "      <td>Monday</td>\n",
              "      <td>Working</td>\n",
              "      <td>Clear/Cloudy</td>\n",
              "      <td>0.196364</td>\n",
              "      <td>0.189405</td>\n",
              "      <td>0.437273</td>\n",
              "      <td>0.248309</td>\n",
              "      <td>120</td>\n",
              "      <td>1229</td>\n",
              "      <td>1349</td>\n",
              "    </tr>\n",
              "    <tr>\n",
              "      <th>3</th>\n",
              "      <td>4</td>\n",
              "      <td>2011-01-04</td>\n",
              "      <td>Spring</td>\n",
              "      <td>2011</td>\n",
              "      <td>1</td>\n",
              "      <td>Non Holiday</td>\n",
              "      <td>Tuesday</td>\n",
              "      <td>Working</td>\n",
              "      <td>Clear/Cloudy</td>\n",
              "      <td>0.200000</td>\n",
              "      <td>0.212122</td>\n",
              "      <td>0.590435</td>\n",
              "      <td>0.160296</td>\n",
              "      <td>108</td>\n",
              "      <td>1454</td>\n",
              "      <td>1562</td>\n",
              "    </tr>\n",
              "    <tr>\n",
              "      <th>4</th>\n",
              "      <td>5</td>\n",
              "      <td>2011-01-05</td>\n",
              "      <td>Spring</td>\n",
              "      <td>2011</td>\n",
              "      <td>1</td>\n",
              "      <td>Non Holiday</td>\n",
              "      <td>wednesday</td>\n",
              "      <td>Working</td>\n",
              "      <td>Clear/Cloudy</td>\n",
              "      <td>0.226957</td>\n",
              "      <td>0.229270</td>\n",
              "      <td>0.436957</td>\n",
              "      <td>0.186900</td>\n",
              "      <td>82</td>\n",
              "      <td>1518</td>\n",
              "      <td>1600</td>\n",
              "    </tr>\n",
              "  </tbody>\n",
              "</table>\n",
              "</div>"
            ],
            "text/plain": [
              "   instant     dteday  season    yr mnth      holiday    weekday  workingday  \\\n",
              "0        1 2011-01-01  Spring  2011    1  Non Holiday    Satuday  No Working   \n",
              "1        2 2011-01-02  Spring  2011    1  Non Holiday     Sunday  No Working   \n",
              "2        3 2011-01-03  Spring  2011    1  Non Holiday     Monday     Working   \n",
              "3        4 2011-01-04  Spring  2011    1  Non Holiday    Tuesday     Working   \n",
              "4        5 2011-01-05  Spring  2011    1  Non Holiday  wednesday     Working   \n",
              "\n",
              "     weathersit      temp     atemp       hum  windspeed  casual  registered  \\\n",
              "0   Mist/Cloudy  0.344167  0.363625  0.805833   0.160446     331         654   \n",
              "1   Mist/Cloudy  0.363478  0.353739  0.696087   0.248539     131         670   \n",
              "2  Clear/Cloudy  0.196364  0.189405  0.437273   0.248309     120        1229   \n",
              "3  Clear/Cloudy  0.200000  0.212122  0.590435   0.160296     108        1454   \n",
              "4  Clear/Cloudy  0.226957  0.229270  0.436957   0.186900      82        1518   \n",
              "\n",
              "    cnt  \n",
              "0   985  \n",
              "1   801  \n",
              "2  1349  \n",
              "3  1562  \n",
              "4  1600  "
            ]
          },
          "execution_count": 25,
          "metadata": {},
          "output_type": "execute_result"
        }
      ],
      "source": [
        "day_df['season'] = day_df['season']. map({\n",
        "    1:'Spring', 2:'Summer', 3:'Fall', 4:'Winter'\n",
        "})\n",
        "\n",
        "day_df['yr'] = day_df['yr']. map({\n",
        "    0 : '2011',\n",
        "    1 : '2012'\n",
        "})\n",
        "\n",
        "day_df['holiday'] = day_df['holiday'].map({\n",
        "    1 : 'Holiday',\n",
        "    0 : 'Non Holiday'\n",
        "})\n",
        "\n",
        "day_df['weekday'] = day_df['weekday'].map({\n",
        "    0 : 'Sunday',\n",
        "    1 : 'Monday',\n",
        "    2 : 'Tuesday',\n",
        "    3 : 'wednesday',\n",
        "    4 : 'Thursday',\n",
        "    5 : 'Friday',\n",
        "    6 : 'Satuday'\n",
        "})\n",
        "\n",
        "day_df['workingday'] = day_df['workingday'].map({\n",
        "    0 : 'No Working',\n",
        "    1 : 'Working'\n",
        "})\n",
        "\n",
        "day_df['weathersit'] = day_df['weathersit'].map({\n",
        "    1 : 'Clear/Cloudy',\n",
        "    2 : 'Mist/Cloudy',\n",
        "    3 : 'Light Rain/Light Snow',\n",
        "    4 : 'Heavy rain/Snow'\n",
        "})\n",
        "day_df.head()"
      ]
    },
    {
      "cell_type": "code",
      "execution_count": 26,
      "metadata": {
        "colab": {
          "base_uri": "https://localhost:8080/"
        },
        "id": "dVzLidhEPWj0",
        "outputId": "224e4143-544f-48f1-f711-a30fccc31811"
      },
      "outputs": [
        {
          "name": "stdout",
          "output_type": "stream",
          "text": [
            "<class 'pandas.core.frame.DataFrame'>\n",
            "RangeIndex: 17379 entries, 0 to 17378\n",
            "Data columns (total 17 columns):\n",
            " #   Column      Non-Null Count  Dtype         \n",
            "---  ------      --------------  -----         \n",
            " 0   instant     17379 non-null  int64         \n",
            " 1   dteday      17379 non-null  datetime64[ns]\n",
            " 2   season      17379 non-null  category      \n",
            " 3   yr          17379 non-null  category      \n",
            " 4   mnth        17379 non-null  category      \n",
            " 5   hr          17379 non-null  int64         \n",
            " 6   holiday     17379 non-null  category      \n",
            " 7   weekday     17379 non-null  category      \n",
            " 8   workingday  17379 non-null  category      \n",
            " 9   weathersit  17379 non-null  category      \n",
            " 10  temp        17379 non-null  float64       \n",
            " 11  atemp       17379 non-null  float64       \n",
            " 12  hum         17379 non-null  float64       \n",
            " 13  windspeed   17379 non-null  float64       \n",
            " 14  casual      17379 non-null  int64         \n",
            " 15  registered  17379 non-null  int64         \n",
            " 16  cnt         17379 non-null  int64         \n",
            "dtypes: category(7), datetime64[ns](1), float64(4), int64(5)\n",
            "memory usage: 1.4 MB\n"
          ]
        }
      ],
      "source": [
        "#Variabel dteday perlu diubah menjadi varibael yang bertipe datetime\n",
        "#Variabel season, yr, mnth, holiday, weekday, workingday, weathersit perlu diubah menjadi variabel yang bertipe category\n",
        "hour_df['dteday'] = pd.to_datetime(hour_df['dteday'])\n",
        "str_column = [\"season\", \"yr\", \"mnth\", \"holiday\", \"weekday\", \"workingday\", \"weathersit\"]\n",
        "for column in str_column:\n",
        "  hour_df[column] = hour_df[column].astype('category')\n",
        "hour_df.info()"
      ]
    },
    {
      "cell_type": "code",
      "execution_count": 27,
      "metadata": {
        "colab": {
          "base_uri": "https://localhost:8080/",
          "height": 206
        },
        "id": "wTWMxxU3PaD0",
        "outputId": "3bcfd91b-2c2e-4bf5-99dc-02e49912a176"
      },
      "outputs": [
        {
          "data": {
            "text/html": [
              "<div>\n",
              "<style scoped>\n",
              "    .dataframe tbody tr th:only-of-type {\n",
              "        vertical-align: middle;\n",
              "    }\n",
              "\n",
              "    .dataframe tbody tr th {\n",
              "        vertical-align: top;\n",
              "    }\n",
              "\n",
              "    .dataframe thead th {\n",
              "        text-align: right;\n",
              "    }\n",
              "</style>\n",
              "<table border=\"1\" class=\"dataframe\">\n",
              "  <thead>\n",
              "    <tr style=\"text-align: right;\">\n",
              "      <th></th>\n",
              "      <th>instant</th>\n",
              "      <th>dteday</th>\n",
              "      <th>season</th>\n",
              "      <th>yr</th>\n",
              "      <th>mnth</th>\n",
              "      <th>hr</th>\n",
              "      <th>holiday</th>\n",
              "      <th>weekday</th>\n",
              "      <th>workingday</th>\n",
              "      <th>weathersit</th>\n",
              "      <th>temp</th>\n",
              "      <th>atemp</th>\n",
              "      <th>hum</th>\n",
              "      <th>windspeed</th>\n",
              "      <th>casual</th>\n",
              "      <th>registered</th>\n",
              "      <th>cnt</th>\n",
              "    </tr>\n",
              "  </thead>\n",
              "  <tbody>\n",
              "    <tr>\n",
              "      <th>0</th>\n",
              "      <td>1</td>\n",
              "      <td>2011-01-01</td>\n",
              "      <td>Spring</td>\n",
              "      <td>2011</td>\n",
              "      <td>1</td>\n",
              "      <td>0</td>\n",
              "      <td>Non Holiday</td>\n",
              "      <td>Satuday</td>\n",
              "      <td>No Working</td>\n",
              "      <td>Clear/Cloudy</td>\n",
              "      <td>0.24</td>\n",
              "      <td>0.2879</td>\n",
              "      <td>0.81</td>\n",
              "      <td>0.0</td>\n",
              "      <td>3</td>\n",
              "      <td>13</td>\n",
              "      <td>16</td>\n",
              "    </tr>\n",
              "    <tr>\n",
              "      <th>1</th>\n",
              "      <td>2</td>\n",
              "      <td>2011-01-01</td>\n",
              "      <td>Spring</td>\n",
              "      <td>2011</td>\n",
              "      <td>1</td>\n",
              "      <td>1</td>\n",
              "      <td>Non Holiday</td>\n",
              "      <td>Satuday</td>\n",
              "      <td>No Working</td>\n",
              "      <td>Clear/Cloudy</td>\n",
              "      <td>0.22</td>\n",
              "      <td>0.2727</td>\n",
              "      <td>0.80</td>\n",
              "      <td>0.0</td>\n",
              "      <td>8</td>\n",
              "      <td>32</td>\n",
              "      <td>40</td>\n",
              "    </tr>\n",
              "    <tr>\n",
              "      <th>2</th>\n",
              "      <td>3</td>\n",
              "      <td>2011-01-01</td>\n",
              "      <td>Spring</td>\n",
              "      <td>2011</td>\n",
              "      <td>1</td>\n",
              "      <td>2</td>\n",
              "      <td>Non Holiday</td>\n",
              "      <td>Satuday</td>\n",
              "      <td>No Working</td>\n",
              "      <td>Clear/Cloudy</td>\n",
              "      <td>0.22</td>\n",
              "      <td>0.2727</td>\n",
              "      <td>0.80</td>\n",
              "      <td>0.0</td>\n",
              "      <td>5</td>\n",
              "      <td>27</td>\n",
              "      <td>32</td>\n",
              "    </tr>\n",
              "    <tr>\n",
              "      <th>3</th>\n",
              "      <td>4</td>\n",
              "      <td>2011-01-01</td>\n",
              "      <td>Spring</td>\n",
              "      <td>2011</td>\n",
              "      <td>1</td>\n",
              "      <td>3</td>\n",
              "      <td>Non Holiday</td>\n",
              "      <td>Satuday</td>\n",
              "      <td>No Working</td>\n",
              "      <td>Clear/Cloudy</td>\n",
              "      <td>0.24</td>\n",
              "      <td>0.2879</td>\n",
              "      <td>0.75</td>\n",
              "      <td>0.0</td>\n",
              "      <td>3</td>\n",
              "      <td>10</td>\n",
              "      <td>13</td>\n",
              "    </tr>\n",
              "    <tr>\n",
              "      <th>4</th>\n",
              "      <td>5</td>\n",
              "      <td>2011-01-01</td>\n",
              "      <td>Spring</td>\n",
              "      <td>2011</td>\n",
              "      <td>1</td>\n",
              "      <td>4</td>\n",
              "      <td>Non Holiday</td>\n",
              "      <td>Satuday</td>\n",
              "      <td>No Working</td>\n",
              "      <td>Clear/Cloudy</td>\n",
              "      <td>0.24</td>\n",
              "      <td>0.2879</td>\n",
              "      <td>0.75</td>\n",
              "      <td>0.0</td>\n",
              "      <td>0</td>\n",
              "      <td>1</td>\n",
              "      <td>1</td>\n",
              "    </tr>\n",
              "  </tbody>\n",
              "</table>\n",
              "</div>"
            ],
            "text/plain": [
              "   instant     dteday  season    yr mnth  hr      holiday  weekday  \\\n",
              "0        1 2011-01-01  Spring  2011    1   0  Non Holiday  Satuday   \n",
              "1        2 2011-01-01  Spring  2011    1   1  Non Holiday  Satuday   \n",
              "2        3 2011-01-01  Spring  2011    1   2  Non Holiday  Satuday   \n",
              "3        4 2011-01-01  Spring  2011    1   3  Non Holiday  Satuday   \n",
              "4        5 2011-01-01  Spring  2011    1   4  Non Holiday  Satuday   \n",
              "\n",
              "   workingday    weathersit  temp   atemp   hum  windspeed  casual  \\\n",
              "0  No Working  Clear/Cloudy  0.24  0.2879  0.81        0.0       3   \n",
              "1  No Working  Clear/Cloudy  0.22  0.2727  0.80        0.0       8   \n",
              "2  No Working  Clear/Cloudy  0.22  0.2727  0.80        0.0       5   \n",
              "3  No Working  Clear/Cloudy  0.24  0.2879  0.75        0.0       3   \n",
              "4  No Working  Clear/Cloudy  0.24  0.2879  0.75        0.0       0   \n",
              "\n",
              "   registered  cnt  \n",
              "0          13   16  \n",
              "1          32   40  \n",
              "2          27   32  \n",
              "3          10   13  \n",
              "4           1    1  "
            ]
          },
          "execution_count": 27,
          "metadata": {},
          "output_type": "execute_result"
        }
      ],
      "source": [
        "hour_df['season'] = hour_df['season']. map({\n",
        "    1:'Spring', 2:'Summer', 3:'Fall', 4:'Winter'\n",
        "})\n",
        "\n",
        "hour_df['yr'] = hour_df['yr']. map({\n",
        "    0 : '2011',\n",
        "    1 : '2012'\n",
        "})\n",
        "\n",
        "hour_df['holiday'] = hour_df['holiday'].map({\n",
        "    1 : 'Holiday',\n",
        "    0 : 'Non Holiday'\n",
        "})\n",
        "\n",
        "hour_df['weekday'] = hour_df['weekday'].map({\n",
        "    0 : 'Sunday',\n",
        "    1 : 'Monday',\n",
        "    2 : 'Tuesday',\n",
        "    3 : 'wednesday',\n",
        "    4 : 'Thursday',\n",
        "    5 : 'Friday',\n",
        "    6 : 'Satuday'\n",
        "})\n",
        "\n",
        "hour_df['workingday'] = hour_df['workingday'].map({\n",
        "    0 : 'No Working',\n",
        "    1 : 'Working'\n",
        "})\n",
        "\n",
        "hour_df['weathersit'] = hour_df['weathersit'].map({\n",
        "    1 : 'Clear/Cloudy',\n",
        "    2 : 'Mist/Cloudy',\n",
        "    3 : 'Light Rain/Light Snow',\n",
        "    4 : 'Heavy rain/Snow'\n",
        "})\n",
        "hour_df.head()"
      ]
    },
    {
      "cell_type": "markdown",
      "metadata": {
        "id": "mPCODCwUPzsy"
      },
      "source": [
        "## Exploratory Data Analysis (EDA)"
      ]
    },
    {
      "cell_type": "markdown",
      "metadata": {
        "id": "omeyKGHZP2qL"
      },
      "source": [
        "### Explore ..."
      ]
    },
    {
      "cell_type": "code",
      "execution_count": 28,
      "metadata": {
        "id": "zu46vR2tjAos"
      },
      "outputs": [],
      "source": [
        "day_df=pd.read_csv(\"day_final.csv\", delimiter=\",\")\n",
        "hour_df=pd.read_csv(\"hour_final.csv\", delimiter=\";\")"
      ]
    },
    {
      "cell_type": "markdown",
      "metadata": {
        "id": "YFRivr5_QRV_"
      },
      "source": [
        "## Exploratory Data Analysis (EDA)"
      ]
    },
    {
      "cell_type": "markdown",
      "metadata": {
        "id": "F0FwFOlNQWpT"
      },
      "source": [
        "### Explore ..."
      ]
    },
    {
      "cell_type": "code",
      "execution_count": 29,
      "metadata": {
        "colab": {
          "base_uri": "https://localhost:8080/",
          "height": 529
        },
        "id": "DBZnk0BaQUul",
        "outputId": "49109670-a2db-4a91-b6d6-279a82a0eed0"
      },
      "outputs": [
        {
          "data": {
            "text/html": [
              "<div>\n",
              "<style scoped>\n",
              "    .dataframe tbody tr th:only-of-type {\n",
              "        vertical-align: middle;\n",
              "    }\n",
              "\n",
              "    .dataframe tbody tr th {\n",
              "        vertical-align: top;\n",
              "    }\n",
              "\n",
              "    .dataframe thead th {\n",
              "        text-align: right;\n",
              "    }\n",
              "</style>\n",
              "<table border=\"1\" class=\"dataframe\">\n",
              "  <thead>\n",
              "    <tr style=\"text-align: right;\">\n",
              "      <th></th>\n",
              "      <th>Unnamed: 0</th>\n",
              "      <th>instant</th>\n",
              "      <th>yr</th>\n",
              "      <th>mnth</th>\n",
              "      <th>temp</th>\n",
              "      <th>atemp</th>\n",
              "      <th>hum</th>\n",
              "      <th>windspeed</th>\n",
              "      <th>casual</th>\n",
              "      <th>registered</th>\n",
              "      <th>cnt</th>\n",
              "    </tr>\n",
              "  </thead>\n",
              "  <tbody>\n",
              "    <tr>\n",
              "      <th>count</th>\n",
              "      <td>731.000000</td>\n",
              "      <td>731.000000</td>\n",
              "      <td>731.000000</td>\n",
              "      <td>731.000000</td>\n",
              "      <td>731.000000</td>\n",
              "      <td>731.000000</td>\n",
              "      <td>731.000000</td>\n",
              "      <td>731.000000</td>\n",
              "      <td>731.000000</td>\n",
              "      <td>731.000000</td>\n",
              "      <td>731.000000</td>\n",
              "    </tr>\n",
              "    <tr>\n",
              "      <th>mean</th>\n",
              "      <td>365.000000</td>\n",
              "      <td>366.000000</td>\n",
              "      <td>2011.500684</td>\n",
              "      <td>6.519836</td>\n",
              "      <td>0.495385</td>\n",
              "      <td>0.474354</td>\n",
              "      <td>0.627894</td>\n",
              "      <td>0.190486</td>\n",
              "      <td>848.176471</td>\n",
              "      <td>3656.172367</td>\n",
              "      <td>4504.348837</td>\n",
              "    </tr>\n",
              "    <tr>\n",
              "      <th>std</th>\n",
              "      <td>211.165812</td>\n",
              "      <td>211.165812</td>\n",
              "      <td>0.500342</td>\n",
              "      <td>3.451913</td>\n",
              "      <td>0.183051</td>\n",
              "      <td>0.162961</td>\n",
              "      <td>0.142429</td>\n",
              "      <td>0.077498</td>\n",
              "      <td>686.622488</td>\n",
              "      <td>1560.256377</td>\n",
              "      <td>1937.211452</td>\n",
              "    </tr>\n",
              "    <tr>\n",
              "      <th>min</th>\n",
              "      <td>0.000000</td>\n",
              "      <td>1.000000</td>\n",
              "      <td>2011.000000</td>\n",
              "      <td>1.000000</td>\n",
              "      <td>0.059130</td>\n",
              "      <td>0.079070</td>\n",
              "      <td>0.000000</td>\n",
              "      <td>0.022392</td>\n",
              "      <td>2.000000</td>\n",
              "      <td>20.000000</td>\n",
              "      <td>22.000000</td>\n",
              "    </tr>\n",
              "    <tr>\n",
              "      <th>25%</th>\n",
              "      <td>182.500000</td>\n",
              "      <td>183.500000</td>\n",
              "      <td>2011.000000</td>\n",
              "      <td>4.000000</td>\n",
              "      <td>0.337083</td>\n",
              "      <td>0.337842</td>\n",
              "      <td>0.520000</td>\n",
              "      <td>0.134950</td>\n",
              "      <td>315.500000</td>\n",
              "      <td>2497.000000</td>\n",
              "      <td>3152.000000</td>\n",
              "    </tr>\n",
              "    <tr>\n",
              "      <th>50%</th>\n",
              "      <td>365.000000</td>\n",
              "      <td>366.000000</td>\n",
              "      <td>2012.000000</td>\n",
              "      <td>7.000000</td>\n",
              "      <td>0.498333</td>\n",
              "      <td>0.486733</td>\n",
              "      <td>0.626667</td>\n",
              "      <td>0.180975</td>\n",
              "      <td>713.000000</td>\n",
              "      <td>3662.000000</td>\n",
              "      <td>4548.000000</td>\n",
              "    </tr>\n",
              "    <tr>\n",
              "      <th>75%</th>\n",
              "      <td>547.500000</td>\n",
              "      <td>548.500000</td>\n",
              "      <td>2012.000000</td>\n",
              "      <td>10.000000</td>\n",
              "      <td>0.655417</td>\n",
              "      <td>0.608602</td>\n",
              "      <td>0.730209</td>\n",
              "      <td>0.233214</td>\n",
              "      <td>1096.000000</td>\n",
              "      <td>4776.500000</td>\n",
              "      <td>5956.000000</td>\n",
              "    </tr>\n",
              "    <tr>\n",
              "      <th>max</th>\n",
              "      <td>730.000000</td>\n",
              "      <td>731.000000</td>\n",
              "      <td>2012.000000</td>\n",
              "      <td>12.000000</td>\n",
              "      <td>0.861667</td>\n",
              "      <td>0.840896</td>\n",
              "      <td>0.972500</td>\n",
              "      <td>0.507463</td>\n",
              "      <td>3410.000000</td>\n",
              "      <td>6946.000000</td>\n",
              "      <td>8714.000000</td>\n",
              "    </tr>\n",
              "  </tbody>\n",
              "</table>\n",
              "</div>"
            ],
            "text/plain": [
              "       Unnamed: 0     instant           yr        mnth        temp  \\\n",
              "count  731.000000  731.000000   731.000000  731.000000  731.000000   \n",
              "mean   365.000000  366.000000  2011.500684    6.519836    0.495385   \n",
              "std    211.165812  211.165812     0.500342    3.451913    0.183051   \n",
              "min      0.000000    1.000000  2011.000000    1.000000    0.059130   \n",
              "25%    182.500000  183.500000  2011.000000    4.000000    0.337083   \n",
              "50%    365.000000  366.000000  2012.000000    7.000000    0.498333   \n",
              "75%    547.500000  548.500000  2012.000000   10.000000    0.655417   \n",
              "max    730.000000  731.000000  2012.000000   12.000000    0.861667   \n",
              "\n",
              "            atemp         hum   windspeed       casual   registered  \\\n",
              "count  731.000000  731.000000  731.000000   731.000000   731.000000   \n",
              "mean     0.474354    0.627894    0.190486   848.176471  3656.172367   \n",
              "std      0.162961    0.142429    0.077498   686.622488  1560.256377   \n",
              "min      0.079070    0.000000    0.022392     2.000000    20.000000   \n",
              "25%      0.337842    0.520000    0.134950   315.500000  2497.000000   \n",
              "50%      0.486733    0.626667    0.180975   713.000000  3662.000000   \n",
              "75%      0.608602    0.730209    0.233214  1096.000000  4776.500000   \n",
              "max      0.840896    0.972500    0.507463  3410.000000  6946.000000   \n",
              "\n",
              "               cnt  \n",
              "count   731.000000  \n",
              "mean   4504.348837  \n",
              "std    1937.211452  \n",
              "min      22.000000  \n",
              "25%    3152.000000  \n",
              "50%    4548.000000  \n",
              "75%    5956.000000  \n",
              "max    8714.000000  "
            ]
          },
          "execution_count": 29,
          "metadata": {},
          "output_type": "execute_result"
        }
      ],
      "source": [
        "# EDA pada day_df\n",
        "day_df.describe()"
      ]
    },
    {
      "cell_type": "code",
      "execution_count": 30,
      "metadata": {
        "colab": {
          "base_uri": "https://localhost:8080/",
          "height": 300
        },
        "id": "tqZ8nTnOQZd7",
        "outputId": "0f3f6177-0be7-4a53-d270-1d0ec673bc7a"
      },
      "outputs": [
        {
          "data": {
            "text/html": [
              "<div>\n",
              "<style scoped>\n",
              "    .dataframe tbody tr th:only-of-type {\n",
              "        vertical-align: middle;\n",
              "    }\n",
              "\n",
              "    .dataframe tbody tr th {\n",
              "        vertical-align: top;\n",
              "    }\n",
              "\n",
              "    .dataframe thead th {\n",
              "        text-align: right;\n",
              "    }\n",
              "</style>\n",
              "<table border=\"1\" class=\"dataframe\">\n",
              "  <thead>\n",
              "    <tr style=\"text-align: right;\">\n",
              "      <th></th>\n",
              "      <th>Unnamed: 0</th>\n",
              "      <th>instant</th>\n",
              "      <th>yr</th>\n",
              "      <th>mnth</th>\n",
              "      <th>hr</th>\n",
              "      <th>temp</th>\n",
              "      <th>atemp</th>\n",
              "      <th>hum</th>\n",
              "      <th>windspeed</th>\n",
              "      <th>casual</th>\n",
              "      <th>registered</th>\n",
              "      <th>cnt</th>\n",
              "    </tr>\n",
              "  </thead>\n",
              "  <tbody>\n",
              "    <tr>\n",
              "      <th>count</th>\n",
              "      <td>17379.0000</td>\n",
              "      <td>17379.0000</td>\n",
              "      <td>17379.000000</td>\n",
              "      <td>17379.000000</td>\n",
              "      <td>17379.000000</td>\n",
              "      <td>17379.000000</td>\n",
              "      <td>17379.000000</td>\n",
              "      <td>17379.000000</td>\n",
              "      <td>17379.000000</td>\n",
              "      <td>17379.000000</td>\n",
              "      <td>17379.000000</td>\n",
              "      <td>17379.000000</td>\n",
              "    </tr>\n",
              "    <tr>\n",
              "      <th>mean</th>\n",
              "      <td>8689.0000</td>\n",
              "      <td>8690.0000</td>\n",
              "      <td>2011.502561</td>\n",
              "      <td>6.537775</td>\n",
              "      <td>11.546752</td>\n",
              "      <td>0.496987</td>\n",
              "      <td>0.475775</td>\n",
              "      <td>0.627229</td>\n",
              "      <td>0.190098</td>\n",
              "      <td>35.676218</td>\n",
              "      <td>153.786869</td>\n",
              "      <td>189.463088</td>\n",
              "    </tr>\n",
              "    <tr>\n",
              "      <th>std</th>\n",
              "      <td>5017.0295</td>\n",
              "      <td>5017.0295</td>\n",
              "      <td>0.500008</td>\n",
              "      <td>3.438776</td>\n",
              "      <td>6.914405</td>\n",
              "      <td>0.192556</td>\n",
              "      <td>0.171850</td>\n",
              "      <td>0.192930</td>\n",
              "      <td>0.122340</td>\n",
              "      <td>49.305030</td>\n",
              "      <td>151.357286</td>\n",
              "      <td>181.387599</td>\n",
              "    </tr>\n",
              "    <tr>\n",
              "      <th>min</th>\n",
              "      <td>0.0000</td>\n",
              "      <td>1.0000</td>\n",
              "      <td>2011.000000</td>\n",
              "      <td>1.000000</td>\n",
              "      <td>0.000000</td>\n",
              "      <td>0.020000</td>\n",
              "      <td>0.000000</td>\n",
              "      <td>0.000000</td>\n",
              "      <td>0.000000</td>\n",
              "      <td>0.000000</td>\n",
              "      <td>0.000000</td>\n",
              "      <td>1.000000</td>\n",
              "    </tr>\n",
              "    <tr>\n",
              "      <th>25%</th>\n",
              "      <td>4344.5000</td>\n",
              "      <td>4345.5000</td>\n",
              "      <td>2011.000000</td>\n",
              "      <td>4.000000</td>\n",
              "      <td>6.000000</td>\n",
              "      <td>0.340000</td>\n",
              "      <td>0.333300</td>\n",
              "      <td>0.480000</td>\n",
              "      <td>0.104500</td>\n",
              "      <td>4.000000</td>\n",
              "      <td>34.000000</td>\n",
              "      <td>40.000000</td>\n",
              "    </tr>\n",
              "    <tr>\n",
              "      <th>50%</th>\n",
              "      <td>8689.0000</td>\n",
              "      <td>8690.0000</td>\n",
              "      <td>2012.000000</td>\n",
              "      <td>7.000000</td>\n",
              "      <td>12.000000</td>\n",
              "      <td>0.500000</td>\n",
              "      <td>0.484800</td>\n",
              "      <td>0.630000</td>\n",
              "      <td>0.194000</td>\n",
              "      <td>17.000000</td>\n",
              "      <td>115.000000</td>\n",
              "      <td>142.000000</td>\n",
              "    </tr>\n",
              "    <tr>\n",
              "      <th>75%</th>\n",
              "      <td>13033.5000</td>\n",
              "      <td>13034.5000</td>\n",
              "      <td>2012.000000</td>\n",
              "      <td>10.000000</td>\n",
              "      <td>18.000000</td>\n",
              "      <td>0.660000</td>\n",
              "      <td>0.621200</td>\n",
              "      <td>0.780000</td>\n",
              "      <td>0.253700</td>\n",
              "      <td>48.000000</td>\n",
              "      <td>220.000000</td>\n",
              "      <td>281.000000</td>\n",
              "    </tr>\n",
              "    <tr>\n",
              "      <th>max</th>\n",
              "      <td>17378.0000</td>\n",
              "      <td>17379.0000</td>\n",
              "      <td>2012.000000</td>\n",
              "      <td>12.000000</td>\n",
              "      <td>23.000000</td>\n",
              "      <td>1.000000</td>\n",
              "      <td>1.000000</td>\n",
              "      <td>1.000000</td>\n",
              "      <td>0.850700</td>\n",
              "      <td>367.000000</td>\n",
              "      <td>886.000000</td>\n",
              "      <td>977.000000</td>\n",
              "    </tr>\n",
              "  </tbody>\n",
              "</table>\n",
              "</div>"
            ],
            "text/plain": [
              "       Unnamed: 0     instant            yr          mnth            hr  \\\n",
              "count  17379.0000  17379.0000  17379.000000  17379.000000  17379.000000   \n",
              "mean    8689.0000   8690.0000   2011.502561      6.537775     11.546752   \n",
              "std     5017.0295   5017.0295      0.500008      3.438776      6.914405   \n",
              "min        0.0000      1.0000   2011.000000      1.000000      0.000000   \n",
              "25%     4344.5000   4345.5000   2011.000000      4.000000      6.000000   \n",
              "50%     8689.0000   8690.0000   2012.000000      7.000000     12.000000   \n",
              "75%    13033.5000  13034.5000   2012.000000     10.000000     18.000000   \n",
              "max    17378.0000  17379.0000   2012.000000     12.000000     23.000000   \n",
              "\n",
              "               temp         atemp           hum     windspeed        casual  \\\n",
              "count  17379.000000  17379.000000  17379.000000  17379.000000  17379.000000   \n",
              "mean       0.496987      0.475775      0.627229      0.190098     35.676218   \n",
              "std        0.192556      0.171850      0.192930      0.122340     49.305030   \n",
              "min        0.020000      0.000000      0.000000      0.000000      0.000000   \n",
              "25%        0.340000      0.333300      0.480000      0.104500      4.000000   \n",
              "50%        0.500000      0.484800      0.630000      0.194000     17.000000   \n",
              "75%        0.660000      0.621200      0.780000      0.253700     48.000000   \n",
              "max        1.000000      1.000000      1.000000      0.850700    367.000000   \n",
              "\n",
              "         registered           cnt  \n",
              "count  17379.000000  17379.000000  \n",
              "mean     153.786869    189.463088  \n",
              "std      151.357286    181.387599  \n",
              "min        0.000000      1.000000  \n",
              "25%       34.000000     40.000000  \n",
              "50%      115.000000    142.000000  \n",
              "75%      220.000000    281.000000  \n",
              "max      886.000000    977.000000  "
            ]
          },
          "execution_count": 30,
          "metadata": {},
          "output_type": "execute_result"
        }
      ],
      "source": [
        "# EDA pada hour_df\n",
        "hour_df.describe()"
      ]
    },
    {
      "cell_type": "markdown",
      "metadata": {
        "id": "N4WQAINoMQO-"
      },
      "source": [
        "### Assessing Data"
      ]
    },
    {
      "cell_type": "code",
      "execution_count": 31,
      "metadata": {
        "id": "cQ28FHzfi2nx"
      },
      "outputs": [],
      "source": [
        "day_df['dteday'] = pd.to_datetime(day_df['dteday'])\n",
        "str_column = [\"season\", \"yr\", \"mnth\", \"holiday\", \"weekday\", \"workingday\", \"weathersit\"]\n",
        "for column in str_column:\n",
        "  day_df[column] = day_df[column].astype('category')\n",
        "\n"
      ]
    },
    {
      "cell_type": "code",
      "execution_count": 32,
      "metadata": {
        "id": "3B9CxhmLUusN"
      },
      "outputs": [],
      "source": [
        "hour_df['dteday'] = pd.to_datetime(hour_df['dteday'])\n",
        "str_column = [\"season\", \"yr\", \"mnth\", \"holiday\",\"hr\", \"weekday\", \"workingday\", \"weathersit\"]\n",
        "for column in str_column:\n",
        "  hour_df[column] = hour_df[column].astype('category')"
      ]
    },
    {
      "cell_type": "code",
      "execution_count": 33,
      "metadata": {
        "id": "cvS4mH7sjI5U"
      },
      "outputs": [],
      "source": [
        "# 3. Helper Function Daily\n",
        "def create_daily_rental_df(df):\n",
        "  daily_rental_df = df.resample(rule = 'D', on='dteday').agg({\n",
        "    \"casual\" : \"sum\",\n",
        "    \"registered\" : \"sum\",\n",
        "    \"cnt\" : \"sum\"\n",
        "  })\n",
        "  return daily_rental_df"
      ]
    },
    {
      "cell_type": "code",
      "execution_count": 34,
      "metadata": {
        "id": "HA3wmR9TjLoI"
      },
      "outputs": [],
      "source": [
        "# 4.1 Helper Function Season\n",
        "def create_season_rental_df(df):\n",
        "  season_rental_df = df.groupby(by='season').agg({\n",
        "    \"casual\" : \"sum\",\n",
        "    \"registered\" : \"sum\",\n",
        "    \"cnt\" : \"sum\"\n",
        "})\n",
        "  season_rental_df = season_rental_df.reset_index()\n",
        "  return season_rental_df"
      ]
    },
    {
      "cell_type": "code",
      "execution_count": 35,
      "metadata": {
        "id": "6pZyW7BCjPoc"
      },
      "outputs": [],
      "source": [
        "# 4.2 Helper Function Weathersit\n",
        "def create_weathersit_rental_df(df):\n",
        "  weathersit_rental_df = df.groupby(by='weathersit').agg({\n",
        "    \"casual\" : \"sum\",\n",
        "    \"registered\" : \"sum\",\n",
        "    \"cnt\" : \"sum\",\n",
        "    \"temp\" : \"mean\",\n",
        "    \"atemp\" : \"mean\",\n",
        "    \"hum\" : \"mean\",\n",
        "    \"windspeed\" : \"mean\"\n",
        "})\n",
        "  weathersit_rental_df = weathersit_rental_df.reset_index()\n",
        "  return weathersit_rental_df\n"
      ]
    },
    {
      "cell_type": "code",
      "execution_count": 36,
      "metadata": {
        "id": "KBMXhZUBja7g"
      },
      "outputs": [],
      "source": [
        "# 5.1 Helper Functional weekday\n",
        "def create_weekday_rental_df(df):\n",
        "  weekday_rental_df = df.groupby(by='weekday').agg({\n",
        "    \"casual\" : \"sum\",\n",
        "    \"registered\" : \"sum\",\n",
        "    \"cnt\" : \"sum\"\n",
        "  })\n",
        "  weekday_rental_df = weekday_rental_df.reset_index()\n",
        "  return weekday_rental_df"
      ]
    },
    {
      "cell_type": "code",
      "execution_count": 37,
      "metadata": {
        "id": "zPVNWXqFjgqv"
      },
      "outputs": [],
      "source": [
        "# 5.2 Helper Functional workingday\n",
        "def create_workingday_rental_df(df):\n",
        "  workingday_rental_df = df.groupby(by='workingday').agg({\n",
        "    \"casual\" : \"sum\",\n",
        "    \"registered\" : \"sum\",\n",
        "    \"cnt\" : \"sum\"\n",
        "  })\n",
        "  workingday_rental_df = workingday_rental_df.reset_index()\n",
        "  return workingday_rental_df"
      ]
    },
    {
      "cell_type": "code",
      "execution_count": 38,
      "metadata": {
        "id": "Qj0Qm6tkjjoJ"
      },
      "outputs": [],
      "source": [
        "# 6. Helper Functional Hour\n",
        "def create_hourly_rental_df(df):\n",
        "  hourly_rental_df = df.groupby(by='hr').agg({\n",
        "    \"casual\" : \"sum\",\n",
        "    \"registered\" : \"sum\",\n",
        "    \"cnt\" : \"sum\",\n",
        "    \"temp\" : \"mean\",\n",
        "    \"atemp\" : \"mean\",\n",
        "    \"hum\" : \"mean\",\n",
        "    \"windspeed\" : \"mean\"\n",
        "  })\n",
        "  hourly_rental_df = hourly_rental_df.reset_index()\n",
        "  return hourly_rental_df\n"
      ]
    },
    {
      "cell_type": "code",
      "execution_count": 39,
      "metadata": {
        "id": "tYhz9KUBcs99"
      },
      "outputs": [],
      "source": [
        "# 7. Helper Function Hourly and daily\n",
        "def create_dailyhour_rental_df(df):\n",
        "   daily_hourly_rental_df=df.groupby(by=['weekday','hr']).agg({\n",
        "    \"casual\": \"sum\",\n",
        "    \"registered\": \"sum\",\n",
        "    \"cnt\":\"sum\",\n",
        "    \"temp\":\"mean\",\n",
        "    \"atemp\":\"mean\",\n",
        "    \"hum\":\"mean\",\n",
        "    \"windspeed\":\"mean\"\n",
        "    })\n",
        "   daily_hourly_rental_df = daily_hourly_rental_df.reset_index()\n",
        "   return daily_hourly_rental_df\n",
        "\n"
      ]
    },
    {
      "cell_type": "code",
      "execution_count": 40,
      "metadata": {
        "colab": {
          "base_uri": "https://localhost:8080/"
        },
        "id": "-9aXKDPVcwlZ",
        "outputId": "8ce586e4-4422-4e57-cab9-7cbf5ec1fdd8"
      },
      "outputs": [
        {
          "name": "stderr",
          "output_type": "stream",
          "text": [
            "2024-09-10 17:06:37.081 \n",
            "  \u001b[33m\u001b[1mWarning:\u001b[0m to view this Streamlit app on a browser, run it with the following\n",
            "  command:\n",
            "\n",
            "    streamlit run C:\\Users\\HP\\AppData\\Roaming\\Python\\Python312\\site-packages\\ipykernel_launcher.py [ARGUMENTS]\n"
          ]
        }
      ],
      "source": [
        "# Make Component Filter\n",
        "min_date = day_df[\"dteday\"].min()\n",
        "max_date = day_df[\"dteday\"].max()\n",
        "\n",
        "with st.sidebar:\n",
        "\n",
        "  st.title(\"Baik Sharing dataset\")\n",
        "  title_alignment=\"\"\"\n",
        "<style>\n",
        "#baik-sharing-datasets {\n",
        "  text-align: center\n",
        "}\n",
        "</style>\n",
        "  \"\"\"\n",
        "  st.markdown(title_alignment, unsafe_allow_html=True)\n",
        "  # Membuat logo perusahaan\n",
        "  left_co, cent_co,last_co = st.columns(3)\n",
        "  with cent_co:\n",
        "    st.image (\"https://cdn-icons-png.flaticon.com/128/1361/1361279.png\")\n"
      ]
    },
    {
      "cell_type": "code",
      "execution_count": 41,
      "metadata": {
        "colab": {
          "base_uri": "https://localhost:8080/"
        },
        "id": "OhFbGJ4Bc16J",
        "outputId": "43d0e081-771d-4e6b-ed28-f3b636818048"
      },
      "outputs": [],
      "source": [
        " # Mengambil start_date & end_date dari date_input\n",
        " start_date, end_date = st.date_input(\n",
        "     label='Rentang Waktu',min_value=min_date,\n",
        "     max_value=max_date,\n",
        "     value=[min_date, max_date]\n",
        " )\n"
      ]
    },
    {
      "cell_type": "code",
      "execution_count": 42,
      "metadata": {
        "id": "LLR4uaoLRBPJ"
      },
      "outputs": [],
      "source": [
        "main_df = day_df[(day_df[\"dteday\"] >= str(start_date))&\n",
        "                 (day_df[\"dteday\"] <= str(end_date))]\n",
        "hourly_df = hour_df[(hour_df[\"dteday\"] >= str(start_date))&\n",
        "                 (hour_df[\"dteday\"] <= str(end_date))]"
      ]
    },
    {
      "cell_type": "code",
      "execution_count": 43,
      "metadata": {
        "colab": {
          "base_uri": "https://localhost:8080/"
        },
        "id": "cLXYiYB1c8rr",
        "outputId": "81f850ac-eb6f-49e5-f4b8-d9bc35a127f2"
      },
      "outputs": [
        {
          "name": "stderr",
          "output_type": "stream",
          "text": [
            "C:\\Users\\HP\\AppData\\Local\\Temp\\ipykernel_24496\\2996078219.py:3: FutureWarning: The default of observed=False is deprecated and will be changed to True in a future version of pandas. Pass observed=False to retain current behavior or observed=True to adopt the future default and silence this warning.\n",
            "  season_rental_df = df.groupby(by='season').agg({\n",
            "C:\\Users\\HP\\AppData\\Local\\Temp\\ipykernel_24496\\2260710133.py:3: FutureWarning: The default of observed=False is deprecated and will be changed to True in a future version of pandas. Pass observed=False to retain current behavior or observed=True to adopt the future default and silence this warning.\n",
            "  weathersit_rental_df = df.groupby(by='weathersit').agg({\n",
            "C:\\Users\\HP\\AppData\\Local\\Temp\\ipykernel_24496\\3115952050.py:3: FutureWarning: The default of observed=False is deprecated and will be changed to True in a future version of pandas. Pass observed=False to retain current behavior or observed=True to adopt the future default and silence this warning.\n",
            "  weekday_rental_df = df.groupby(by='weekday').agg({\n",
            "C:\\Users\\HP\\AppData\\Local\\Temp\\ipykernel_24496\\3671179786.py:3: FutureWarning: The default of observed=False is deprecated and will be changed to True in a future version of pandas. Pass observed=False to retain current behavior or observed=True to adopt the future default and silence this warning.\n",
            "  workingday_rental_df = df.groupby(by='workingday').agg({\n",
            "C:\\Users\\HP\\AppData\\Local\\Temp\\ipykernel_24496\\1735036784.py:3: FutureWarning: The default of observed=False is deprecated and will be changed to True in a future version of pandas. Pass observed=False to retain current behavior or observed=True to adopt the future default and silence this warning.\n",
            "  hourly_rental_df = df.groupby(by='hr').agg({\n",
            "C:\\Users\\HP\\AppData\\Local\\Temp\\ipykernel_24496\\1209988593.py:3: FutureWarning: The default of observed=False is deprecated and will be changed to True in a future version of pandas. Pass observed=False to retain current behavior or observed=True to adopt the future default and silence this warning.\n",
            "  daily_hourly_rental_df=df.groupby(by=['weekday','hr']).agg({\n"
          ]
        }
      ],
      "source": [
        "daily_rented_df = create_daily_rental_df(main_df)\n",
        "season_rented_df = create_season_rental_df (main_df)\n",
        "weathersit_rented_df = create_weathersit_rental_df (main_df)\n",
        "weekday_rented_df = create_weekday_rental_df (main_df)\n",
        "workingday_rented_df = create_workingday_rental_df (main_df)\n",
        "hourly_rented_df = create_hourly_rental_df(hourly_df)\n",
        "dailyhour_rented_df = create_dailyhour_rental_df (hourly_df)"
      ]
    },
    {
      "cell_type": "markdown",
      "metadata": {
        "id": "TbYy6YmZQ7DY"
      },
      "source": [
        "## Visualization & Explanatory Analysis"
      ]
    },
    {
      "cell_type": "code",
      "execution_count": 44,
      "metadata": {
        "colab": {
          "base_uri": "https://localhost:8080/"
        },
        "id": "HW1n6n2gc8gM",
        "outputId": "6f70c3c2-f4c6-4664-b083-6496eb78e4b9"
      },
      "outputs": [],
      "source": [
        "st.header('Hasil Analisis Bike Sharing Dataset :Bike:')\n",
        "tab1, tab2, tab3 , tab4, tab5 = st.tabs([\"Conclusion Pertayaan 1\", \"Conclusion Pertayaan 2\", \"Conclusion Pertayaan 3\",\"Conclusion Pertayaan 4\", \"Conclusion Pertayaan 5\"])"
      ]
    },
    {
      "cell_type": "markdown",
      "metadata": {
        "id": "H_X8M6oNR8K5"
      },
      "source": [
        "### Pertayaan 1: Melihat Tren Jumlah Pengguna Tahun 2011-2012?"
      ]
    },
    {
      "cell_type": "code",
      "execution_count": 45,
      "metadata": {
        "colab": {
          "base_uri": "https://localhost:8080/"
        },
        "id": "50L2U0FZd4Se",
        "outputId": "9d38450d-799e-43f1-8b1a-435872663e92"
      },
      "outputs": [],
      "source": [
        "with tab1:\n",
        "    st.subheader('Pertayaan 1 : Melihat Tren Jumlah Pengguna Tahun 2011-2012?')\n",
        "    daily_rented_df = create_daily_rental_df(main_df)\n",
        "    st.write(daily_rented_df)\n",
        "    col1, col2, col3, = st.columns(3)\n",
        "    with col1:\n",
        "      daily_rental_df_casual = round(daily_rented_df.casual.mean(),1)\n",
        "      st.metric(\"Jumlah Pengguna Sepeda Casual Setiap Hari\", value=daily_rental_df_casual)\n",
        "    with col2:\n",
        "      daily_rental_df_registered = round(daily_rented_df.registered.mean(),2)\n",
        "      st.metric(\"Jumlah Pengguna Sepeda Registered Setiap Hari\", value=daily_rental_df_registered)\n",
        "    with col3:\n",
        "      daily_rental_df_cnt = round(daily_rented_df.cnt.mean(),2)\n",
        "      st.metric(\"Jumlah Pengguna Sepeda Cnt Setiap Hari\", value= daily_rental_df_cnt)\n"
      ]
    },
    {
      "cell_type": "code",
      "execution_count": 46,
      "metadata": {
        "id": "lZNwXjhdge3u"
      },
      "outputs": [],
      "source": [
        "daily_rented_df_plot = daily_rented_df.reset_index()"
      ]
    },
    {
      "cell_type": "code",
      "execution_count": 47,
      "metadata": {
        "id": "kajrWyl6i4OP"
      },
      "outputs": [],
      "source": [
        "def show_daily_rental_df_by_category(df, x, columns, title, colors_theme):\n",
        "  fig = px.line(daily_rented_df_plot, x=x, y=columns,\n",
        "                  color_discrete_sequence=colors_theme,\n",
        "              title=title\n",
        "              )\n",
        "  fig.show()"
      ]
    },
    {
      "cell_type": "code",
      "execution_count": 48,
      "metadata": {
        "colab": {
          "base_uri": "https://localhost:8080/",
          "height": 597
        },
        "id": "uJtk-3h0jQJY",
        "outputId": "5fe4d3a7-fffc-459f-9930-44e5bb4b692d"
      },
      "outputs": [
        {
          "data": {
            "application/vnd.plotly.v1+json": {
              "config": {
                "plotlyServerURL": "https://plot.ly"
              },
              "data": [
                {
                  "hovertemplate": "variable=casual<br>dteday=%{x}<br>value=%{y}<extra></extra>",
                  "legendgroup": "casual",
                  "line": {
                    "color": "red",
                    "dash": "solid"
                  },
                  "marker": {
                    "symbol": "circle"
                  },
                  "mode": "lines",
                  "name": "casual",
                  "showlegend": true,
                  "type": "scattergl",
                  "x": [
                    "2011-01-01T00:00:00",
                    "2011-01-02T00:00:00",
                    "2011-01-03T00:00:00",
                    "2011-01-04T00:00:00",
                    "2011-01-05T00:00:00",
                    "2011-01-06T00:00:00",
                    "2011-01-07T00:00:00",
                    "2011-01-08T00:00:00",
                    "2011-01-09T00:00:00",
                    "2011-01-10T00:00:00",
                    "2011-01-11T00:00:00",
                    "2011-01-12T00:00:00",
                    "2011-01-13T00:00:00",
                    "2011-01-14T00:00:00",
                    "2011-01-15T00:00:00",
                    "2011-01-16T00:00:00",
                    "2011-01-17T00:00:00",
                    "2011-01-18T00:00:00",
                    "2011-01-19T00:00:00",
                    "2011-01-20T00:00:00",
                    "2011-01-21T00:00:00",
                    "2011-01-22T00:00:00",
                    "2011-01-23T00:00:00",
                    "2011-01-24T00:00:00",
                    "2011-01-25T00:00:00",
                    "2011-01-26T00:00:00",
                    "2011-01-27T00:00:00",
                    "2011-01-28T00:00:00",
                    "2011-01-29T00:00:00",
                    "2011-01-30T00:00:00",
                    "2011-01-31T00:00:00",
                    "2011-02-01T00:00:00",
                    "2011-02-02T00:00:00",
                    "2011-02-03T00:00:00",
                    "2011-02-04T00:00:00",
                    "2011-02-05T00:00:00",
                    "2011-02-06T00:00:00",
                    "2011-02-07T00:00:00",
                    "2011-02-08T00:00:00",
                    "2011-02-09T00:00:00",
                    "2011-02-10T00:00:00",
                    "2011-02-11T00:00:00",
                    "2011-02-12T00:00:00",
                    "2011-02-13T00:00:00",
                    "2011-02-14T00:00:00",
                    "2011-02-15T00:00:00",
                    "2011-02-16T00:00:00",
                    "2011-02-17T00:00:00",
                    "2011-02-18T00:00:00",
                    "2011-02-19T00:00:00",
                    "2011-02-20T00:00:00",
                    "2011-02-21T00:00:00",
                    "2011-02-22T00:00:00",
                    "2011-02-23T00:00:00",
                    "2011-02-24T00:00:00",
                    "2011-02-25T00:00:00",
                    "2011-02-26T00:00:00",
                    "2011-02-27T00:00:00",
                    "2011-02-28T00:00:00",
                    "2011-03-01T00:00:00",
                    "2011-03-02T00:00:00",
                    "2011-03-03T00:00:00",
                    "2011-03-04T00:00:00",
                    "2011-03-05T00:00:00",
                    "2011-03-06T00:00:00",
                    "2011-03-07T00:00:00",
                    "2011-03-08T00:00:00",
                    "2011-03-09T00:00:00",
                    "2011-03-10T00:00:00",
                    "2011-03-11T00:00:00",
                    "2011-03-12T00:00:00",
                    "2011-03-13T00:00:00",
                    "2011-03-14T00:00:00",
                    "2011-03-15T00:00:00",
                    "2011-03-16T00:00:00",
                    "2011-03-17T00:00:00",
                    "2011-03-18T00:00:00",
                    "2011-03-19T00:00:00",
                    "2011-03-20T00:00:00",
                    "2011-03-21T00:00:00",
                    "2011-03-22T00:00:00",
                    "2011-03-23T00:00:00",
                    "2011-03-24T00:00:00",
                    "2011-03-25T00:00:00",
                    "2011-03-26T00:00:00",
                    "2011-03-27T00:00:00",
                    "2011-03-28T00:00:00",
                    "2011-03-29T00:00:00",
                    "2011-03-30T00:00:00",
                    "2011-03-31T00:00:00",
                    "2011-04-01T00:00:00",
                    "2011-04-02T00:00:00",
                    "2011-04-03T00:00:00",
                    "2011-04-04T00:00:00",
                    "2011-04-05T00:00:00",
                    "2011-04-06T00:00:00",
                    "2011-04-07T00:00:00",
                    "2011-04-08T00:00:00",
                    "2011-04-09T00:00:00",
                    "2011-04-10T00:00:00",
                    "2011-04-11T00:00:00",
                    "2011-04-12T00:00:00",
                    "2011-04-13T00:00:00",
                    "2011-04-14T00:00:00",
                    "2011-04-15T00:00:00",
                    "2011-04-16T00:00:00",
                    "2011-04-17T00:00:00",
                    "2011-04-18T00:00:00",
                    "2011-04-19T00:00:00",
                    "2011-04-20T00:00:00",
                    "2011-04-21T00:00:00",
                    "2011-04-22T00:00:00",
                    "2011-04-23T00:00:00",
                    "2011-04-24T00:00:00",
                    "2011-04-25T00:00:00",
                    "2011-04-26T00:00:00",
                    "2011-04-27T00:00:00",
                    "2011-04-28T00:00:00",
                    "2011-04-29T00:00:00",
                    "2011-04-30T00:00:00",
                    "2011-05-01T00:00:00",
                    "2011-05-02T00:00:00",
                    "2011-05-03T00:00:00",
                    "2011-05-04T00:00:00",
                    "2011-05-05T00:00:00",
                    "2011-05-06T00:00:00",
                    "2011-05-07T00:00:00",
                    "2011-05-08T00:00:00",
                    "2011-05-09T00:00:00",
                    "2011-05-10T00:00:00",
                    "2011-05-11T00:00:00",
                    "2011-05-12T00:00:00",
                    "2011-05-13T00:00:00",
                    "2011-05-14T00:00:00",
                    "2011-05-15T00:00:00",
                    "2011-05-16T00:00:00",
                    "2011-05-17T00:00:00",
                    "2011-05-18T00:00:00",
                    "2011-05-19T00:00:00",
                    "2011-05-20T00:00:00",
                    "2011-05-21T00:00:00",
                    "2011-05-22T00:00:00",
                    "2011-05-23T00:00:00",
                    "2011-05-24T00:00:00",
                    "2011-05-25T00:00:00",
                    "2011-05-26T00:00:00",
                    "2011-05-27T00:00:00",
                    "2011-05-28T00:00:00",
                    "2011-05-29T00:00:00",
                    "2011-05-30T00:00:00",
                    "2011-05-31T00:00:00",
                    "2011-06-01T00:00:00",
                    "2011-06-02T00:00:00",
                    "2011-06-03T00:00:00",
                    "2011-06-04T00:00:00",
                    "2011-06-05T00:00:00",
                    "2011-06-06T00:00:00",
                    "2011-06-07T00:00:00",
                    "2011-06-08T00:00:00",
                    "2011-06-09T00:00:00",
                    "2011-06-10T00:00:00",
                    "2011-06-11T00:00:00",
                    "2011-06-12T00:00:00",
                    "2011-06-13T00:00:00",
                    "2011-06-14T00:00:00",
                    "2011-06-15T00:00:00",
                    "2011-06-16T00:00:00",
                    "2011-06-17T00:00:00",
                    "2011-06-18T00:00:00",
                    "2011-06-19T00:00:00",
                    "2011-06-20T00:00:00",
                    "2011-06-21T00:00:00",
                    "2011-06-22T00:00:00",
                    "2011-06-23T00:00:00",
                    "2011-06-24T00:00:00",
                    "2011-06-25T00:00:00",
                    "2011-06-26T00:00:00",
                    "2011-06-27T00:00:00",
                    "2011-06-28T00:00:00",
                    "2011-06-29T00:00:00",
                    "2011-06-30T00:00:00",
                    "2011-07-01T00:00:00",
                    "2011-07-02T00:00:00",
                    "2011-07-03T00:00:00",
                    "2011-07-04T00:00:00",
                    "2011-07-05T00:00:00",
                    "2011-07-06T00:00:00",
                    "2011-07-07T00:00:00",
                    "2011-07-08T00:00:00",
                    "2011-07-09T00:00:00",
                    "2011-07-10T00:00:00",
                    "2011-07-11T00:00:00",
                    "2011-07-12T00:00:00",
                    "2011-07-13T00:00:00",
                    "2011-07-14T00:00:00",
                    "2011-07-15T00:00:00",
                    "2011-07-16T00:00:00",
                    "2011-07-17T00:00:00",
                    "2011-07-18T00:00:00",
                    "2011-07-19T00:00:00",
                    "2011-07-20T00:00:00",
                    "2011-07-21T00:00:00",
                    "2011-07-22T00:00:00",
                    "2011-07-23T00:00:00",
                    "2011-07-24T00:00:00",
                    "2011-07-25T00:00:00",
                    "2011-07-26T00:00:00",
                    "2011-07-27T00:00:00",
                    "2011-07-28T00:00:00",
                    "2011-07-29T00:00:00",
                    "2011-07-30T00:00:00",
                    "2011-07-31T00:00:00",
                    "2011-08-01T00:00:00",
                    "2011-08-02T00:00:00",
                    "2011-08-03T00:00:00",
                    "2011-08-04T00:00:00",
                    "2011-08-05T00:00:00",
                    "2011-08-06T00:00:00",
                    "2011-08-07T00:00:00",
                    "2011-08-08T00:00:00",
                    "2011-08-09T00:00:00",
                    "2011-08-10T00:00:00",
                    "2011-08-11T00:00:00",
                    "2011-08-12T00:00:00",
                    "2011-08-13T00:00:00",
                    "2011-08-14T00:00:00",
                    "2011-08-15T00:00:00",
                    "2011-08-16T00:00:00",
                    "2011-08-17T00:00:00",
                    "2011-08-18T00:00:00",
                    "2011-08-19T00:00:00",
                    "2011-08-20T00:00:00",
                    "2011-08-21T00:00:00",
                    "2011-08-22T00:00:00",
                    "2011-08-23T00:00:00",
                    "2011-08-24T00:00:00",
                    "2011-08-25T00:00:00",
                    "2011-08-26T00:00:00",
                    "2011-08-27T00:00:00",
                    "2011-08-28T00:00:00",
                    "2011-08-29T00:00:00",
                    "2011-08-30T00:00:00",
                    "2011-08-31T00:00:00",
                    "2011-09-01T00:00:00",
                    "2011-09-02T00:00:00",
                    "2011-09-03T00:00:00",
                    "2011-09-04T00:00:00",
                    "2011-09-05T00:00:00",
                    "2011-09-06T00:00:00",
                    "2011-09-07T00:00:00",
                    "2011-09-08T00:00:00",
                    "2011-09-09T00:00:00",
                    "2011-09-10T00:00:00",
                    "2011-09-11T00:00:00",
                    "2011-09-12T00:00:00",
                    "2011-09-13T00:00:00",
                    "2011-09-14T00:00:00",
                    "2011-09-15T00:00:00",
                    "2011-09-16T00:00:00",
                    "2011-09-17T00:00:00",
                    "2011-09-18T00:00:00",
                    "2011-09-19T00:00:00",
                    "2011-09-20T00:00:00",
                    "2011-09-21T00:00:00",
                    "2011-09-22T00:00:00",
                    "2011-09-23T00:00:00",
                    "2011-09-24T00:00:00",
                    "2011-09-25T00:00:00",
                    "2011-09-26T00:00:00",
                    "2011-09-27T00:00:00",
                    "2011-09-28T00:00:00",
                    "2011-09-29T00:00:00",
                    "2011-09-30T00:00:00",
                    "2011-10-01T00:00:00",
                    "2011-10-02T00:00:00",
                    "2011-10-03T00:00:00",
                    "2011-10-04T00:00:00",
                    "2011-10-05T00:00:00",
                    "2011-10-06T00:00:00",
                    "2011-10-07T00:00:00",
                    "2011-10-08T00:00:00",
                    "2011-10-09T00:00:00",
                    "2011-10-10T00:00:00",
                    "2011-10-11T00:00:00",
                    "2011-10-12T00:00:00",
                    "2011-10-13T00:00:00",
                    "2011-10-14T00:00:00",
                    "2011-10-15T00:00:00",
                    "2011-10-16T00:00:00",
                    "2011-10-17T00:00:00",
                    "2011-10-18T00:00:00",
                    "2011-10-19T00:00:00",
                    "2011-10-20T00:00:00",
                    "2011-10-21T00:00:00",
                    "2011-10-22T00:00:00",
                    "2011-10-23T00:00:00",
                    "2011-10-24T00:00:00",
                    "2011-10-25T00:00:00",
                    "2011-10-26T00:00:00",
                    "2011-10-27T00:00:00",
                    "2011-10-28T00:00:00",
                    "2011-10-29T00:00:00",
                    "2011-10-30T00:00:00",
                    "2011-10-31T00:00:00",
                    "2011-11-01T00:00:00",
                    "2011-11-02T00:00:00",
                    "2011-11-03T00:00:00",
                    "2011-11-04T00:00:00",
                    "2011-11-05T00:00:00",
                    "2011-11-06T00:00:00",
                    "2011-11-07T00:00:00",
                    "2011-11-08T00:00:00",
                    "2011-11-09T00:00:00",
                    "2011-11-10T00:00:00",
                    "2011-11-11T00:00:00",
                    "2011-11-12T00:00:00",
                    "2011-11-13T00:00:00",
                    "2011-11-14T00:00:00",
                    "2011-11-15T00:00:00",
                    "2011-11-16T00:00:00",
                    "2011-11-17T00:00:00",
                    "2011-11-18T00:00:00",
                    "2011-11-19T00:00:00",
                    "2011-11-20T00:00:00",
                    "2011-11-21T00:00:00",
                    "2011-11-22T00:00:00",
                    "2011-11-23T00:00:00",
                    "2011-11-24T00:00:00",
                    "2011-11-25T00:00:00",
                    "2011-11-26T00:00:00",
                    "2011-11-27T00:00:00",
                    "2011-11-28T00:00:00",
                    "2011-11-29T00:00:00",
                    "2011-11-30T00:00:00",
                    "2011-12-01T00:00:00",
                    "2011-12-02T00:00:00",
                    "2011-12-03T00:00:00",
                    "2011-12-04T00:00:00",
                    "2011-12-05T00:00:00",
                    "2011-12-06T00:00:00",
                    "2011-12-07T00:00:00",
                    "2011-12-08T00:00:00",
                    "2011-12-09T00:00:00",
                    "2011-12-10T00:00:00",
                    "2011-12-11T00:00:00",
                    "2011-12-12T00:00:00",
                    "2011-12-13T00:00:00",
                    "2011-12-14T00:00:00",
                    "2011-12-15T00:00:00",
                    "2011-12-16T00:00:00",
                    "2011-12-17T00:00:00",
                    "2011-12-18T00:00:00",
                    "2011-12-19T00:00:00",
                    "2011-12-20T00:00:00",
                    "2011-12-21T00:00:00",
                    "2011-12-22T00:00:00",
                    "2011-12-23T00:00:00",
                    "2011-12-24T00:00:00",
                    "2011-12-25T00:00:00",
                    "2011-12-26T00:00:00",
                    "2011-12-27T00:00:00",
                    "2011-12-28T00:00:00",
                    "2011-12-29T00:00:00",
                    "2011-12-30T00:00:00",
                    "2011-12-31T00:00:00",
                    "2012-01-01T00:00:00",
                    "2012-01-02T00:00:00",
                    "2012-01-03T00:00:00",
                    "2012-01-04T00:00:00",
                    "2012-01-05T00:00:00",
                    "2012-01-06T00:00:00",
                    "2012-01-07T00:00:00",
                    "2012-01-08T00:00:00",
                    "2012-01-09T00:00:00",
                    "2012-01-10T00:00:00",
                    "2012-01-11T00:00:00",
                    "2012-01-12T00:00:00",
                    "2012-01-13T00:00:00",
                    "2012-01-14T00:00:00",
                    "2012-01-15T00:00:00",
                    "2012-01-16T00:00:00",
                    "2012-01-17T00:00:00",
                    "2012-01-18T00:00:00",
                    "2012-01-19T00:00:00",
                    "2012-01-20T00:00:00",
                    "2012-01-21T00:00:00",
                    "2012-01-22T00:00:00",
                    "2012-01-23T00:00:00",
                    "2012-01-24T00:00:00",
                    "2012-01-25T00:00:00",
                    "2012-01-26T00:00:00",
                    "2012-01-27T00:00:00",
                    "2012-01-28T00:00:00",
                    "2012-01-29T00:00:00",
                    "2012-01-30T00:00:00",
                    "2012-01-31T00:00:00",
                    "2012-02-01T00:00:00",
                    "2012-02-02T00:00:00",
                    "2012-02-03T00:00:00",
                    "2012-02-04T00:00:00",
                    "2012-02-05T00:00:00",
                    "2012-02-06T00:00:00",
                    "2012-02-07T00:00:00",
                    "2012-02-08T00:00:00",
                    "2012-02-09T00:00:00",
                    "2012-02-10T00:00:00",
                    "2012-02-11T00:00:00",
                    "2012-02-12T00:00:00",
                    "2012-02-13T00:00:00",
                    "2012-02-14T00:00:00",
                    "2012-02-15T00:00:00",
                    "2012-02-16T00:00:00",
                    "2012-02-17T00:00:00",
                    "2012-02-18T00:00:00",
                    "2012-02-19T00:00:00",
                    "2012-02-20T00:00:00",
                    "2012-02-21T00:00:00",
                    "2012-02-22T00:00:00",
                    "2012-02-23T00:00:00",
                    "2012-02-24T00:00:00",
                    "2012-02-25T00:00:00",
                    "2012-02-26T00:00:00",
                    "2012-02-27T00:00:00",
                    "2012-02-28T00:00:00",
                    "2012-02-29T00:00:00",
                    "2012-03-01T00:00:00",
                    "2012-03-02T00:00:00",
                    "2012-03-03T00:00:00",
                    "2012-03-04T00:00:00",
                    "2012-03-05T00:00:00",
                    "2012-03-06T00:00:00",
                    "2012-03-07T00:00:00",
                    "2012-03-08T00:00:00",
                    "2012-03-09T00:00:00",
                    "2012-03-10T00:00:00",
                    "2012-03-11T00:00:00",
                    "2012-03-12T00:00:00",
                    "2012-03-13T00:00:00",
                    "2012-03-14T00:00:00",
                    "2012-03-15T00:00:00",
                    "2012-03-16T00:00:00",
                    "2012-03-17T00:00:00",
                    "2012-03-18T00:00:00",
                    "2012-03-19T00:00:00",
                    "2012-03-20T00:00:00",
                    "2012-03-21T00:00:00",
                    "2012-03-22T00:00:00",
                    "2012-03-23T00:00:00",
                    "2012-03-24T00:00:00",
                    "2012-03-25T00:00:00",
                    "2012-03-26T00:00:00",
                    "2012-03-27T00:00:00",
                    "2012-03-28T00:00:00",
                    "2012-03-29T00:00:00",
                    "2012-03-30T00:00:00",
                    "2012-03-31T00:00:00",
                    "2012-04-01T00:00:00",
                    "2012-04-02T00:00:00",
                    "2012-04-03T00:00:00",
                    "2012-04-04T00:00:00",
                    "2012-04-05T00:00:00",
                    "2012-04-06T00:00:00",
                    "2012-04-07T00:00:00",
                    "2012-04-08T00:00:00",
                    "2012-04-09T00:00:00",
                    "2012-04-10T00:00:00",
                    "2012-04-11T00:00:00",
                    "2012-04-12T00:00:00",
                    "2012-04-13T00:00:00",
                    "2012-04-14T00:00:00",
                    "2012-04-15T00:00:00",
                    "2012-04-16T00:00:00",
                    "2012-04-17T00:00:00",
                    "2012-04-18T00:00:00",
                    "2012-04-19T00:00:00",
                    "2012-04-20T00:00:00",
                    "2012-04-21T00:00:00",
                    "2012-04-22T00:00:00",
                    "2012-04-23T00:00:00",
                    "2012-04-24T00:00:00",
                    "2012-04-25T00:00:00",
                    "2012-04-26T00:00:00",
                    "2012-04-27T00:00:00",
                    "2012-04-28T00:00:00",
                    "2012-04-29T00:00:00",
                    "2012-04-30T00:00:00",
                    "2012-05-01T00:00:00",
                    "2012-05-02T00:00:00",
                    "2012-05-03T00:00:00",
                    "2012-05-04T00:00:00",
                    "2012-05-05T00:00:00",
                    "2012-05-06T00:00:00",
                    "2012-05-07T00:00:00",
                    "2012-05-08T00:00:00",
                    "2012-05-09T00:00:00",
                    "2012-05-10T00:00:00",
                    "2012-05-11T00:00:00",
                    "2012-05-12T00:00:00",
                    "2012-05-13T00:00:00",
                    "2012-05-14T00:00:00",
                    "2012-05-15T00:00:00",
                    "2012-05-16T00:00:00",
                    "2012-05-17T00:00:00",
                    "2012-05-18T00:00:00",
                    "2012-05-19T00:00:00",
                    "2012-05-20T00:00:00",
                    "2012-05-21T00:00:00",
                    "2012-05-22T00:00:00",
                    "2012-05-23T00:00:00",
                    "2012-05-24T00:00:00",
                    "2012-05-25T00:00:00",
                    "2012-05-26T00:00:00",
                    "2012-05-27T00:00:00",
                    "2012-05-28T00:00:00",
                    "2012-05-29T00:00:00",
                    "2012-05-30T00:00:00",
                    "2012-05-31T00:00:00",
                    "2012-06-01T00:00:00",
                    "2012-06-02T00:00:00",
                    "2012-06-03T00:00:00",
                    "2012-06-04T00:00:00",
                    "2012-06-05T00:00:00",
                    "2012-06-06T00:00:00",
                    "2012-06-07T00:00:00",
                    "2012-06-08T00:00:00",
                    "2012-06-09T00:00:00",
                    "2012-06-10T00:00:00",
                    "2012-06-11T00:00:00",
                    "2012-06-12T00:00:00",
                    "2012-06-13T00:00:00",
                    "2012-06-14T00:00:00",
                    "2012-06-15T00:00:00",
                    "2012-06-16T00:00:00",
                    "2012-06-17T00:00:00",
                    "2012-06-18T00:00:00",
                    "2012-06-19T00:00:00",
                    "2012-06-20T00:00:00",
                    "2012-06-21T00:00:00",
                    "2012-06-22T00:00:00",
                    "2012-06-23T00:00:00",
                    "2012-06-24T00:00:00",
                    "2012-06-25T00:00:00",
                    "2012-06-26T00:00:00",
                    "2012-06-27T00:00:00",
                    "2012-06-28T00:00:00",
                    "2012-06-29T00:00:00",
                    "2012-06-30T00:00:00",
                    "2012-07-01T00:00:00",
                    "2012-07-02T00:00:00",
                    "2012-07-03T00:00:00",
                    "2012-07-04T00:00:00",
                    "2012-07-05T00:00:00",
                    "2012-07-06T00:00:00",
                    "2012-07-07T00:00:00",
                    "2012-07-08T00:00:00",
                    "2012-07-09T00:00:00",
                    "2012-07-10T00:00:00",
                    "2012-07-11T00:00:00",
                    "2012-07-12T00:00:00",
                    "2012-07-13T00:00:00",
                    "2012-07-14T00:00:00",
                    "2012-07-15T00:00:00",
                    "2012-07-16T00:00:00",
                    "2012-07-17T00:00:00",
                    "2012-07-18T00:00:00",
                    "2012-07-19T00:00:00",
                    "2012-07-20T00:00:00",
                    "2012-07-21T00:00:00",
                    "2012-07-22T00:00:00",
                    "2012-07-23T00:00:00",
                    "2012-07-24T00:00:00",
                    "2012-07-25T00:00:00",
                    "2012-07-26T00:00:00",
                    "2012-07-27T00:00:00",
                    "2012-07-28T00:00:00",
                    "2012-07-29T00:00:00",
                    "2012-07-30T00:00:00",
                    "2012-07-31T00:00:00",
                    "2012-08-01T00:00:00",
                    "2012-08-02T00:00:00",
                    "2012-08-03T00:00:00",
                    "2012-08-04T00:00:00",
                    "2012-08-05T00:00:00",
                    "2012-08-06T00:00:00",
                    "2012-08-07T00:00:00",
                    "2012-08-08T00:00:00",
                    "2012-08-09T00:00:00",
                    "2012-08-10T00:00:00",
                    "2012-08-11T00:00:00",
                    "2012-08-12T00:00:00",
                    "2012-08-13T00:00:00",
                    "2012-08-14T00:00:00",
                    "2012-08-15T00:00:00",
                    "2012-08-16T00:00:00",
                    "2012-08-17T00:00:00",
                    "2012-08-18T00:00:00",
                    "2012-08-19T00:00:00",
                    "2012-08-20T00:00:00",
                    "2012-08-21T00:00:00",
                    "2012-08-22T00:00:00",
                    "2012-08-23T00:00:00",
                    "2012-08-24T00:00:00",
                    "2012-08-25T00:00:00",
                    "2012-08-26T00:00:00",
                    "2012-08-27T00:00:00",
                    "2012-08-28T00:00:00",
                    "2012-08-29T00:00:00",
                    "2012-08-30T00:00:00",
                    "2012-08-31T00:00:00",
                    "2012-09-01T00:00:00",
                    "2012-09-02T00:00:00",
                    "2012-09-03T00:00:00",
                    "2012-09-04T00:00:00",
                    "2012-09-05T00:00:00",
                    "2012-09-06T00:00:00",
                    "2012-09-07T00:00:00",
                    "2012-09-08T00:00:00",
                    "2012-09-09T00:00:00",
                    "2012-09-10T00:00:00",
                    "2012-09-11T00:00:00",
                    "2012-09-12T00:00:00",
                    "2012-09-13T00:00:00",
                    "2012-09-14T00:00:00",
                    "2012-09-15T00:00:00",
                    "2012-09-16T00:00:00",
                    "2012-09-17T00:00:00",
                    "2012-09-18T00:00:00",
                    "2012-09-19T00:00:00",
                    "2012-09-20T00:00:00",
                    "2012-09-21T00:00:00",
                    "2012-09-22T00:00:00",
                    "2012-09-23T00:00:00",
                    "2012-09-24T00:00:00",
                    "2012-09-25T00:00:00",
                    "2012-09-26T00:00:00",
                    "2012-09-27T00:00:00",
                    "2012-09-28T00:00:00",
                    "2012-09-29T00:00:00",
                    "2012-09-30T00:00:00",
                    "2012-10-01T00:00:00",
                    "2012-10-02T00:00:00",
                    "2012-10-03T00:00:00",
                    "2012-10-04T00:00:00",
                    "2012-10-05T00:00:00",
                    "2012-10-06T00:00:00",
                    "2012-10-07T00:00:00",
                    "2012-10-08T00:00:00",
                    "2012-10-09T00:00:00",
                    "2012-10-10T00:00:00",
                    "2012-10-11T00:00:00",
                    "2012-10-12T00:00:00",
                    "2012-10-13T00:00:00",
                    "2012-10-14T00:00:00",
                    "2012-10-15T00:00:00",
                    "2012-10-16T00:00:00",
                    "2012-10-17T00:00:00",
                    "2012-10-18T00:00:00",
                    "2012-10-19T00:00:00",
                    "2012-10-20T00:00:00",
                    "2012-10-21T00:00:00",
                    "2012-10-22T00:00:00",
                    "2012-10-23T00:00:00",
                    "2012-10-24T00:00:00",
                    "2012-10-25T00:00:00",
                    "2012-10-26T00:00:00",
                    "2012-10-27T00:00:00",
                    "2012-10-28T00:00:00",
                    "2012-10-29T00:00:00",
                    "2012-10-30T00:00:00",
                    "2012-10-31T00:00:00",
                    "2012-11-01T00:00:00",
                    "2012-11-02T00:00:00",
                    "2012-11-03T00:00:00",
                    "2012-11-04T00:00:00",
                    "2012-11-05T00:00:00",
                    "2012-11-06T00:00:00",
                    "2012-11-07T00:00:00",
                    "2012-11-08T00:00:00",
                    "2012-11-09T00:00:00",
                    "2012-11-10T00:00:00",
                    "2012-11-11T00:00:00",
                    "2012-11-12T00:00:00",
                    "2012-11-13T00:00:00",
                    "2012-11-14T00:00:00",
                    "2012-11-15T00:00:00",
                    "2012-11-16T00:00:00",
                    "2012-11-17T00:00:00",
                    "2012-11-18T00:00:00",
                    "2012-11-19T00:00:00",
                    "2012-11-20T00:00:00",
                    "2012-11-21T00:00:00",
                    "2012-11-22T00:00:00",
                    "2012-11-23T00:00:00",
                    "2012-11-24T00:00:00",
                    "2012-11-25T00:00:00",
                    "2012-11-26T00:00:00",
                    "2012-11-27T00:00:00",
                    "2012-11-28T00:00:00",
                    "2012-11-29T00:00:00",
                    "2012-11-30T00:00:00",
                    "2012-12-01T00:00:00",
                    "2012-12-02T00:00:00",
                    "2012-12-03T00:00:00",
                    "2012-12-04T00:00:00",
                    "2012-12-05T00:00:00",
                    "2012-12-06T00:00:00",
                    "2012-12-07T00:00:00",
                    "2012-12-08T00:00:00",
                    "2012-12-09T00:00:00",
                    "2012-12-10T00:00:00",
                    "2012-12-11T00:00:00",
                    "2012-12-12T00:00:00",
                    "2012-12-13T00:00:00",
                    "2012-12-14T00:00:00",
                    "2012-12-15T00:00:00",
                    "2012-12-16T00:00:00",
                    "2012-12-17T00:00:00",
                    "2012-12-18T00:00:00",
                    "2012-12-19T00:00:00",
                    "2012-12-20T00:00:00",
                    "2012-12-21T00:00:00",
                    "2012-12-22T00:00:00",
                    "2012-12-23T00:00:00",
                    "2012-12-24T00:00:00",
                    "2012-12-25T00:00:00",
                    "2012-12-26T00:00:00",
                    "2012-12-27T00:00:00",
                    "2012-12-28T00:00:00",
                    "2012-12-29T00:00:00",
                    "2012-12-30T00:00:00",
                    "2012-12-31T00:00:00"
                  ],
                  "xaxis": "x",
                  "y": [
                    331,
                    131,
                    120,
                    108,
                    82,
                    88,
                    148,
                    68,
                    54,
                    41,
                    43,
                    25,
                    38,
                    54,
                    222,
                    251,
                    117,
                    9,
                    78,
                    83,
                    75,
                    93,
                    150,
                    86,
                    186,
                    34,
                    15,
                    38,
                    123,
                    140,
                    42,
                    47,
                    72,
                    61,
                    88,
                    100,
                    354,
                    120,
                    64,
                    53,
                    47,
                    149,
                    288,
                    397,
                    208,
                    140,
                    218,
                    259,
                    579,
                    532,
                    639,
                    195,
                    74,
                    139,
                    100,
                    120,
                    424,
                    694,
                    81,
                    137,
                    231,
                    123,
                    214,
                    640,
                    114,
                    244,
                    316,
                    191,
                    46,
                    247,
                    724,
                    982,
                    359,
                    289,
                    321,
                    424,
                    884,
                    1424,
                    1047,
                    401,
                    460,
                    203,
                    166,
                    300,
                    981,
                    472,
                    222,
                    317,
                    168,
                    179,
                    307,
                    898,
                    1651,
                    734,
                    167,
                    413,
                    571,
                    172,
                    879,
                    1188,
                    855,
                    257,
                    209,
                    529,
                    642,
                    121,
                    1558,
                    669,
                    409,
                    613,
                    745,
                    177,
                    1462,
                    1710,
                    773,
                    678,
                    547,
                    569,
                    878,
                    1965,
                    1138,
                    847,
                    603,
                    255,
                    614,
                    894,
                    1612,
                    1401,
                    664,
                    694,
                    550,
                    695,
                    692,
                    902,
                    1582,
                    773,
                    678,
                    536,
                    735,
                    909,
                    2258,
                    1576,
                    836,
                    659,
                    740,
                    758,
                    871,
                    2001,
                    2355,
                    1549,
                    673,
                    513,
                    736,
                    898,
                    1869,
                    1685,
                    673,
                    763,
                    676,
                    563,
                    815,
                    1729,
                    1467,
                    863,
                    727,
                    769,
                    545,
                    863,
                    1807,
                    1639,
                    699,
                    774,
                    661,
                    746,
                    969,
                    1782,
                    1920,
                    854,
                    732,
                    848,
                    1027,
                    1246,
                    2204,
                    2282,
                    3065,
                    1031,
                    784,
                    754,
                    692,
                    1988,
                    1743,
                    723,
                    662,
                    748,
                    888,
                    1318,
                    2418,
                    2006,
                    841,
                    752,
                    644,
                    632,
                    562,
                    987,
                    1050,
                    568,
                    750,
                    755,
                    606,
                    670,
                    1559,
                    1524,
                    729,
                    801,
                    467,
                    799,
                    1023,
                    1521,
                    1298,
                    846,
                    907,
                    884,
                    812,
                    1051,
                    1504,
                    1338,
                    775,
                    721,
                    668,
                    639,
                    797,
                    1914,
                    1249,
                    833,
                    1281,
                    949,
                    435,
                    768,
                    226,
                    1415,
                    729,
                    775,
                    688,
                    783,
                    875,
                    1935,
                    2521,
                    1236,
                    204,
                    118,
                    153,
                    417,
                    1750,
                    1633,
                    690,
                    701,
                    647,
                    428,
                    742,
                    1434,
                    1353,
                    691,
                    438,
                    539,
                    555,
                    258,
                    1776,
                    1544,
                    684,
                    477,
                    480,
                    653,
                    830,
                    480,
                    616,
                    330,
                    486,
                    559,
                    639,
                    949,
                    2235,
                    2397,
                    1514,
                    667,
                    217,
                    290,
                    529,
                    1899,
                    1748,
                    713,
                    637,
                    254,
                    471,
                    676,
                    1499,
                    1619,
                    699,
                    695,
                    404,
                    240,
                    456,
                    57,
                    885,
                    362,
                    410,
                    370,
                    318,
                    470,
                    1156,
                    952,
                    373,
                    376,
                    305,
                    190,
                    440,
                    1275,
                    1004,
                    595,
                    449,
                    145,
                    139,
                    245,
                    943,
                    787,
                    220,
                    69,
                    112,
                    560,
                    1095,
                    1249,
                    810,
                    253,
                    96,
                    188,
                    182,
                    268,
                    706,
                    634,
                    233,
                    126,
                    50,
                    150,
                    261,
                    502,
                    377,
                    143,
                    155,
                    178,
                    181,
                    178,
                    275,
                    220,
                    260,
                    216,
                    107,
                    227,
                    163,
                    155,
                    303,
                    430,
                    103,
                    255,
                    254,
                    491,
                    665,
                    686,
                    244,
                    89,
                    95,
                    140,
                    307,
                    1070,
                    599,
                    106,
                    173,
                    92,
                    269,
                    174,
                    333,
                    284,
                    217,
                    127,
                    109,
                    130,
                    115,
                    67,
                    196,
                    145,
                    439,
                    467,
                    244,
                    269,
                    775,
                    558,
                    126,
                    324,
                    304,
                    190,
                    310,
                    384,
                    318,
                    206,
                    199,
                    109,
                    163,
                    227,
                    192,
                    73,
                    94,
                    135,
                    141,
                    74,
                    349,
                    1435,
                    618,
                    502,
                    163,
                    394,
                    516,
                    246,
                    317,
                    515,
                    253,
                    229,
                    65,
                    325,
                    246,
                    956,
                    710,
                    203,
                    221,
                    432,
                    486,
                    447,
                    968,
                    1658,
                    838,
                    762,
                    997,
                    1005,
                    548,
                    3155,
                    2207,
                    982,
                    1051,
                    1122,
                    1334,
                    2469,
                    1033,
                    1532,
                    795,
                    531,
                    674,
                    834,
                    796,
                    2301,
                    2347,
                    1208,
                    1348,
                    1058,
                    1192,
                    1807,
                    3252,
                    2230,
                    905,
                    819,
                    482,
                    663,
                    1252,
                    2795,
                    2846,
                    1198,
                    989,
                    347,
                    846,
                    1340,
                    2541,
                    120,
                    195,
                    518,
                    655,
                    475,
                    1014,
                    1120,
                    2229,
                    665,
                    653,
                    667,
                    764,
                    1069,
                    2496,
                    2135,
                    1008,
                    738,
                    620,
                    1026,
                    1319,
                    2622,
                    2172,
                    342,
                    625,
                    991,
                    1242,
                    1521,
                    3410,
                    2704,
                    630,
                    819,
                    766,
                    1059,
                    1417,
                    2855,
                    3283,
                    2557,
                    880,
                    745,
                    1100,
                    533,
                    2795,
                    2494,
                    1071,
                    968,
                    1027,
                    1038,
                    1488,
                    2708,
                    2224,
                    1017,
                    477,
                    1173,
                    1180,
                    1563,
                    2963,
                    2634,
                    653,
                    968,
                    872,
                    778,
                    964,
                    2657,
                    2551,
                    1139,
                    1077,
                    1077,
                    921,
                    829,
                    1455,
                    1421,
                    904,
                    1052,
                    2562,
                    1405,
                    1366,
                    1448,
                    1203,
                    998,
                    954,
                    975,
                    1032,
                    1511,
                    2355,
                    1920,
                    1088,
                    921,
                    799,
                    888,
                    747,
                    1264,
                    2544,
                    1135,
                    1140,
                    1383,
                    1036,
                    1259,
                    2234,
                    2153,
                    1040,
                    968,
                    1074,
                    983,
                    1328,
                    2345,
                    1707,
                    1233,
                    1278,
                    1263,
                    1196,
                    1065,
                    2247,
                    2182,
                    1207,
                    1128,
                    1198,
                    1338,
                    1483,
                    2827,
                    1208,
                    1026,
                    1081,
                    1094,
                    1363,
                    1325,
                    1829,
                    1483,
                    989,
                    935,
                    1177,
                    1172,
                    1433,
                    2352,
                    2613,
                    1965,
                    867,
                    832,
                    611,
                    1045,
                    1557,
                    2570,
                    1118,
                    1070,
                    1050,
                    1054,
                    1379,
                    3160,
                    2166,
                    1022,
                    371,
                    788,
                    939,
                    1250,
                    2512,
                    2454,
                    1001,
                    845,
                    787,
                    751,
                    1045,
                    2589,
                    2015,
                    763,
                    315,
                    728,
                    891,
                    1516,
                    3031,
                    781,
                    874,
                    601,
                    780,
                    834,
                    1060,
                    2252,
                    2080,
                    760,
                    922,
                    979,
                    1008,
                    753,
                    2806,
                    2132,
                    830,
                    841,
                    795,
                    875,
                    1182,
                    2643,
                    998,
                    2,
                    87,
                    419,
                    466,
                    618,
                    1029,
                    1201,
                    378,
                    466,
                    326,
                    340,
                    709,
                    2090,
                    2290,
                    1097,
                    327,
                    373,
                    320,
                    484,
                    1313,
                    922,
                    449,
                    534,
                    615,
                    955,
                    1603,
                    532,
                    309,
                    337,
                    123,
                    198,
                    243,
                    362,
                    951,
                    892,
                    555,
                    551,
                    331,
                    340,
                    349,
                    1153,
                    441,
                    329,
                    282,
                    310,
                    425,
                    429,
                    767,
                    538,
                    212,
                    433,
                    333,
                    314,
                    221,
                    205,
                    408,
                    174,
                    440,
                    9,
                    247,
                    644,
                    159,
                    364,
                    439
                  ],
                  "yaxis": "y"
                },
                {
                  "hovertemplate": "variable=registered<br>dteday=%{x}<br>value=%{y}<extra></extra>",
                  "legendgroup": "registered",
                  "line": {
                    "color": "yellow",
                    "dash": "solid"
                  },
                  "marker": {
                    "symbol": "circle"
                  },
                  "mode": "lines",
                  "name": "registered",
                  "showlegend": true,
                  "type": "scattergl",
                  "x": [
                    "2011-01-01T00:00:00",
                    "2011-01-02T00:00:00",
                    "2011-01-03T00:00:00",
                    "2011-01-04T00:00:00",
                    "2011-01-05T00:00:00",
                    "2011-01-06T00:00:00",
                    "2011-01-07T00:00:00",
                    "2011-01-08T00:00:00",
                    "2011-01-09T00:00:00",
                    "2011-01-10T00:00:00",
                    "2011-01-11T00:00:00",
                    "2011-01-12T00:00:00",
                    "2011-01-13T00:00:00",
                    "2011-01-14T00:00:00",
                    "2011-01-15T00:00:00",
                    "2011-01-16T00:00:00",
                    "2011-01-17T00:00:00",
                    "2011-01-18T00:00:00",
                    "2011-01-19T00:00:00",
                    "2011-01-20T00:00:00",
                    "2011-01-21T00:00:00",
                    "2011-01-22T00:00:00",
                    "2011-01-23T00:00:00",
                    "2011-01-24T00:00:00",
                    "2011-01-25T00:00:00",
                    "2011-01-26T00:00:00",
                    "2011-01-27T00:00:00",
                    "2011-01-28T00:00:00",
                    "2011-01-29T00:00:00",
                    "2011-01-30T00:00:00",
                    "2011-01-31T00:00:00",
                    "2011-02-01T00:00:00",
                    "2011-02-02T00:00:00",
                    "2011-02-03T00:00:00",
                    "2011-02-04T00:00:00",
                    "2011-02-05T00:00:00",
                    "2011-02-06T00:00:00",
                    "2011-02-07T00:00:00",
                    "2011-02-08T00:00:00",
                    "2011-02-09T00:00:00",
                    "2011-02-10T00:00:00",
                    "2011-02-11T00:00:00",
                    "2011-02-12T00:00:00",
                    "2011-02-13T00:00:00",
                    "2011-02-14T00:00:00",
                    "2011-02-15T00:00:00",
                    "2011-02-16T00:00:00",
                    "2011-02-17T00:00:00",
                    "2011-02-18T00:00:00",
                    "2011-02-19T00:00:00",
                    "2011-02-20T00:00:00",
                    "2011-02-21T00:00:00",
                    "2011-02-22T00:00:00",
                    "2011-02-23T00:00:00",
                    "2011-02-24T00:00:00",
                    "2011-02-25T00:00:00",
                    "2011-02-26T00:00:00",
                    "2011-02-27T00:00:00",
                    "2011-02-28T00:00:00",
                    "2011-03-01T00:00:00",
                    "2011-03-02T00:00:00",
                    "2011-03-03T00:00:00",
                    "2011-03-04T00:00:00",
                    "2011-03-05T00:00:00",
                    "2011-03-06T00:00:00",
                    "2011-03-07T00:00:00",
                    "2011-03-08T00:00:00",
                    "2011-03-09T00:00:00",
                    "2011-03-10T00:00:00",
                    "2011-03-11T00:00:00",
                    "2011-03-12T00:00:00",
                    "2011-03-13T00:00:00",
                    "2011-03-14T00:00:00",
                    "2011-03-15T00:00:00",
                    "2011-03-16T00:00:00",
                    "2011-03-17T00:00:00",
                    "2011-03-18T00:00:00",
                    "2011-03-19T00:00:00",
                    "2011-03-20T00:00:00",
                    "2011-03-21T00:00:00",
                    "2011-03-22T00:00:00",
                    "2011-03-23T00:00:00",
                    "2011-03-24T00:00:00",
                    "2011-03-25T00:00:00",
                    "2011-03-26T00:00:00",
                    "2011-03-27T00:00:00",
                    "2011-03-28T00:00:00",
                    "2011-03-29T00:00:00",
                    "2011-03-30T00:00:00",
                    "2011-03-31T00:00:00",
                    "2011-04-01T00:00:00",
                    "2011-04-02T00:00:00",
                    "2011-04-03T00:00:00",
                    "2011-04-04T00:00:00",
                    "2011-04-05T00:00:00",
                    "2011-04-06T00:00:00",
                    "2011-04-07T00:00:00",
                    "2011-04-08T00:00:00",
                    "2011-04-09T00:00:00",
                    "2011-04-10T00:00:00",
                    "2011-04-11T00:00:00",
                    "2011-04-12T00:00:00",
                    "2011-04-13T00:00:00",
                    "2011-04-14T00:00:00",
                    "2011-04-15T00:00:00",
                    "2011-04-16T00:00:00",
                    "2011-04-17T00:00:00",
                    "2011-04-18T00:00:00",
                    "2011-04-19T00:00:00",
                    "2011-04-20T00:00:00",
                    "2011-04-21T00:00:00",
                    "2011-04-22T00:00:00",
                    "2011-04-23T00:00:00",
                    "2011-04-24T00:00:00",
                    "2011-04-25T00:00:00",
                    "2011-04-26T00:00:00",
                    "2011-04-27T00:00:00",
                    "2011-04-28T00:00:00",
                    "2011-04-29T00:00:00",
                    "2011-04-30T00:00:00",
                    "2011-05-01T00:00:00",
                    "2011-05-02T00:00:00",
                    "2011-05-03T00:00:00",
                    "2011-05-04T00:00:00",
                    "2011-05-05T00:00:00",
                    "2011-05-06T00:00:00",
                    "2011-05-07T00:00:00",
                    "2011-05-08T00:00:00",
                    "2011-05-09T00:00:00",
                    "2011-05-10T00:00:00",
                    "2011-05-11T00:00:00",
                    "2011-05-12T00:00:00",
                    "2011-05-13T00:00:00",
                    "2011-05-14T00:00:00",
                    "2011-05-15T00:00:00",
                    "2011-05-16T00:00:00",
                    "2011-05-17T00:00:00",
                    "2011-05-18T00:00:00",
                    "2011-05-19T00:00:00",
                    "2011-05-20T00:00:00",
                    "2011-05-21T00:00:00",
                    "2011-05-22T00:00:00",
                    "2011-05-23T00:00:00",
                    "2011-05-24T00:00:00",
                    "2011-05-25T00:00:00",
                    "2011-05-26T00:00:00",
                    "2011-05-27T00:00:00",
                    "2011-05-28T00:00:00",
                    "2011-05-29T00:00:00",
                    "2011-05-30T00:00:00",
                    "2011-05-31T00:00:00",
                    "2011-06-01T00:00:00",
                    "2011-06-02T00:00:00",
                    "2011-06-03T00:00:00",
                    "2011-06-04T00:00:00",
                    "2011-06-05T00:00:00",
                    "2011-06-06T00:00:00",
                    "2011-06-07T00:00:00",
                    "2011-06-08T00:00:00",
                    "2011-06-09T00:00:00",
                    "2011-06-10T00:00:00",
                    "2011-06-11T00:00:00",
                    "2011-06-12T00:00:00",
                    "2011-06-13T00:00:00",
                    "2011-06-14T00:00:00",
                    "2011-06-15T00:00:00",
                    "2011-06-16T00:00:00",
                    "2011-06-17T00:00:00",
                    "2011-06-18T00:00:00",
                    "2011-06-19T00:00:00",
                    "2011-06-20T00:00:00",
                    "2011-06-21T00:00:00",
                    "2011-06-22T00:00:00",
                    "2011-06-23T00:00:00",
                    "2011-06-24T00:00:00",
                    "2011-06-25T00:00:00",
                    "2011-06-26T00:00:00",
                    "2011-06-27T00:00:00",
                    "2011-06-28T00:00:00",
                    "2011-06-29T00:00:00",
                    "2011-06-30T00:00:00",
                    "2011-07-01T00:00:00",
                    "2011-07-02T00:00:00",
                    "2011-07-03T00:00:00",
                    "2011-07-04T00:00:00",
                    "2011-07-05T00:00:00",
                    "2011-07-06T00:00:00",
                    "2011-07-07T00:00:00",
                    "2011-07-08T00:00:00",
                    "2011-07-09T00:00:00",
                    "2011-07-10T00:00:00",
                    "2011-07-11T00:00:00",
                    "2011-07-12T00:00:00",
                    "2011-07-13T00:00:00",
                    "2011-07-14T00:00:00",
                    "2011-07-15T00:00:00",
                    "2011-07-16T00:00:00",
                    "2011-07-17T00:00:00",
                    "2011-07-18T00:00:00",
                    "2011-07-19T00:00:00",
                    "2011-07-20T00:00:00",
                    "2011-07-21T00:00:00",
                    "2011-07-22T00:00:00",
                    "2011-07-23T00:00:00",
                    "2011-07-24T00:00:00",
                    "2011-07-25T00:00:00",
                    "2011-07-26T00:00:00",
                    "2011-07-27T00:00:00",
                    "2011-07-28T00:00:00",
                    "2011-07-29T00:00:00",
                    "2011-07-30T00:00:00",
                    "2011-07-31T00:00:00",
                    "2011-08-01T00:00:00",
                    "2011-08-02T00:00:00",
                    "2011-08-03T00:00:00",
                    "2011-08-04T00:00:00",
                    "2011-08-05T00:00:00",
                    "2011-08-06T00:00:00",
                    "2011-08-07T00:00:00",
                    "2011-08-08T00:00:00",
                    "2011-08-09T00:00:00",
                    "2011-08-10T00:00:00",
                    "2011-08-11T00:00:00",
                    "2011-08-12T00:00:00",
                    "2011-08-13T00:00:00",
                    "2011-08-14T00:00:00",
                    "2011-08-15T00:00:00",
                    "2011-08-16T00:00:00",
                    "2011-08-17T00:00:00",
                    "2011-08-18T00:00:00",
                    "2011-08-19T00:00:00",
                    "2011-08-20T00:00:00",
                    "2011-08-21T00:00:00",
                    "2011-08-22T00:00:00",
                    "2011-08-23T00:00:00",
                    "2011-08-24T00:00:00",
                    "2011-08-25T00:00:00",
                    "2011-08-26T00:00:00",
                    "2011-08-27T00:00:00",
                    "2011-08-28T00:00:00",
                    "2011-08-29T00:00:00",
                    "2011-08-30T00:00:00",
                    "2011-08-31T00:00:00",
                    "2011-09-01T00:00:00",
                    "2011-09-02T00:00:00",
                    "2011-09-03T00:00:00",
                    "2011-09-04T00:00:00",
                    "2011-09-05T00:00:00",
                    "2011-09-06T00:00:00",
                    "2011-09-07T00:00:00",
                    "2011-09-08T00:00:00",
                    "2011-09-09T00:00:00",
                    "2011-09-10T00:00:00",
                    "2011-09-11T00:00:00",
                    "2011-09-12T00:00:00",
                    "2011-09-13T00:00:00",
                    "2011-09-14T00:00:00",
                    "2011-09-15T00:00:00",
                    "2011-09-16T00:00:00",
                    "2011-09-17T00:00:00",
                    "2011-09-18T00:00:00",
                    "2011-09-19T00:00:00",
                    "2011-09-20T00:00:00",
                    "2011-09-21T00:00:00",
                    "2011-09-22T00:00:00",
                    "2011-09-23T00:00:00",
                    "2011-09-24T00:00:00",
                    "2011-09-25T00:00:00",
                    "2011-09-26T00:00:00",
                    "2011-09-27T00:00:00",
                    "2011-09-28T00:00:00",
                    "2011-09-29T00:00:00",
                    "2011-09-30T00:00:00",
                    "2011-10-01T00:00:00",
                    "2011-10-02T00:00:00",
                    "2011-10-03T00:00:00",
                    "2011-10-04T00:00:00",
                    "2011-10-05T00:00:00",
                    "2011-10-06T00:00:00",
                    "2011-10-07T00:00:00",
                    "2011-10-08T00:00:00",
                    "2011-10-09T00:00:00",
                    "2011-10-10T00:00:00",
                    "2011-10-11T00:00:00",
                    "2011-10-12T00:00:00",
                    "2011-10-13T00:00:00",
                    "2011-10-14T00:00:00",
                    "2011-10-15T00:00:00",
                    "2011-10-16T00:00:00",
                    "2011-10-17T00:00:00",
                    "2011-10-18T00:00:00",
                    "2011-10-19T00:00:00",
                    "2011-10-20T00:00:00",
                    "2011-10-21T00:00:00",
                    "2011-10-22T00:00:00",
                    "2011-10-23T00:00:00",
                    "2011-10-24T00:00:00",
                    "2011-10-25T00:00:00",
                    "2011-10-26T00:00:00",
                    "2011-10-27T00:00:00",
                    "2011-10-28T00:00:00",
                    "2011-10-29T00:00:00",
                    "2011-10-30T00:00:00",
                    "2011-10-31T00:00:00",
                    "2011-11-01T00:00:00",
                    "2011-11-02T00:00:00",
                    "2011-11-03T00:00:00",
                    "2011-11-04T00:00:00",
                    "2011-11-05T00:00:00",
                    "2011-11-06T00:00:00",
                    "2011-11-07T00:00:00",
                    "2011-11-08T00:00:00",
                    "2011-11-09T00:00:00",
                    "2011-11-10T00:00:00",
                    "2011-11-11T00:00:00",
                    "2011-11-12T00:00:00",
                    "2011-11-13T00:00:00",
                    "2011-11-14T00:00:00",
                    "2011-11-15T00:00:00",
                    "2011-11-16T00:00:00",
                    "2011-11-17T00:00:00",
                    "2011-11-18T00:00:00",
                    "2011-11-19T00:00:00",
                    "2011-11-20T00:00:00",
                    "2011-11-21T00:00:00",
                    "2011-11-22T00:00:00",
                    "2011-11-23T00:00:00",
                    "2011-11-24T00:00:00",
                    "2011-11-25T00:00:00",
                    "2011-11-26T00:00:00",
                    "2011-11-27T00:00:00",
                    "2011-11-28T00:00:00",
                    "2011-11-29T00:00:00",
                    "2011-11-30T00:00:00",
                    "2011-12-01T00:00:00",
                    "2011-12-02T00:00:00",
                    "2011-12-03T00:00:00",
                    "2011-12-04T00:00:00",
                    "2011-12-05T00:00:00",
                    "2011-12-06T00:00:00",
                    "2011-12-07T00:00:00",
                    "2011-12-08T00:00:00",
                    "2011-12-09T00:00:00",
                    "2011-12-10T00:00:00",
                    "2011-12-11T00:00:00",
                    "2011-12-12T00:00:00",
                    "2011-12-13T00:00:00",
                    "2011-12-14T00:00:00",
                    "2011-12-15T00:00:00",
                    "2011-12-16T00:00:00",
                    "2011-12-17T00:00:00",
                    "2011-12-18T00:00:00",
                    "2011-12-19T00:00:00",
                    "2011-12-20T00:00:00",
                    "2011-12-21T00:00:00",
                    "2011-12-22T00:00:00",
                    "2011-12-23T00:00:00",
                    "2011-12-24T00:00:00",
                    "2011-12-25T00:00:00",
                    "2011-12-26T00:00:00",
                    "2011-12-27T00:00:00",
                    "2011-12-28T00:00:00",
                    "2011-12-29T00:00:00",
                    "2011-12-30T00:00:00",
                    "2011-12-31T00:00:00",
                    "2012-01-01T00:00:00",
                    "2012-01-02T00:00:00",
                    "2012-01-03T00:00:00",
                    "2012-01-04T00:00:00",
                    "2012-01-05T00:00:00",
                    "2012-01-06T00:00:00",
                    "2012-01-07T00:00:00",
                    "2012-01-08T00:00:00",
                    "2012-01-09T00:00:00",
                    "2012-01-10T00:00:00",
                    "2012-01-11T00:00:00",
                    "2012-01-12T00:00:00",
                    "2012-01-13T00:00:00",
                    "2012-01-14T00:00:00",
                    "2012-01-15T00:00:00",
                    "2012-01-16T00:00:00",
                    "2012-01-17T00:00:00",
                    "2012-01-18T00:00:00",
                    "2012-01-19T00:00:00",
                    "2012-01-20T00:00:00",
                    "2012-01-21T00:00:00",
                    "2012-01-22T00:00:00",
                    "2012-01-23T00:00:00",
                    "2012-01-24T00:00:00",
                    "2012-01-25T00:00:00",
                    "2012-01-26T00:00:00",
                    "2012-01-27T00:00:00",
                    "2012-01-28T00:00:00",
                    "2012-01-29T00:00:00",
                    "2012-01-30T00:00:00",
                    "2012-01-31T00:00:00",
                    "2012-02-01T00:00:00",
                    "2012-02-02T00:00:00",
                    "2012-02-03T00:00:00",
                    "2012-02-04T00:00:00",
                    "2012-02-05T00:00:00",
                    "2012-02-06T00:00:00",
                    "2012-02-07T00:00:00",
                    "2012-02-08T00:00:00",
                    "2012-02-09T00:00:00",
                    "2012-02-10T00:00:00",
                    "2012-02-11T00:00:00",
                    "2012-02-12T00:00:00",
                    "2012-02-13T00:00:00",
                    "2012-02-14T00:00:00",
                    "2012-02-15T00:00:00",
                    "2012-02-16T00:00:00",
                    "2012-02-17T00:00:00",
                    "2012-02-18T00:00:00",
                    "2012-02-19T00:00:00",
                    "2012-02-20T00:00:00",
                    "2012-02-21T00:00:00",
                    "2012-02-22T00:00:00",
                    "2012-02-23T00:00:00",
                    "2012-02-24T00:00:00",
                    "2012-02-25T00:00:00",
                    "2012-02-26T00:00:00",
                    "2012-02-27T00:00:00",
                    "2012-02-28T00:00:00",
                    "2012-02-29T00:00:00",
                    "2012-03-01T00:00:00",
                    "2012-03-02T00:00:00",
                    "2012-03-03T00:00:00",
                    "2012-03-04T00:00:00",
                    "2012-03-05T00:00:00",
                    "2012-03-06T00:00:00",
                    "2012-03-07T00:00:00",
                    "2012-03-08T00:00:00",
                    "2012-03-09T00:00:00",
                    "2012-03-10T00:00:00",
                    "2012-03-11T00:00:00",
                    "2012-03-12T00:00:00",
                    "2012-03-13T00:00:00",
                    "2012-03-14T00:00:00",
                    "2012-03-15T00:00:00",
                    "2012-03-16T00:00:00",
                    "2012-03-17T00:00:00",
                    "2012-03-18T00:00:00",
                    "2012-03-19T00:00:00",
                    "2012-03-20T00:00:00",
                    "2012-03-21T00:00:00",
                    "2012-03-22T00:00:00",
                    "2012-03-23T00:00:00",
                    "2012-03-24T00:00:00",
                    "2012-03-25T00:00:00",
                    "2012-03-26T00:00:00",
                    "2012-03-27T00:00:00",
                    "2012-03-28T00:00:00",
                    "2012-03-29T00:00:00",
                    "2012-03-30T00:00:00",
                    "2012-03-31T00:00:00",
                    "2012-04-01T00:00:00",
                    "2012-04-02T00:00:00",
                    "2012-04-03T00:00:00",
                    "2012-04-04T00:00:00",
                    "2012-04-05T00:00:00",
                    "2012-04-06T00:00:00",
                    "2012-04-07T00:00:00",
                    "2012-04-08T00:00:00",
                    "2012-04-09T00:00:00",
                    "2012-04-10T00:00:00",
                    "2012-04-11T00:00:00",
                    "2012-04-12T00:00:00",
                    "2012-04-13T00:00:00",
                    "2012-04-14T00:00:00",
                    "2012-04-15T00:00:00",
                    "2012-04-16T00:00:00",
                    "2012-04-17T00:00:00",
                    "2012-04-18T00:00:00",
                    "2012-04-19T00:00:00",
                    "2012-04-20T00:00:00",
                    "2012-04-21T00:00:00",
                    "2012-04-22T00:00:00",
                    "2012-04-23T00:00:00",
                    "2012-04-24T00:00:00",
                    "2012-04-25T00:00:00",
                    "2012-04-26T00:00:00",
                    "2012-04-27T00:00:00",
                    "2012-04-28T00:00:00",
                    "2012-04-29T00:00:00",
                    "2012-04-30T00:00:00",
                    "2012-05-01T00:00:00",
                    "2012-05-02T00:00:00",
                    "2012-05-03T00:00:00",
                    "2012-05-04T00:00:00",
                    "2012-05-05T00:00:00",
                    "2012-05-06T00:00:00",
                    "2012-05-07T00:00:00",
                    "2012-05-08T00:00:00",
                    "2012-05-09T00:00:00",
                    "2012-05-10T00:00:00",
                    "2012-05-11T00:00:00",
                    "2012-05-12T00:00:00",
                    "2012-05-13T00:00:00",
                    "2012-05-14T00:00:00",
                    "2012-05-15T00:00:00",
                    "2012-05-16T00:00:00",
                    "2012-05-17T00:00:00",
                    "2012-05-18T00:00:00",
                    "2012-05-19T00:00:00",
                    "2012-05-20T00:00:00",
                    "2012-05-21T00:00:00",
                    "2012-05-22T00:00:00",
                    "2012-05-23T00:00:00",
                    "2012-05-24T00:00:00",
                    "2012-05-25T00:00:00",
                    "2012-05-26T00:00:00",
                    "2012-05-27T00:00:00",
                    "2012-05-28T00:00:00",
                    "2012-05-29T00:00:00",
                    "2012-05-30T00:00:00",
                    "2012-05-31T00:00:00",
                    "2012-06-01T00:00:00",
                    "2012-06-02T00:00:00",
                    "2012-06-03T00:00:00",
                    "2012-06-04T00:00:00",
                    "2012-06-05T00:00:00",
                    "2012-06-06T00:00:00",
                    "2012-06-07T00:00:00",
                    "2012-06-08T00:00:00",
                    "2012-06-09T00:00:00",
                    "2012-06-10T00:00:00",
                    "2012-06-11T00:00:00",
                    "2012-06-12T00:00:00",
                    "2012-06-13T00:00:00",
                    "2012-06-14T00:00:00",
                    "2012-06-15T00:00:00",
                    "2012-06-16T00:00:00",
                    "2012-06-17T00:00:00",
                    "2012-06-18T00:00:00",
                    "2012-06-19T00:00:00",
                    "2012-06-20T00:00:00",
                    "2012-06-21T00:00:00",
                    "2012-06-22T00:00:00",
                    "2012-06-23T00:00:00",
                    "2012-06-24T00:00:00",
                    "2012-06-25T00:00:00",
                    "2012-06-26T00:00:00",
                    "2012-06-27T00:00:00",
                    "2012-06-28T00:00:00",
                    "2012-06-29T00:00:00",
                    "2012-06-30T00:00:00",
                    "2012-07-01T00:00:00",
                    "2012-07-02T00:00:00",
                    "2012-07-03T00:00:00",
                    "2012-07-04T00:00:00",
                    "2012-07-05T00:00:00",
                    "2012-07-06T00:00:00",
                    "2012-07-07T00:00:00",
                    "2012-07-08T00:00:00",
                    "2012-07-09T00:00:00",
                    "2012-07-10T00:00:00",
                    "2012-07-11T00:00:00",
                    "2012-07-12T00:00:00",
                    "2012-07-13T00:00:00",
                    "2012-07-14T00:00:00",
                    "2012-07-15T00:00:00",
                    "2012-07-16T00:00:00",
                    "2012-07-17T00:00:00",
                    "2012-07-18T00:00:00",
                    "2012-07-19T00:00:00",
                    "2012-07-20T00:00:00",
                    "2012-07-21T00:00:00",
                    "2012-07-22T00:00:00",
                    "2012-07-23T00:00:00",
                    "2012-07-24T00:00:00",
                    "2012-07-25T00:00:00",
                    "2012-07-26T00:00:00",
                    "2012-07-27T00:00:00",
                    "2012-07-28T00:00:00",
                    "2012-07-29T00:00:00",
                    "2012-07-30T00:00:00",
                    "2012-07-31T00:00:00",
                    "2012-08-01T00:00:00",
                    "2012-08-02T00:00:00",
                    "2012-08-03T00:00:00",
                    "2012-08-04T00:00:00",
                    "2012-08-05T00:00:00",
                    "2012-08-06T00:00:00",
                    "2012-08-07T00:00:00",
                    "2012-08-08T00:00:00",
                    "2012-08-09T00:00:00",
                    "2012-08-10T00:00:00",
                    "2012-08-11T00:00:00",
                    "2012-08-12T00:00:00",
                    "2012-08-13T00:00:00",
                    "2012-08-14T00:00:00",
                    "2012-08-15T00:00:00",
                    "2012-08-16T00:00:00",
                    "2012-08-17T00:00:00",
                    "2012-08-18T00:00:00",
                    "2012-08-19T00:00:00",
                    "2012-08-20T00:00:00",
                    "2012-08-21T00:00:00",
                    "2012-08-22T00:00:00",
                    "2012-08-23T00:00:00",
                    "2012-08-24T00:00:00",
                    "2012-08-25T00:00:00",
                    "2012-08-26T00:00:00",
                    "2012-08-27T00:00:00",
                    "2012-08-28T00:00:00",
                    "2012-08-29T00:00:00",
                    "2012-08-30T00:00:00",
                    "2012-08-31T00:00:00",
                    "2012-09-01T00:00:00",
                    "2012-09-02T00:00:00",
                    "2012-09-03T00:00:00",
                    "2012-09-04T00:00:00",
                    "2012-09-05T00:00:00",
                    "2012-09-06T00:00:00",
                    "2012-09-07T00:00:00",
                    "2012-09-08T00:00:00",
                    "2012-09-09T00:00:00",
                    "2012-09-10T00:00:00",
                    "2012-09-11T00:00:00",
                    "2012-09-12T00:00:00",
                    "2012-09-13T00:00:00",
                    "2012-09-14T00:00:00",
                    "2012-09-15T00:00:00",
                    "2012-09-16T00:00:00",
                    "2012-09-17T00:00:00",
                    "2012-09-18T00:00:00",
                    "2012-09-19T00:00:00",
                    "2012-09-20T00:00:00",
                    "2012-09-21T00:00:00",
                    "2012-09-22T00:00:00",
                    "2012-09-23T00:00:00",
                    "2012-09-24T00:00:00",
                    "2012-09-25T00:00:00",
                    "2012-09-26T00:00:00",
                    "2012-09-27T00:00:00",
                    "2012-09-28T00:00:00",
                    "2012-09-29T00:00:00",
                    "2012-09-30T00:00:00",
                    "2012-10-01T00:00:00",
                    "2012-10-02T00:00:00",
                    "2012-10-03T00:00:00",
                    "2012-10-04T00:00:00",
                    "2012-10-05T00:00:00",
                    "2012-10-06T00:00:00",
                    "2012-10-07T00:00:00",
                    "2012-10-08T00:00:00",
                    "2012-10-09T00:00:00",
                    "2012-10-10T00:00:00",
                    "2012-10-11T00:00:00",
                    "2012-10-12T00:00:00",
                    "2012-10-13T00:00:00",
                    "2012-10-14T00:00:00",
                    "2012-10-15T00:00:00",
                    "2012-10-16T00:00:00",
                    "2012-10-17T00:00:00",
                    "2012-10-18T00:00:00",
                    "2012-10-19T00:00:00",
                    "2012-10-20T00:00:00",
                    "2012-10-21T00:00:00",
                    "2012-10-22T00:00:00",
                    "2012-10-23T00:00:00",
                    "2012-10-24T00:00:00",
                    "2012-10-25T00:00:00",
                    "2012-10-26T00:00:00",
                    "2012-10-27T00:00:00",
                    "2012-10-28T00:00:00",
                    "2012-10-29T00:00:00",
                    "2012-10-30T00:00:00",
                    "2012-10-31T00:00:00",
                    "2012-11-01T00:00:00",
                    "2012-11-02T00:00:00",
                    "2012-11-03T00:00:00",
                    "2012-11-04T00:00:00",
                    "2012-11-05T00:00:00",
                    "2012-11-06T00:00:00",
                    "2012-11-07T00:00:00",
                    "2012-11-08T00:00:00",
                    "2012-11-09T00:00:00",
                    "2012-11-10T00:00:00",
                    "2012-11-11T00:00:00",
                    "2012-11-12T00:00:00",
                    "2012-11-13T00:00:00",
                    "2012-11-14T00:00:00",
                    "2012-11-15T00:00:00",
                    "2012-11-16T00:00:00",
                    "2012-11-17T00:00:00",
                    "2012-11-18T00:00:00",
                    "2012-11-19T00:00:00",
                    "2012-11-20T00:00:00",
                    "2012-11-21T00:00:00",
                    "2012-11-22T00:00:00",
                    "2012-11-23T00:00:00",
                    "2012-11-24T00:00:00",
                    "2012-11-25T00:00:00",
                    "2012-11-26T00:00:00",
                    "2012-11-27T00:00:00",
                    "2012-11-28T00:00:00",
                    "2012-11-29T00:00:00",
                    "2012-11-30T00:00:00",
                    "2012-12-01T00:00:00",
                    "2012-12-02T00:00:00",
                    "2012-12-03T00:00:00",
                    "2012-12-04T00:00:00",
                    "2012-12-05T00:00:00",
                    "2012-12-06T00:00:00",
                    "2012-12-07T00:00:00",
                    "2012-12-08T00:00:00",
                    "2012-12-09T00:00:00",
                    "2012-12-10T00:00:00",
                    "2012-12-11T00:00:00",
                    "2012-12-12T00:00:00",
                    "2012-12-13T00:00:00",
                    "2012-12-14T00:00:00",
                    "2012-12-15T00:00:00",
                    "2012-12-16T00:00:00",
                    "2012-12-17T00:00:00",
                    "2012-12-18T00:00:00",
                    "2012-12-19T00:00:00",
                    "2012-12-20T00:00:00",
                    "2012-12-21T00:00:00",
                    "2012-12-22T00:00:00",
                    "2012-12-23T00:00:00",
                    "2012-12-24T00:00:00",
                    "2012-12-25T00:00:00",
                    "2012-12-26T00:00:00",
                    "2012-12-27T00:00:00",
                    "2012-12-28T00:00:00",
                    "2012-12-29T00:00:00",
                    "2012-12-30T00:00:00",
                    "2012-12-31T00:00:00"
                  ],
                  "xaxis": "x",
                  "y": [
                    654,
                    670,
                    1229,
                    1454,
                    1518,
                    1518,
                    1362,
                    891,
                    768,
                    1280,
                    1220,
                    1137,
                    1368,
                    1367,
                    1026,
                    953,
                    883,
                    674,
                    1572,
                    1844,
                    1468,
                    888,
                    836,
                    1330,
                    1799,
                    472,
                    416,
                    1129,
                    975,
                    956,
                    1459,
                    1313,
                    1454,
                    1489,
                    1620,
                    905,
                    1269,
                    1592,
                    1466,
                    1552,
                    1491,
                    1597,
                    1184,
                    1192,
                    1705,
                    1675,
                    1897,
                    2216,
                    2348,
                    1103,
                    1173,
                    912,
                    1376,
                    1778,
                    1707,
                    1341,
                    1545,
                    1708,
                    1365,
                    1714,
                    1903,
                    1562,
                    1730,
                    1437,
                    491,
                    1628,
                    1817,
                    1700,
                    577,
                    1730,
                    1408,
                    1435,
                    1687,
                    1767,
                    1871,
                    2320,
                    2355,
                    1693,
                    1424,
                    1676,
                    2243,
                    1918,
                    1699,
                    1910,
                    1515,
                    1221,
                    1806,
                    2108,
                    1368,
                    1506,
                    1920,
                    1354,
                    1598,
                    2381,
                    1628,
                    2395,
                    2570,
                    1299,
                    1576,
                    1707,
                    2493,
                    1777,
                    1953,
                    2738,
                    2484,
                    674,
                    2186,
                    2760,
                    2795,
                    3331,
                    3444,
                    1506,
                    2574,
                    2481,
                    3300,
                    3722,
                    3325,
                    3489,
                    3717,
                    3347,
                    2213,
                    3554,
                    3848,
                    2378,
                    3819,
                    3714,
                    3102,
                    2932,
                    3698,
                    4109,
                    3632,
                    4169,
                    3413,
                    2507,
                    2971,
                    3185,
                    3445,
                    3319,
                    3840,
                    4008,
                    3547,
                    3084,
                    3438,
                    3833,
                    4238,
                    3919,
                    3808,
                    2757,
                    2433,
                    2549,
                    3309,
                    3461,
                    4232,
                    4414,
                    3473,
                    3221,
                    3875,
                    4070,
                    3725,
                    3352,
                    3771,
                    3237,
                    2993,
                    4157,
                    4164,
                    4411,
                    3222,
                    3981,
                    3312,
                    3105,
                    3311,
                    4061,
                    3846,
                    4044,
                    4022,
                    3420,
                    3385,
                    3854,
                    3916,
                    4377,
                    4488,
                    4116,
                    2915,
                    2367,
                    2978,
                    3634,
                    3845,
                    3838,
                    3348,
                    3348,
                    3138,
                    3363,
                    3596,
                    3594,
                    4196,
                    4220,
                    3505,
                    3296,
                    3617,
                    3789,
                    3688,
                    3152,
                    2825,
                    2298,
                    2556,
                    3272,
                    3840,
                    3901,
                    3784,
                    3176,
                    2916,
                    2778,
                    3537,
                    4044,
                    3107,
                    3777,
                    3843,
                    2773,
                    2487,
                    3480,
                    3695,
                    3896,
                    3980,
                    3854,
                    2646,
                    2482,
                    3563,
                    4004,
                    4026,
                    3166,
                    3356,
                    3277,
                    2624,
                    3925,
                    4614,
                    4181,
                    3107,
                    3893,
                    889,
                    2919,
                    3905,
                    4429,
                    4370,
                    4332,
                    3852,
                    2549,
                    2419,
                    2115,
                    2506,
                    1878,
                    1689,
                    3127,
                    3595,
                    3413,
                    4023,
                    4062,
                    4138,
                    3231,
                    4018,
                    3077,
                    2921,
                    3848,
                    3203,
                    3813,
                    4240,
                    2137,
                    3647,
                    3466,
                    3946,
                    3643,
                    3427,
                    4186,
                    4372,
                    1949,
                    2302,
                    3240,
                    3970,
                    4267,
                    4126,
                    4036,
                    3174,
                    3114,
                    3603,
                    3896,
                    2199,
                    2623,
                    3115,
                    3318,
                    3293,
                    3857,
                    4111,
                    2170,
                    3724,
                    3628,
                    2809,
                    2762,
                    3488,
                    3992,
                    3490,
                    2419,
                    3291,
                    570,
                    2446,
                    3307,
                    3658,
                    3816,
                    3656,
                    3576,
                    2770,
                    2697,
                    3662,
                    3829,
                    3804,
                    2743,
                    2928,
                    2792,
                    2713,
                    3891,
                    3746,
                    1672,
                    2914,
                    3147,
                    2720,
                    2733,
                    2545,
                    1538,
                    2454,
                    935,
                    1697,
                    1819,
                    2261,
                    3614,
                    2818,
                    3425,
                    3545,
                    3672,
                    2908,
                    2851,
                    3578,
                    2468,
                    655,
                    3172,
                    3359,
                    2688,
                    2366,
                    3167,
                    3368,
                    3562,
                    3528,
                    3399,
                    2464,
                    2211,
                    3143,
                    3534,
                    2553,
                    2841,
                    2046,
                    856,
                    451,
                    887,
                    1059,
                    2047,
                    2169,
                    2508,
                    1820,
                    1608,
                    1707,
                    2147,
                    2273,
                    3132,
                    3791,
                    3451,
                    2826,
                    2270,
                    3425,
                    2085,
                    3828,
                    3040,
                    2160,
                    2027,
                    2081,
                    2808,
                    3267,
                    3162,
                    3048,
                    1234,
                    1781,
                    2287,
                    3900,
                    3803,
                    3831,
                    3187,
                    3248,
                    2685,
                    3498,
                    4185,
                    4275,
                    3571,
                    3841,
                    2448,
                    2629,
                    3578,
                    4176,
                    2693,
                    3667,
                    3604,
                    1977,
                    1456,
                    3328,
                    3787,
                    4028,
                    2931,
                    3805,
                    2883,
                    2071,
                    2627,
                    3614,
                    4379,
                    4546,
                    3241,
                    2415,
                    2874,
                    4069,
                    4134,
                    1769,
                    4665,
                    2948,
                    3110,
                    2713,
                    3130,
                    3735,
                    4484,
                    4896,
                    4122,
                    3150,
                    3253,
                    4460,
                    5085,
                    5315,
                    5187,
                    3830,
                    4681,
                    3685,
                    5171,
                    5042,
                    5108,
                    5537,
                    5893,
                    2339,
                    3464,
                    4763,
                    4571,
                    5024,
                    5299,
                    4663,
                    3934,
                    3694,
                    4728,
                    5424,
                    5378,
                    5265,
                    4653,
                    3605,
                    2939,
                    4680,
                    5099,
                    4380,
                    4746,
                    5146,
                    4665,
                    4286,
                    5172,
                    5702,
                    4020,
                    5719,
                    5950,
                    4083,
                    907,
                    3019,
                    5115,
                    5541,
                    4551,
                    5219,
                    3100,
                    4075,
                    4907,
                    5087,
                    5502,
                    5657,
                    5227,
                    4387,
                    4224,
                    5265,
                    4990,
                    4097,
                    5546,
                    5711,
                    4807,
                    3946,
                    2501,
                    4490,
                    6433,
                    6142,
                    6118,
                    4884,
                    4425,
                    3729,
                    5254,
                    4494,
                    5711,
                    5317,
                    3681,
                    3308,
                    3486,
                    4863,
                    6110,
                    6238,
                    3594,
                    5325,
                    5147,
                    5927,
                    6033,
                    6028,
                    6456,
                    6248,
                    4790,
                    4374,
                    5647,
                    4495,
                    6248,
                    6183,
                    6102,
                    4739,
                    4344,
                    4446,
                    5857,
                    5339,
                    5127,
                    4859,
                    4801,
                    4340,
                    5640,
                    6365,
                    6258,
                    5958,
                    4634,
                    4232,
                    4110,
                    5323,
                    5608,
                    4841,
                    4836,
                    4841,
                    3392,
                    3469,
                    5571,
                    5336,
                    6289,
                    6414,
                    5988,
                    4614,
                    4111,
                    5742,
                    5865,
                    4914,
                    5703,
                    5123,
                    3195,
                    4866,
                    5831,
                    6452,
                    6790,
                    5825,
                    5645,
                    4451,
                    4444,
                    6065,
                    6248,
                    6506,
                    6278,
                    5847,
                    4479,
                    3757,
                    5780,
                    5995,
                    6271,
                    6090,
                    4721,
                    4052,
                    4362,
                    5676,
                    5656,
                    6149,
                    6267,
                    5665,
                    5038,
                    3341,
                    5504,
                    5925,
                    6281,
                    6402,
                    6257,
                    4224,
                    3772,
                    5928,
                    6105,
                    6520,
                    6541,
                    5917,
                    3788,
                    3197,
                    4069,
                    5997,
                    6280,
                    5592,
                    6459,
                    4419,
                    5657,
                    6407,
                    6697,
                    6820,
                    6750,
                    6630,
                    5554,
                    5167,
                    5847,
                    3702,
                    6803,
                    6781,
                    6917,
                    5883,
                    5453,
                    6435,
                    6693,
                    6946,
                    6642,
                    6370,
                    5966,
                    4874,
                    6015,
                    4324,
                    6844,
                    6437,
                    6640,
                    4934,
                    2729,
                    4604,
                    5791,
                    6911,
                    6736,
                    6222,
                    4857,
                    4559,
                    5115,
                    6612,
                    6482,
                    6501,
                    4671,
                    5284,
                    4692,
                    6228,
                    6625,
                    6898,
                    6484,
                    6262,
                    5209,
                    3461,
                    20,
                    1009,
                    5147,
                    5520,
                    5229,
                    4109,
                    3906,
                    4881,
                    5220,
                    4709,
                    4975,
                    5283,
                    4446,
                    4562,
                    5172,
                    3767,
                    5122,
                    5125,
                    5214,
                    4316,
                    3747,
                    5050,
                    5100,
                    4531,
                    1470,
                    2307,
                    1745,
                    2115,
                    4750,
                    3836,
                    5062,
                    5080,
                    5306,
                    4240,
                    3757,
                    5679,
                    6055,
                    5398,
                    5035,
                    4659,
                    4429,
                    2787,
                    4841,
                    5219,
                    5009,
                    5107,
                    5182,
                    4280,
                    3248,
                    4373,
                    5124,
                    4934,
                    3814,
                    3402,
                    1544,
                    1379,
                    746,
                    573,
                    432,
                    1867,
                    2451,
                    1182,
                    1432,
                    2290
                  ],
                  "yaxis": "y"
                },
                {
                  "hovertemplate": "variable=cnt<br>dteday=%{x}<br>value=%{y}<extra></extra>",
                  "legendgroup": "cnt",
                  "line": {
                    "color": "green",
                    "dash": "solid"
                  },
                  "marker": {
                    "symbol": "circle"
                  },
                  "mode": "lines",
                  "name": "cnt",
                  "showlegend": true,
                  "type": "scattergl",
                  "x": [
                    "2011-01-01T00:00:00",
                    "2011-01-02T00:00:00",
                    "2011-01-03T00:00:00",
                    "2011-01-04T00:00:00",
                    "2011-01-05T00:00:00",
                    "2011-01-06T00:00:00",
                    "2011-01-07T00:00:00",
                    "2011-01-08T00:00:00",
                    "2011-01-09T00:00:00",
                    "2011-01-10T00:00:00",
                    "2011-01-11T00:00:00",
                    "2011-01-12T00:00:00",
                    "2011-01-13T00:00:00",
                    "2011-01-14T00:00:00",
                    "2011-01-15T00:00:00",
                    "2011-01-16T00:00:00",
                    "2011-01-17T00:00:00",
                    "2011-01-18T00:00:00",
                    "2011-01-19T00:00:00",
                    "2011-01-20T00:00:00",
                    "2011-01-21T00:00:00",
                    "2011-01-22T00:00:00",
                    "2011-01-23T00:00:00",
                    "2011-01-24T00:00:00",
                    "2011-01-25T00:00:00",
                    "2011-01-26T00:00:00",
                    "2011-01-27T00:00:00",
                    "2011-01-28T00:00:00",
                    "2011-01-29T00:00:00",
                    "2011-01-30T00:00:00",
                    "2011-01-31T00:00:00",
                    "2011-02-01T00:00:00",
                    "2011-02-02T00:00:00",
                    "2011-02-03T00:00:00",
                    "2011-02-04T00:00:00",
                    "2011-02-05T00:00:00",
                    "2011-02-06T00:00:00",
                    "2011-02-07T00:00:00",
                    "2011-02-08T00:00:00",
                    "2011-02-09T00:00:00",
                    "2011-02-10T00:00:00",
                    "2011-02-11T00:00:00",
                    "2011-02-12T00:00:00",
                    "2011-02-13T00:00:00",
                    "2011-02-14T00:00:00",
                    "2011-02-15T00:00:00",
                    "2011-02-16T00:00:00",
                    "2011-02-17T00:00:00",
                    "2011-02-18T00:00:00",
                    "2011-02-19T00:00:00",
                    "2011-02-20T00:00:00",
                    "2011-02-21T00:00:00",
                    "2011-02-22T00:00:00",
                    "2011-02-23T00:00:00",
                    "2011-02-24T00:00:00",
                    "2011-02-25T00:00:00",
                    "2011-02-26T00:00:00",
                    "2011-02-27T00:00:00",
                    "2011-02-28T00:00:00",
                    "2011-03-01T00:00:00",
                    "2011-03-02T00:00:00",
                    "2011-03-03T00:00:00",
                    "2011-03-04T00:00:00",
                    "2011-03-05T00:00:00",
                    "2011-03-06T00:00:00",
                    "2011-03-07T00:00:00",
                    "2011-03-08T00:00:00",
                    "2011-03-09T00:00:00",
                    "2011-03-10T00:00:00",
                    "2011-03-11T00:00:00",
                    "2011-03-12T00:00:00",
                    "2011-03-13T00:00:00",
                    "2011-03-14T00:00:00",
                    "2011-03-15T00:00:00",
                    "2011-03-16T00:00:00",
                    "2011-03-17T00:00:00",
                    "2011-03-18T00:00:00",
                    "2011-03-19T00:00:00",
                    "2011-03-20T00:00:00",
                    "2011-03-21T00:00:00",
                    "2011-03-22T00:00:00",
                    "2011-03-23T00:00:00",
                    "2011-03-24T00:00:00",
                    "2011-03-25T00:00:00",
                    "2011-03-26T00:00:00",
                    "2011-03-27T00:00:00",
                    "2011-03-28T00:00:00",
                    "2011-03-29T00:00:00",
                    "2011-03-30T00:00:00",
                    "2011-03-31T00:00:00",
                    "2011-04-01T00:00:00",
                    "2011-04-02T00:00:00",
                    "2011-04-03T00:00:00",
                    "2011-04-04T00:00:00",
                    "2011-04-05T00:00:00",
                    "2011-04-06T00:00:00",
                    "2011-04-07T00:00:00",
                    "2011-04-08T00:00:00",
                    "2011-04-09T00:00:00",
                    "2011-04-10T00:00:00",
                    "2011-04-11T00:00:00",
                    "2011-04-12T00:00:00",
                    "2011-04-13T00:00:00",
                    "2011-04-14T00:00:00",
                    "2011-04-15T00:00:00",
                    "2011-04-16T00:00:00",
                    "2011-04-17T00:00:00",
                    "2011-04-18T00:00:00",
                    "2011-04-19T00:00:00",
                    "2011-04-20T00:00:00",
                    "2011-04-21T00:00:00",
                    "2011-04-22T00:00:00",
                    "2011-04-23T00:00:00",
                    "2011-04-24T00:00:00",
                    "2011-04-25T00:00:00",
                    "2011-04-26T00:00:00",
                    "2011-04-27T00:00:00",
                    "2011-04-28T00:00:00",
                    "2011-04-29T00:00:00",
                    "2011-04-30T00:00:00",
                    "2011-05-01T00:00:00",
                    "2011-05-02T00:00:00",
                    "2011-05-03T00:00:00",
                    "2011-05-04T00:00:00",
                    "2011-05-05T00:00:00",
                    "2011-05-06T00:00:00",
                    "2011-05-07T00:00:00",
                    "2011-05-08T00:00:00",
                    "2011-05-09T00:00:00",
                    "2011-05-10T00:00:00",
                    "2011-05-11T00:00:00",
                    "2011-05-12T00:00:00",
                    "2011-05-13T00:00:00",
                    "2011-05-14T00:00:00",
                    "2011-05-15T00:00:00",
                    "2011-05-16T00:00:00",
                    "2011-05-17T00:00:00",
                    "2011-05-18T00:00:00",
                    "2011-05-19T00:00:00",
                    "2011-05-20T00:00:00",
                    "2011-05-21T00:00:00",
                    "2011-05-22T00:00:00",
                    "2011-05-23T00:00:00",
                    "2011-05-24T00:00:00",
                    "2011-05-25T00:00:00",
                    "2011-05-26T00:00:00",
                    "2011-05-27T00:00:00",
                    "2011-05-28T00:00:00",
                    "2011-05-29T00:00:00",
                    "2011-05-30T00:00:00",
                    "2011-05-31T00:00:00",
                    "2011-06-01T00:00:00",
                    "2011-06-02T00:00:00",
                    "2011-06-03T00:00:00",
                    "2011-06-04T00:00:00",
                    "2011-06-05T00:00:00",
                    "2011-06-06T00:00:00",
                    "2011-06-07T00:00:00",
                    "2011-06-08T00:00:00",
                    "2011-06-09T00:00:00",
                    "2011-06-10T00:00:00",
                    "2011-06-11T00:00:00",
                    "2011-06-12T00:00:00",
                    "2011-06-13T00:00:00",
                    "2011-06-14T00:00:00",
                    "2011-06-15T00:00:00",
                    "2011-06-16T00:00:00",
                    "2011-06-17T00:00:00",
                    "2011-06-18T00:00:00",
                    "2011-06-19T00:00:00",
                    "2011-06-20T00:00:00",
                    "2011-06-21T00:00:00",
                    "2011-06-22T00:00:00",
                    "2011-06-23T00:00:00",
                    "2011-06-24T00:00:00",
                    "2011-06-25T00:00:00",
                    "2011-06-26T00:00:00",
                    "2011-06-27T00:00:00",
                    "2011-06-28T00:00:00",
                    "2011-06-29T00:00:00",
                    "2011-06-30T00:00:00",
                    "2011-07-01T00:00:00",
                    "2011-07-02T00:00:00",
                    "2011-07-03T00:00:00",
                    "2011-07-04T00:00:00",
                    "2011-07-05T00:00:00",
                    "2011-07-06T00:00:00",
                    "2011-07-07T00:00:00",
                    "2011-07-08T00:00:00",
                    "2011-07-09T00:00:00",
                    "2011-07-10T00:00:00",
                    "2011-07-11T00:00:00",
                    "2011-07-12T00:00:00",
                    "2011-07-13T00:00:00",
                    "2011-07-14T00:00:00",
                    "2011-07-15T00:00:00",
                    "2011-07-16T00:00:00",
                    "2011-07-17T00:00:00",
                    "2011-07-18T00:00:00",
                    "2011-07-19T00:00:00",
                    "2011-07-20T00:00:00",
                    "2011-07-21T00:00:00",
                    "2011-07-22T00:00:00",
                    "2011-07-23T00:00:00",
                    "2011-07-24T00:00:00",
                    "2011-07-25T00:00:00",
                    "2011-07-26T00:00:00",
                    "2011-07-27T00:00:00",
                    "2011-07-28T00:00:00",
                    "2011-07-29T00:00:00",
                    "2011-07-30T00:00:00",
                    "2011-07-31T00:00:00",
                    "2011-08-01T00:00:00",
                    "2011-08-02T00:00:00",
                    "2011-08-03T00:00:00",
                    "2011-08-04T00:00:00",
                    "2011-08-05T00:00:00",
                    "2011-08-06T00:00:00",
                    "2011-08-07T00:00:00",
                    "2011-08-08T00:00:00",
                    "2011-08-09T00:00:00",
                    "2011-08-10T00:00:00",
                    "2011-08-11T00:00:00",
                    "2011-08-12T00:00:00",
                    "2011-08-13T00:00:00",
                    "2011-08-14T00:00:00",
                    "2011-08-15T00:00:00",
                    "2011-08-16T00:00:00",
                    "2011-08-17T00:00:00",
                    "2011-08-18T00:00:00",
                    "2011-08-19T00:00:00",
                    "2011-08-20T00:00:00",
                    "2011-08-21T00:00:00",
                    "2011-08-22T00:00:00",
                    "2011-08-23T00:00:00",
                    "2011-08-24T00:00:00",
                    "2011-08-25T00:00:00",
                    "2011-08-26T00:00:00",
                    "2011-08-27T00:00:00",
                    "2011-08-28T00:00:00",
                    "2011-08-29T00:00:00",
                    "2011-08-30T00:00:00",
                    "2011-08-31T00:00:00",
                    "2011-09-01T00:00:00",
                    "2011-09-02T00:00:00",
                    "2011-09-03T00:00:00",
                    "2011-09-04T00:00:00",
                    "2011-09-05T00:00:00",
                    "2011-09-06T00:00:00",
                    "2011-09-07T00:00:00",
                    "2011-09-08T00:00:00",
                    "2011-09-09T00:00:00",
                    "2011-09-10T00:00:00",
                    "2011-09-11T00:00:00",
                    "2011-09-12T00:00:00",
                    "2011-09-13T00:00:00",
                    "2011-09-14T00:00:00",
                    "2011-09-15T00:00:00",
                    "2011-09-16T00:00:00",
                    "2011-09-17T00:00:00",
                    "2011-09-18T00:00:00",
                    "2011-09-19T00:00:00",
                    "2011-09-20T00:00:00",
                    "2011-09-21T00:00:00",
                    "2011-09-22T00:00:00",
                    "2011-09-23T00:00:00",
                    "2011-09-24T00:00:00",
                    "2011-09-25T00:00:00",
                    "2011-09-26T00:00:00",
                    "2011-09-27T00:00:00",
                    "2011-09-28T00:00:00",
                    "2011-09-29T00:00:00",
                    "2011-09-30T00:00:00",
                    "2011-10-01T00:00:00",
                    "2011-10-02T00:00:00",
                    "2011-10-03T00:00:00",
                    "2011-10-04T00:00:00",
                    "2011-10-05T00:00:00",
                    "2011-10-06T00:00:00",
                    "2011-10-07T00:00:00",
                    "2011-10-08T00:00:00",
                    "2011-10-09T00:00:00",
                    "2011-10-10T00:00:00",
                    "2011-10-11T00:00:00",
                    "2011-10-12T00:00:00",
                    "2011-10-13T00:00:00",
                    "2011-10-14T00:00:00",
                    "2011-10-15T00:00:00",
                    "2011-10-16T00:00:00",
                    "2011-10-17T00:00:00",
                    "2011-10-18T00:00:00",
                    "2011-10-19T00:00:00",
                    "2011-10-20T00:00:00",
                    "2011-10-21T00:00:00",
                    "2011-10-22T00:00:00",
                    "2011-10-23T00:00:00",
                    "2011-10-24T00:00:00",
                    "2011-10-25T00:00:00",
                    "2011-10-26T00:00:00",
                    "2011-10-27T00:00:00",
                    "2011-10-28T00:00:00",
                    "2011-10-29T00:00:00",
                    "2011-10-30T00:00:00",
                    "2011-10-31T00:00:00",
                    "2011-11-01T00:00:00",
                    "2011-11-02T00:00:00",
                    "2011-11-03T00:00:00",
                    "2011-11-04T00:00:00",
                    "2011-11-05T00:00:00",
                    "2011-11-06T00:00:00",
                    "2011-11-07T00:00:00",
                    "2011-11-08T00:00:00",
                    "2011-11-09T00:00:00",
                    "2011-11-10T00:00:00",
                    "2011-11-11T00:00:00",
                    "2011-11-12T00:00:00",
                    "2011-11-13T00:00:00",
                    "2011-11-14T00:00:00",
                    "2011-11-15T00:00:00",
                    "2011-11-16T00:00:00",
                    "2011-11-17T00:00:00",
                    "2011-11-18T00:00:00",
                    "2011-11-19T00:00:00",
                    "2011-11-20T00:00:00",
                    "2011-11-21T00:00:00",
                    "2011-11-22T00:00:00",
                    "2011-11-23T00:00:00",
                    "2011-11-24T00:00:00",
                    "2011-11-25T00:00:00",
                    "2011-11-26T00:00:00",
                    "2011-11-27T00:00:00",
                    "2011-11-28T00:00:00",
                    "2011-11-29T00:00:00",
                    "2011-11-30T00:00:00",
                    "2011-12-01T00:00:00",
                    "2011-12-02T00:00:00",
                    "2011-12-03T00:00:00",
                    "2011-12-04T00:00:00",
                    "2011-12-05T00:00:00",
                    "2011-12-06T00:00:00",
                    "2011-12-07T00:00:00",
                    "2011-12-08T00:00:00",
                    "2011-12-09T00:00:00",
                    "2011-12-10T00:00:00",
                    "2011-12-11T00:00:00",
                    "2011-12-12T00:00:00",
                    "2011-12-13T00:00:00",
                    "2011-12-14T00:00:00",
                    "2011-12-15T00:00:00",
                    "2011-12-16T00:00:00",
                    "2011-12-17T00:00:00",
                    "2011-12-18T00:00:00",
                    "2011-12-19T00:00:00",
                    "2011-12-20T00:00:00",
                    "2011-12-21T00:00:00",
                    "2011-12-22T00:00:00",
                    "2011-12-23T00:00:00",
                    "2011-12-24T00:00:00",
                    "2011-12-25T00:00:00",
                    "2011-12-26T00:00:00",
                    "2011-12-27T00:00:00",
                    "2011-12-28T00:00:00",
                    "2011-12-29T00:00:00",
                    "2011-12-30T00:00:00",
                    "2011-12-31T00:00:00",
                    "2012-01-01T00:00:00",
                    "2012-01-02T00:00:00",
                    "2012-01-03T00:00:00",
                    "2012-01-04T00:00:00",
                    "2012-01-05T00:00:00",
                    "2012-01-06T00:00:00",
                    "2012-01-07T00:00:00",
                    "2012-01-08T00:00:00",
                    "2012-01-09T00:00:00",
                    "2012-01-10T00:00:00",
                    "2012-01-11T00:00:00",
                    "2012-01-12T00:00:00",
                    "2012-01-13T00:00:00",
                    "2012-01-14T00:00:00",
                    "2012-01-15T00:00:00",
                    "2012-01-16T00:00:00",
                    "2012-01-17T00:00:00",
                    "2012-01-18T00:00:00",
                    "2012-01-19T00:00:00",
                    "2012-01-20T00:00:00",
                    "2012-01-21T00:00:00",
                    "2012-01-22T00:00:00",
                    "2012-01-23T00:00:00",
                    "2012-01-24T00:00:00",
                    "2012-01-25T00:00:00",
                    "2012-01-26T00:00:00",
                    "2012-01-27T00:00:00",
                    "2012-01-28T00:00:00",
                    "2012-01-29T00:00:00",
                    "2012-01-30T00:00:00",
                    "2012-01-31T00:00:00",
                    "2012-02-01T00:00:00",
                    "2012-02-02T00:00:00",
                    "2012-02-03T00:00:00",
                    "2012-02-04T00:00:00",
                    "2012-02-05T00:00:00",
                    "2012-02-06T00:00:00",
                    "2012-02-07T00:00:00",
                    "2012-02-08T00:00:00",
                    "2012-02-09T00:00:00",
                    "2012-02-10T00:00:00",
                    "2012-02-11T00:00:00",
                    "2012-02-12T00:00:00",
                    "2012-02-13T00:00:00",
                    "2012-02-14T00:00:00",
                    "2012-02-15T00:00:00",
                    "2012-02-16T00:00:00",
                    "2012-02-17T00:00:00",
                    "2012-02-18T00:00:00",
                    "2012-02-19T00:00:00",
                    "2012-02-20T00:00:00",
                    "2012-02-21T00:00:00",
                    "2012-02-22T00:00:00",
                    "2012-02-23T00:00:00",
                    "2012-02-24T00:00:00",
                    "2012-02-25T00:00:00",
                    "2012-02-26T00:00:00",
                    "2012-02-27T00:00:00",
                    "2012-02-28T00:00:00",
                    "2012-02-29T00:00:00",
                    "2012-03-01T00:00:00",
                    "2012-03-02T00:00:00",
                    "2012-03-03T00:00:00",
                    "2012-03-04T00:00:00",
                    "2012-03-05T00:00:00",
                    "2012-03-06T00:00:00",
                    "2012-03-07T00:00:00",
                    "2012-03-08T00:00:00",
                    "2012-03-09T00:00:00",
                    "2012-03-10T00:00:00",
                    "2012-03-11T00:00:00",
                    "2012-03-12T00:00:00",
                    "2012-03-13T00:00:00",
                    "2012-03-14T00:00:00",
                    "2012-03-15T00:00:00",
                    "2012-03-16T00:00:00",
                    "2012-03-17T00:00:00",
                    "2012-03-18T00:00:00",
                    "2012-03-19T00:00:00",
                    "2012-03-20T00:00:00",
                    "2012-03-21T00:00:00",
                    "2012-03-22T00:00:00",
                    "2012-03-23T00:00:00",
                    "2012-03-24T00:00:00",
                    "2012-03-25T00:00:00",
                    "2012-03-26T00:00:00",
                    "2012-03-27T00:00:00",
                    "2012-03-28T00:00:00",
                    "2012-03-29T00:00:00",
                    "2012-03-30T00:00:00",
                    "2012-03-31T00:00:00",
                    "2012-04-01T00:00:00",
                    "2012-04-02T00:00:00",
                    "2012-04-03T00:00:00",
                    "2012-04-04T00:00:00",
                    "2012-04-05T00:00:00",
                    "2012-04-06T00:00:00",
                    "2012-04-07T00:00:00",
                    "2012-04-08T00:00:00",
                    "2012-04-09T00:00:00",
                    "2012-04-10T00:00:00",
                    "2012-04-11T00:00:00",
                    "2012-04-12T00:00:00",
                    "2012-04-13T00:00:00",
                    "2012-04-14T00:00:00",
                    "2012-04-15T00:00:00",
                    "2012-04-16T00:00:00",
                    "2012-04-17T00:00:00",
                    "2012-04-18T00:00:00",
                    "2012-04-19T00:00:00",
                    "2012-04-20T00:00:00",
                    "2012-04-21T00:00:00",
                    "2012-04-22T00:00:00",
                    "2012-04-23T00:00:00",
                    "2012-04-24T00:00:00",
                    "2012-04-25T00:00:00",
                    "2012-04-26T00:00:00",
                    "2012-04-27T00:00:00",
                    "2012-04-28T00:00:00",
                    "2012-04-29T00:00:00",
                    "2012-04-30T00:00:00",
                    "2012-05-01T00:00:00",
                    "2012-05-02T00:00:00",
                    "2012-05-03T00:00:00",
                    "2012-05-04T00:00:00",
                    "2012-05-05T00:00:00",
                    "2012-05-06T00:00:00",
                    "2012-05-07T00:00:00",
                    "2012-05-08T00:00:00",
                    "2012-05-09T00:00:00",
                    "2012-05-10T00:00:00",
                    "2012-05-11T00:00:00",
                    "2012-05-12T00:00:00",
                    "2012-05-13T00:00:00",
                    "2012-05-14T00:00:00",
                    "2012-05-15T00:00:00",
                    "2012-05-16T00:00:00",
                    "2012-05-17T00:00:00",
                    "2012-05-18T00:00:00",
                    "2012-05-19T00:00:00",
                    "2012-05-20T00:00:00",
                    "2012-05-21T00:00:00",
                    "2012-05-22T00:00:00",
                    "2012-05-23T00:00:00",
                    "2012-05-24T00:00:00",
                    "2012-05-25T00:00:00",
                    "2012-05-26T00:00:00",
                    "2012-05-27T00:00:00",
                    "2012-05-28T00:00:00",
                    "2012-05-29T00:00:00",
                    "2012-05-30T00:00:00",
                    "2012-05-31T00:00:00",
                    "2012-06-01T00:00:00",
                    "2012-06-02T00:00:00",
                    "2012-06-03T00:00:00",
                    "2012-06-04T00:00:00",
                    "2012-06-05T00:00:00",
                    "2012-06-06T00:00:00",
                    "2012-06-07T00:00:00",
                    "2012-06-08T00:00:00",
                    "2012-06-09T00:00:00",
                    "2012-06-10T00:00:00",
                    "2012-06-11T00:00:00",
                    "2012-06-12T00:00:00",
                    "2012-06-13T00:00:00",
                    "2012-06-14T00:00:00",
                    "2012-06-15T00:00:00",
                    "2012-06-16T00:00:00",
                    "2012-06-17T00:00:00",
                    "2012-06-18T00:00:00",
                    "2012-06-19T00:00:00",
                    "2012-06-20T00:00:00",
                    "2012-06-21T00:00:00",
                    "2012-06-22T00:00:00",
                    "2012-06-23T00:00:00",
                    "2012-06-24T00:00:00",
                    "2012-06-25T00:00:00",
                    "2012-06-26T00:00:00",
                    "2012-06-27T00:00:00",
                    "2012-06-28T00:00:00",
                    "2012-06-29T00:00:00",
                    "2012-06-30T00:00:00",
                    "2012-07-01T00:00:00",
                    "2012-07-02T00:00:00",
                    "2012-07-03T00:00:00",
                    "2012-07-04T00:00:00",
                    "2012-07-05T00:00:00",
                    "2012-07-06T00:00:00",
                    "2012-07-07T00:00:00",
                    "2012-07-08T00:00:00",
                    "2012-07-09T00:00:00",
                    "2012-07-10T00:00:00",
                    "2012-07-11T00:00:00",
                    "2012-07-12T00:00:00",
                    "2012-07-13T00:00:00",
                    "2012-07-14T00:00:00",
                    "2012-07-15T00:00:00",
                    "2012-07-16T00:00:00",
                    "2012-07-17T00:00:00",
                    "2012-07-18T00:00:00",
                    "2012-07-19T00:00:00",
                    "2012-07-20T00:00:00",
                    "2012-07-21T00:00:00",
                    "2012-07-22T00:00:00",
                    "2012-07-23T00:00:00",
                    "2012-07-24T00:00:00",
                    "2012-07-25T00:00:00",
                    "2012-07-26T00:00:00",
                    "2012-07-27T00:00:00",
                    "2012-07-28T00:00:00",
                    "2012-07-29T00:00:00",
                    "2012-07-30T00:00:00",
                    "2012-07-31T00:00:00",
                    "2012-08-01T00:00:00",
                    "2012-08-02T00:00:00",
                    "2012-08-03T00:00:00",
                    "2012-08-04T00:00:00",
                    "2012-08-05T00:00:00",
                    "2012-08-06T00:00:00",
                    "2012-08-07T00:00:00",
                    "2012-08-08T00:00:00",
                    "2012-08-09T00:00:00",
                    "2012-08-10T00:00:00",
                    "2012-08-11T00:00:00",
                    "2012-08-12T00:00:00",
                    "2012-08-13T00:00:00",
                    "2012-08-14T00:00:00",
                    "2012-08-15T00:00:00",
                    "2012-08-16T00:00:00",
                    "2012-08-17T00:00:00",
                    "2012-08-18T00:00:00",
                    "2012-08-19T00:00:00",
                    "2012-08-20T00:00:00",
                    "2012-08-21T00:00:00",
                    "2012-08-22T00:00:00",
                    "2012-08-23T00:00:00",
                    "2012-08-24T00:00:00",
                    "2012-08-25T00:00:00",
                    "2012-08-26T00:00:00",
                    "2012-08-27T00:00:00",
                    "2012-08-28T00:00:00",
                    "2012-08-29T00:00:00",
                    "2012-08-30T00:00:00",
                    "2012-08-31T00:00:00",
                    "2012-09-01T00:00:00",
                    "2012-09-02T00:00:00",
                    "2012-09-03T00:00:00",
                    "2012-09-04T00:00:00",
                    "2012-09-05T00:00:00",
                    "2012-09-06T00:00:00",
                    "2012-09-07T00:00:00",
                    "2012-09-08T00:00:00",
                    "2012-09-09T00:00:00",
                    "2012-09-10T00:00:00",
                    "2012-09-11T00:00:00",
                    "2012-09-12T00:00:00",
                    "2012-09-13T00:00:00",
                    "2012-09-14T00:00:00",
                    "2012-09-15T00:00:00",
                    "2012-09-16T00:00:00",
                    "2012-09-17T00:00:00",
                    "2012-09-18T00:00:00",
                    "2012-09-19T00:00:00",
                    "2012-09-20T00:00:00",
                    "2012-09-21T00:00:00",
                    "2012-09-22T00:00:00",
                    "2012-09-23T00:00:00",
                    "2012-09-24T00:00:00",
                    "2012-09-25T00:00:00",
                    "2012-09-26T00:00:00",
                    "2012-09-27T00:00:00",
                    "2012-09-28T00:00:00",
                    "2012-09-29T00:00:00",
                    "2012-09-30T00:00:00",
                    "2012-10-01T00:00:00",
                    "2012-10-02T00:00:00",
                    "2012-10-03T00:00:00",
                    "2012-10-04T00:00:00",
                    "2012-10-05T00:00:00",
                    "2012-10-06T00:00:00",
                    "2012-10-07T00:00:00",
                    "2012-10-08T00:00:00",
                    "2012-10-09T00:00:00",
                    "2012-10-10T00:00:00",
                    "2012-10-11T00:00:00",
                    "2012-10-12T00:00:00",
                    "2012-10-13T00:00:00",
                    "2012-10-14T00:00:00",
                    "2012-10-15T00:00:00",
                    "2012-10-16T00:00:00",
                    "2012-10-17T00:00:00",
                    "2012-10-18T00:00:00",
                    "2012-10-19T00:00:00",
                    "2012-10-20T00:00:00",
                    "2012-10-21T00:00:00",
                    "2012-10-22T00:00:00",
                    "2012-10-23T00:00:00",
                    "2012-10-24T00:00:00",
                    "2012-10-25T00:00:00",
                    "2012-10-26T00:00:00",
                    "2012-10-27T00:00:00",
                    "2012-10-28T00:00:00",
                    "2012-10-29T00:00:00",
                    "2012-10-30T00:00:00",
                    "2012-10-31T00:00:00",
                    "2012-11-01T00:00:00",
                    "2012-11-02T00:00:00",
                    "2012-11-03T00:00:00",
                    "2012-11-04T00:00:00",
                    "2012-11-05T00:00:00",
                    "2012-11-06T00:00:00",
                    "2012-11-07T00:00:00",
                    "2012-11-08T00:00:00",
                    "2012-11-09T00:00:00",
                    "2012-11-10T00:00:00",
                    "2012-11-11T00:00:00",
                    "2012-11-12T00:00:00",
                    "2012-11-13T00:00:00",
                    "2012-11-14T00:00:00",
                    "2012-11-15T00:00:00",
                    "2012-11-16T00:00:00",
                    "2012-11-17T00:00:00",
                    "2012-11-18T00:00:00",
                    "2012-11-19T00:00:00",
                    "2012-11-20T00:00:00",
                    "2012-11-21T00:00:00",
                    "2012-11-22T00:00:00",
                    "2012-11-23T00:00:00",
                    "2012-11-24T00:00:00",
                    "2012-11-25T00:00:00",
                    "2012-11-26T00:00:00",
                    "2012-11-27T00:00:00",
                    "2012-11-28T00:00:00",
                    "2012-11-29T00:00:00",
                    "2012-11-30T00:00:00",
                    "2012-12-01T00:00:00",
                    "2012-12-02T00:00:00",
                    "2012-12-03T00:00:00",
                    "2012-12-04T00:00:00",
                    "2012-12-05T00:00:00",
                    "2012-12-06T00:00:00",
                    "2012-12-07T00:00:00",
                    "2012-12-08T00:00:00",
                    "2012-12-09T00:00:00",
                    "2012-12-10T00:00:00",
                    "2012-12-11T00:00:00",
                    "2012-12-12T00:00:00",
                    "2012-12-13T00:00:00",
                    "2012-12-14T00:00:00",
                    "2012-12-15T00:00:00",
                    "2012-12-16T00:00:00",
                    "2012-12-17T00:00:00",
                    "2012-12-18T00:00:00",
                    "2012-12-19T00:00:00",
                    "2012-12-20T00:00:00",
                    "2012-12-21T00:00:00",
                    "2012-12-22T00:00:00",
                    "2012-12-23T00:00:00",
                    "2012-12-24T00:00:00",
                    "2012-12-25T00:00:00",
                    "2012-12-26T00:00:00",
                    "2012-12-27T00:00:00",
                    "2012-12-28T00:00:00",
                    "2012-12-29T00:00:00",
                    "2012-12-30T00:00:00",
                    "2012-12-31T00:00:00"
                  ],
                  "xaxis": "x",
                  "y": [
                    985,
                    801,
                    1349,
                    1562,
                    1600,
                    1606,
                    1510,
                    959,
                    822,
                    1321,
                    1263,
                    1162,
                    1406,
                    1421,
                    1248,
                    1204,
                    1000,
                    683,
                    1650,
                    1927,
                    1543,
                    981,
                    986,
                    1416,
                    1985,
                    506,
                    431,
                    1167,
                    1098,
                    1096,
                    1501,
                    1360,
                    1526,
                    1550,
                    1708,
                    1005,
                    1623,
                    1712,
                    1530,
                    1605,
                    1538,
                    1746,
                    1472,
                    1589,
                    1913,
                    1815,
                    2115,
                    2475,
                    2927,
                    1635,
                    1812,
                    1107,
                    1450,
                    1917,
                    1807,
                    1461,
                    1969,
                    2402,
                    1446,
                    1851,
                    2134,
                    1685,
                    1944,
                    2077,
                    605,
                    1872,
                    2133,
                    1891,
                    623,
                    1977,
                    2132,
                    2417,
                    2046,
                    2056,
                    2192,
                    2744,
                    3239,
                    3117,
                    2471,
                    2077,
                    2703,
                    2121,
                    1865,
                    2210,
                    2496,
                    1693,
                    2028,
                    2425,
                    1536,
                    1685,
                    2227,
                    2252,
                    3249,
                    3115,
                    1795,
                    2808,
                    3141,
                    1471,
                    2455,
                    2895,
                    3348,
                    2034,
                    2162,
                    3267,
                    3126,
                    795,
                    3744,
                    3429,
                    3204,
                    3944,
                    4189,
                    1683,
                    4036,
                    4191,
                    4073,
                    4400,
                    3872,
                    4058,
                    4595,
                    5312,
                    3351,
                    4401,
                    4451,
                    2633,
                    4433,
                    4608,
                    4714,
                    4333,
                    4362,
                    4803,
                    4182,
                    4864,
                    4105,
                    3409,
                    4553,
                    3958,
                    4123,
                    3855,
                    4575,
                    4917,
                    5805,
                    4660,
                    4274,
                    4492,
                    4978,
                    4677,
                    4679,
                    4758,
                    4788,
                    4098,
                    3982,
                    3974,
                    4968,
                    5312,
                    5342,
                    4906,
                    4548,
                    4833,
                    4401,
                    3915,
                    4586,
                    4966,
                    4460,
                    5020,
                    4891,
                    5180,
                    3767,
                    4844,
                    5119,
                    4744,
                    4010,
                    4835,
                    4507,
                    4790,
                    4991,
                    5202,
                    5305,
                    4708,
                    4648,
                    5225,
                    5515,
                    5362,
                    5119,
                    4649,
                    6043,
                    4665,
                    4629,
                    4592,
                    4040,
                    5336,
                    4881,
                    4086,
                    4258,
                    4342,
                    5084,
                    5538,
                    5923,
                    5302,
                    4458,
                    4541,
                    4332,
                    3784,
                    3387,
                    3285,
                    3606,
                    3840,
                    4590,
                    4656,
                    4390,
                    3846,
                    4475,
                    4302,
                    4266,
                    4845,
                    3574,
                    4576,
                    4866,
                    4294,
                    3785,
                    4326,
                    4602,
                    4780,
                    4792,
                    4905,
                    4150,
                    3820,
                    4338,
                    4725,
                    4694,
                    3805,
                    4153,
                    5191,
                    3873,
                    4758,
                    5895,
                    5130,
                    3542,
                    4661,
                    1115,
                    4334,
                    4634,
                    5204,
                    5058,
                    5115,
                    4727,
                    4484,
                    4940,
                    3351,
                    2710,
                    1996,
                    1842,
                    3544,
                    5345,
                    5046,
                    4713,
                    4763,
                    4785,
                    3659,
                    4760,
                    4511,
                    4274,
                    4539,
                    3641,
                    4352,
                    4795,
                    2395,
                    5423,
                    5010,
                    4630,
                    4120,
                    3907,
                    4839,
                    5202,
                    2429,
                    2918,
                    3570,
                    4456,
                    4826,
                    4765,
                    4985,
                    5409,
                    5511,
                    5117,
                    4563,
                    2416,
                    2913,
                    3644,
                    5217,
                    5041,
                    4570,
                    4748,
                    2424,
                    4195,
                    4304,
                    4308,
                    4381,
                    4187,
                    4687,
                    3894,
                    2659,
                    3747,
                    627,
                    3331,
                    3669,
                    4068,
                    4186,
                    3974,
                    4046,
                    3926,
                    3649,
                    4035,
                    4205,
                    4109,
                    2933,
                    3368,
                    4067,
                    3717,
                    4486,
                    4195,
                    1817,
                    3053,
                    3392,
                    3663,
                    3520,
                    2765,
                    1607,
                    2566,
                    1495,
                    2792,
                    3068,
                    3071,
                    3867,
                    2914,
                    3613,
                    3727,
                    3940,
                    3614,
                    3485,
                    3811,
                    2594,
                    705,
                    3322,
                    3620,
                    3190,
                    2743,
                    3310,
                    3523,
                    3740,
                    3709,
                    3577,
                    2739,
                    2431,
                    3403,
                    3750,
                    2660,
                    3068,
                    2209,
                    1011,
                    754,
                    1317,
                    1162,
                    2302,
                    2423,
                    2999,
                    2485,
                    2294,
                    1951,
                    2236,
                    2368,
                    3272,
                    4098,
                    4521,
                    3425,
                    2376,
                    3598,
                    2177,
                    4097,
                    3214,
                    2493,
                    2311,
                    2298,
                    2935,
                    3376,
                    3292,
                    3163,
                    1301,
                    1977,
                    2432,
                    4339,
                    4270,
                    4075,
                    3456,
                    4023,
                    3243,
                    3624,
                    4509,
                    4579,
                    3761,
                    4151,
                    2832,
                    2947,
                    3784,
                    4375,
                    2802,
                    3830,
                    3831,
                    2169,
                    1529,
                    3422,
                    3922,
                    4169,
                    3005,
                    4154,
                    4318,
                    2689,
                    3129,
                    3777,
                    4773,
                    5062,
                    3487,
                    2732,
                    3389,
                    4322,
                    4363,
                    1834,
                    4990,
                    3194,
                    4066,
                    3423,
                    3333,
                    3956,
                    4916,
                    5382,
                    4569,
                    4118,
                    4911,
                    5298,
                    5847,
                    6312,
                    6192,
                    4378,
                    7836,
                    5892,
                    6153,
                    6093,
                    6230,
                    6871,
                    8362,
                    3372,
                    4996,
                    5558,
                    5102,
                    5698,
                    6133,
                    5459,
                    6235,
                    6041,
                    5936,
                    6772,
                    6436,
                    6457,
                    6460,
                    6857,
                    5169,
                    5585,
                    5918,
                    4862,
                    5409,
                    6398,
                    7460,
                    7132,
                    6370,
                    6691,
                    4367,
                    6565,
                    7290,
                    6624,
                    1027,
                    3214,
                    5633,
                    6196,
                    5026,
                    6233,
                    4220,
                    6304,
                    5572,
                    5740,
                    6169,
                    6421,
                    6296,
                    6883,
                    6359,
                    6273,
                    5728,
                    4717,
                    6572,
                    7030,
                    7429,
                    6118,
                    2843,
                    5115,
                    7424,
                    7384,
                    7639,
                    8294,
                    7129,
                    4359,
                    6073,
                    5260,
                    6770,
                    6734,
                    6536,
                    6591,
                    6043,
                    5743,
                    6855,
                    7338,
                    4127,
                    8120,
                    7641,
                    6998,
                    7001,
                    7055,
                    7494,
                    7736,
                    7498,
                    6598,
                    6664,
                    4972,
                    7421,
                    7363,
                    7665,
                    7702,
                    6978,
                    5099,
                    6825,
                    6211,
                    5905,
                    5823,
                    7458,
                    6891,
                    6779,
                    7442,
                    7335,
                    6879,
                    5463,
                    5687,
                    5531,
                    6227,
                    6660,
                    7403,
                    6241,
                    6207,
                    4840,
                    4672,
                    6569,
                    6290,
                    7264,
                    7446,
                    7499,
                    6969,
                    6031,
                    6830,
                    6786,
                    5713,
                    6591,
                    5870,
                    4459,
                    7410,
                    6966,
                    7592,
                    8173,
                    6861,
                    6904,
                    6685,
                    6597,
                    7105,
                    7216,
                    7580,
                    7261,
                    7175,
                    6824,
                    5464,
                    7013,
                    7273,
                    7534,
                    7286,
                    5786,
                    6299,
                    6544,
                    6883,
                    6784,
                    7347,
                    7605,
                    7148,
                    7865,
                    4549,
                    6530,
                    7006,
                    7375,
                    7765,
                    7582,
                    6053,
                    5255,
                    6917,
                    7040,
                    7697,
                    7713,
                    7350,
                    6140,
                    5810,
                    6034,
                    6864,
                    7112,
                    6203,
                    7504,
                    5976,
                    8227,
                    7525,
                    7767,
                    7870,
                    7804,
                    8009,
                    8714,
                    7333,
                    6869,
                    4073,
                    7591,
                    7720,
                    8167,
                    8395,
                    7907,
                    7436,
                    7538,
                    7733,
                    7393,
                    7415,
                    8555,
                    6889,
                    6778,
                    4639,
                    7572,
                    7328,
                    8156,
                    7965,
                    3510,
                    5478,
                    6392,
                    7691,
                    7570,
                    7282,
                    7109,
                    6639,
                    5875,
                    7534,
                    7461,
                    7509,
                    5424,
                    8090,
                    6824,
                    7058,
                    7466,
                    7693,
                    7359,
                    7444,
                    7852,
                    4459,
                    22,
                    1096,
                    5566,
                    5986,
                    5847,
                    5138,
                    5107,
                    5259,
                    5686,
                    5035,
                    5315,
                    5992,
                    6536,
                    6852,
                    6269,
                    4094,
                    5495,
                    5445,
                    5698,
                    5629,
                    4669,
                    5499,
                    5634,
                    5146,
                    2425,
                    3910,
                    2277,
                    2424,
                    5087,
                    3959,
                    5260,
                    5323,
                    5668,
                    5191,
                    4649,
                    6234,
                    6606,
                    5729,
                    5375,
                    5008,
                    5582,
                    3228,
                    5170,
                    5501,
                    5319,
                    5532,
                    5611,
                    5047,
                    3786,
                    4585,
                    5557,
                    5267,
                    4128,
                    3623,
                    1749,
                    1787,
                    920,
                    1013,
                    441,
                    2114,
                    3095,
                    1341,
                    1796,
                    2729
                  ],
                  "yaxis": "y"
                }
              ],
              "layout": {
                "legend": {
                  "title": {
                    "text": "variable"
                  },
                  "tracegroupgap": 0
                },
                "template": {
                  "data": {
                    "candlestick": [
                      {
                        "decreasing": {
                          "line": {
                            "color": "#000033"
                          }
                        },
                        "increasing": {
                          "line": {
                            "color": "#000032"
                          }
                        },
                        "type": "candlestick"
                      }
                    ],
                    "contour": [
                      {
                        "colorscale": [
                          [
                            0,
                            "#000011"
                          ],
                          [
                            0.1111111111111111,
                            "#000012"
                          ],
                          [
                            0.2222222222222222,
                            "#000013"
                          ],
                          [
                            0.3333333333333333,
                            "#000014"
                          ],
                          [
                            0.4444444444444444,
                            "#000015"
                          ],
                          [
                            0.5555555555555556,
                            "#000016"
                          ],
                          [
                            0.6666666666666666,
                            "#000017"
                          ],
                          [
                            0.7777777777777778,
                            "#000018"
                          ],
                          [
                            0.8888888888888888,
                            "#000019"
                          ],
                          [
                            1,
                            "#000020"
                          ]
                        ],
                        "type": "contour"
                      }
                    ],
                    "contourcarpet": [
                      {
                        "colorscale": [
                          [
                            0,
                            "#000011"
                          ],
                          [
                            0.1111111111111111,
                            "#000012"
                          ],
                          [
                            0.2222222222222222,
                            "#000013"
                          ],
                          [
                            0.3333333333333333,
                            "#000014"
                          ],
                          [
                            0.4444444444444444,
                            "#000015"
                          ],
                          [
                            0.5555555555555556,
                            "#000016"
                          ],
                          [
                            0.6666666666666666,
                            "#000017"
                          ],
                          [
                            0.7777777777777778,
                            "#000018"
                          ],
                          [
                            0.8888888888888888,
                            "#000019"
                          ],
                          [
                            1,
                            "#000020"
                          ]
                        ],
                        "type": "contourcarpet"
                      }
                    ],
                    "heatmap": [
                      {
                        "colorscale": [
                          [
                            0,
                            "#000011"
                          ],
                          [
                            0.1111111111111111,
                            "#000012"
                          ],
                          [
                            0.2222222222222222,
                            "#000013"
                          ],
                          [
                            0.3333333333333333,
                            "#000014"
                          ],
                          [
                            0.4444444444444444,
                            "#000015"
                          ],
                          [
                            0.5555555555555556,
                            "#000016"
                          ],
                          [
                            0.6666666666666666,
                            "#000017"
                          ],
                          [
                            0.7777777777777778,
                            "#000018"
                          ],
                          [
                            0.8888888888888888,
                            "#000019"
                          ],
                          [
                            1,
                            "#000020"
                          ]
                        ],
                        "type": "heatmap"
                      }
                    ],
                    "histogram2d": [
                      {
                        "colorscale": [
                          [
                            0,
                            "#000011"
                          ],
                          [
                            0.1111111111111111,
                            "#000012"
                          ],
                          [
                            0.2222222222222222,
                            "#000013"
                          ],
                          [
                            0.3333333333333333,
                            "#000014"
                          ],
                          [
                            0.4444444444444444,
                            "#000015"
                          ],
                          [
                            0.5555555555555556,
                            "#000016"
                          ],
                          [
                            0.6666666666666666,
                            "#000017"
                          ],
                          [
                            0.7777777777777778,
                            "#000018"
                          ],
                          [
                            0.8888888888888888,
                            "#000019"
                          ],
                          [
                            1,
                            "#000020"
                          ]
                        ],
                        "type": "histogram2d"
                      }
                    ],
                    "icicle": [
                      {
                        "textfont": {
                          "color": "white"
                        },
                        "type": "icicle"
                      }
                    ],
                    "sankey": [
                      {
                        "textfont": {
                          "color": "#000036"
                        },
                        "type": "sankey"
                      }
                    ],
                    "scatter": [
                      {
                        "marker": {
                          "line": {
                            "width": 0
                          }
                        },
                        "type": "scatter"
                      }
                    ],
                    "table": [
                      {
                        "cells": {
                          "fill": {
                            "color": "#000038"
                          },
                          "font": {
                            "color": "#000037"
                          },
                          "line": {
                            "color": "#000039"
                          }
                        },
                        "header": {
                          "fill": {
                            "color": "#000040"
                          },
                          "font": {
                            "color": "#000036"
                          },
                          "line": {
                            "color": "#000039"
                          }
                        },
                        "type": "table"
                      }
                    ],
                    "waterfall": [
                      {
                        "connector": {
                          "line": {
                            "color": "#000036",
                            "width": 2
                          }
                        },
                        "decreasing": {
                          "marker": {
                            "color": "#000033"
                          }
                        },
                        "increasing": {
                          "marker": {
                            "color": "#000032"
                          }
                        },
                        "totals": {
                          "marker": {
                            "color": "#000034"
                          }
                        },
                        "type": "waterfall"
                      }
                    ]
                  },
                  "layout": {
                    "coloraxis": {
                      "colorscale": [
                        [
                          0,
                          "#000011"
                        ],
                        [
                          0.1111111111111111,
                          "#000012"
                        ],
                        [
                          0.2222222222222222,
                          "#000013"
                        ],
                        [
                          0.3333333333333333,
                          "#000014"
                        ],
                        [
                          0.4444444444444444,
                          "#000015"
                        ],
                        [
                          0.5555555555555556,
                          "#000016"
                        ],
                        [
                          0.6666666666666666,
                          "#000017"
                        ],
                        [
                          0.7777777777777778,
                          "#000018"
                        ],
                        [
                          0.8888888888888888,
                          "#000019"
                        ],
                        [
                          1,
                          "#000020"
                        ]
                      ]
                    },
                    "colorscale": {
                      "diverging": [
                        [
                          0,
                          "#000021"
                        ],
                        [
                          0.1,
                          "#000022"
                        ],
                        [
                          0.2,
                          "#000023"
                        ],
                        [
                          0.3,
                          "#000024"
                        ],
                        [
                          0.4,
                          "#000025"
                        ],
                        [
                          0.5,
                          "#000026"
                        ],
                        [
                          0.6,
                          "#000027"
                        ],
                        [
                          0.7,
                          "#000028"
                        ],
                        [
                          0.8,
                          "#000029"
                        ],
                        [
                          0.9,
                          "#000030"
                        ],
                        [
                          1,
                          "#000031"
                        ]
                      ],
                      "sequential": [
                        [
                          0,
                          "#000011"
                        ],
                        [
                          0.1111111111111111,
                          "#000012"
                        ],
                        [
                          0.2222222222222222,
                          "#000013"
                        ],
                        [
                          0.3333333333333333,
                          "#000014"
                        ],
                        [
                          0.4444444444444444,
                          "#000015"
                        ],
                        [
                          0.5555555555555556,
                          "#000016"
                        ],
                        [
                          0.6666666666666666,
                          "#000017"
                        ],
                        [
                          0.7777777777777778,
                          "#000018"
                        ],
                        [
                          0.8888888888888888,
                          "#000019"
                        ],
                        [
                          1,
                          "#000020"
                        ]
                      ],
                      "sequentialminus": [
                        [
                          0,
                          "#000011"
                        ],
                        [
                          0.1111111111111111,
                          "#000012"
                        ],
                        [
                          0.2222222222222222,
                          "#000013"
                        ],
                        [
                          0.3333333333333333,
                          "#000014"
                        ],
                        [
                          0.4444444444444444,
                          "#000015"
                        ],
                        [
                          0.5555555555555556,
                          "#000016"
                        ],
                        [
                          0.6666666666666666,
                          "#000017"
                        ],
                        [
                          0.7777777777777778,
                          "#000018"
                        ],
                        [
                          0.8888888888888888,
                          "#000019"
                        ],
                        [
                          1,
                          "#000020"
                        ]
                      ]
                    },
                    "colorway": [
                      "#000001",
                      "#000002",
                      "#000003",
                      "#000004",
                      "#000005",
                      "#000006",
                      "#000007",
                      "#000008",
                      "#000009",
                      "#000010"
                    ]
                  }
                },
                "title": {
                  "text": "Jumlah Pengguna Sepeda Setiap Hari"
                },
                "xaxis": {
                  "anchor": "y",
                  "domain": [
                    0,
                    1
                  ],
                  "title": {
                    "text": "dteday"
                  }
                },
                "yaxis": {
                  "anchor": "x",
                  "domain": [
                    0,
                    1
                  ],
                  "title": {
                    "text": "value"
                  }
                }
              }
            }
          },
          "metadata": {},
          "output_type": "display_data"
        }
      ],
      "source": [
        "x = 'dteday'\n",
        "columns = ['casual', 'registered', 'cnt']\n",
        "title = 'Jumlah Pengguna Sepeda Setiap Hari'\n",
        "colors_theme = ['red', 'yellow', 'green']\n",
        "\n",
        "show_daily_rental_df_by_category(daily_rented_df, x, columns, title, colors_theme)"
      ]
    },
    {
      "cell_type": "markdown",
      "metadata": {
        "id": "KvY_aoxZSEEg"
      },
      "source": [
        "### Pertanyaan 2:Bagaimana Pola Penyewaan Sepeda Berdasarkan Musim dan Cuaca yang ada?"
      ]
    },
    {
      "cell_type": "code",
      "execution_count": 49,
      "metadata": {
        "colab": {
          "base_uri": "https://localhost:8080/"
        },
        "id": "PrEAnYrUma2Q",
        "outputId": "236d208c-a203-4a82-f929-ac26d1c2f9f2"
      },
      "outputs": [
        {
          "name": "stderr",
          "output_type": "stream",
          "text": [
            "C:\\Users\\HP\\AppData\\Local\\Temp\\ipykernel_24496\\2996078219.py:3: FutureWarning:\n",
            "\n",
            "The default of observed=False is deprecated and will be changed to True in a future version of pandas. Pass observed=False to retain current behavior or observed=True to adopt the future default and silence this warning.\n",
            "\n"
          ]
        }
      ],
      "source": [
        "with tab2:\n",
        "    st.subheader('Pertayaan 2 : Bagaimana Pola Penyewaan Sepeda Berdasarkan Musim dan Cuaca yang ada?')\n",
        "    season_rented_df = create_season_rental_df (main_df)\n",
        "    st.write(season_rented_df)"
      ]
    },
    {
      "cell_type": "code",
      "execution_count": 50,
      "metadata": {
        "id": "4Lq-rVdkkNH5"
      },
      "outputs": [],
      "source": [
        "#Pertayaan Kedua Musim\n",
        "season_rented_df_plot = season_rented_df.reset_index()"
      ]
    },
    {
      "cell_type": "code",
      "execution_count": 51,
      "metadata": {
        "id": "Yew8YGBLXz7i"
      },
      "outputs": [],
      "source": [
        "def show_season_rented_df_by_category(df, x, columns, title, colors_theme):\n",
        "       figure = px.bar(season_rented_df_plot, x=x, y=columns,\n",
        "                  color_discrete_sequence=colors_theme, barmode='group',\n",
        "              title=title\n",
        "              )\n",
        "       return figure"
      ]
    },
    {
      "cell_type": "code",
      "execution_count": 52,
      "metadata": {
        "colab": {
          "base_uri": "https://localhost:8080/",
          "height": 542
        },
        "id": "ur-DQ5CSYkB4",
        "outputId": "d113e422-ed98-4149-dea6-4f2dd3f4d89f"
      },
      "outputs": [
        {
          "data": {
            "application/vnd.plotly.v1+json": {
              "config": {
                "plotlyServerURL": "https://plot.ly"
              },
              "data": [
                {
                  "alignmentgroup": "True",
                  "hovertemplate": "variable=casual<br>season=%{x}<br>value=%{y}<extra></extra>",
                  "legendgroup": "casual",
                  "marker": {
                    "color": " blueviolet",
                    "pattern": {
                      "shape": ""
                    }
                  },
                  "name": "casual",
                  "offsetgroup": "casual",
                  "orientation": "v",
                  "showlegend": true,
                  "textposition": "auto",
                  "type": "bar",
                  "x": [
                    "Fall",
                    "Spring",
                    "Summer",
                    "Winter"
                  ],
                  "xaxis": "x",
                  "y": [
                    226091,
                    60622,
                    203522,
                    129782
                  ],
                  "yaxis": "y"
                },
                {
                  "alignmentgroup": "True",
                  "hovertemplate": "variable=registered<br>season=%{x}<br>value=%{y}<extra></extra>",
                  "legendgroup": "registered",
                  "marker": {
                    "color": "forestgreen",
                    "pattern": {
                      "shape": ""
                    }
                  },
                  "name": "registered",
                  "offsetgroup": "registered",
                  "orientation": "v",
                  "showlegend": true,
                  "textposition": "auto",
                  "type": "bar",
                  "x": [
                    "Fall",
                    "Spring",
                    "Summer",
                    "Winter"
                  ],
                  "xaxis": "x",
                  "y": [
                    835038,
                    410726,
                    715067,
                    711831
                  ],
                  "yaxis": "y"
                },
                {
                  "alignmentgroup": "True",
                  "hovertemplate": "variable=cnt<br>season=%{x}<br>value=%{y}<extra></extra>",
                  "legendgroup": "cnt",
                  "marker": {
                    "color": "blue",
                    "pattern": {
                      "shape": ""
                    }
                  },
                  "name": "cnt",
                  "offsetgroup": "cnt",
                  "orientation": "v",
                  "showlegend": true,
                  "textposition": "auto",
                  "type": "bar",
                  "x": [
                    "Fall",
                    "Spring",
                    "Summer",
                    "Winter"
                  ],
                  "xaxis": "x",
                  "y": [
                    1061129,
                    471348,
                    918589,
                    841613
                  ],
                  "yaxis": "y"
                }
              ],
              "layout": {
                "barmode": "group",
                "legend": {
                  "title": {
                    "text": "variable"
                  },
                  "tracegroupgap": 0
                },
                "template": {
                  "data": {
                    "candlestick": [
                      {
                        "decreasing": {
                          "line": {
                            "color": "#000033"
                          }
                        },
                        "increasing": {
                          "line": {
                            "color": "#000032"
                          }
                        },
                        "type": "candlestick"
                      }
                    ],
                    "contour": [
                      {
                        "colorscale": [
                          [
                            0,
                            "#000011"
                          ],
                          [
                            0.1111111111111111,
                            "#000012"
                          ],
                          [
                            0.2222222222222222,
                            "#000013"
                          ],
                          [
                            0.3333333333333333,
                            "#000014"
                          ],
                          [
                            0.4444444444444444,
                            "#000015"
                          ],
                          [
                            0.5555555555555556,
                            "#000016"
                          ],
                          [
                            0.6666666666666666,
                            "#000017"
                          ],
                          [
                            0.7777777777777778,
                            "#000018"
                          ],
                          [
                            0.8888888888888888,
                            "#000019"
                          ],
                          [
                            1,
                            "#000020"
                          ]
                        ],
                        "type": "contour"
                      }
                    ],
                    "contourcarpet": [
                      {
                        "colorscale": [
                          [
                            0,
                            "#000011"
                          ],
                          [
                            0.1111111111111111,
                            "#000012"
                          ],
                          [
                            0.2222222222222222,
                            "#000013"
                          ],
                          [
                            0.3333333333333333,
                            "#000014"
                          ],
                          [
                            0.4444444444444444,
                            "#000015"
                          ],
                          [
                            0.5555555555555556,
                            "#000016"
                          ],
                          [
                            0.6666666666666666,
                            "#000017"
                          ],
                          [
                            0.7777777777777778,
                            "#000018"
                          ],
                          [
                            0.8888888888888888,
                            "#000019"
                          ],
                          [
                            1,
                            "#000020"
                          ]
                        ],
                        "type": "contourcarpet"
                      }
                    ],
                    "heatmap": [
                      {
                        "colorscale": [
                          [
                            0,
                            "#000011"
                          ],
                          [
                            0.1111111111111111,
                            "#000012"
                          ],
                          [
                            0.2222222222222222,
                            "#000013"
                          ],
                          [
                            0.3333333333333333,
                            "#000014"
                          ],
                          [
                            0.4444444444444444,
                            "#000015"
                          ],
                          [
                            0.5555555555555556,
                            "#000016"
                          ],
                          [
                            0.6666666666666666,
                            "#000017"
                          ],
                          [
                            0.7777777777777778,
                            "#000018"
                          ],
                          [
                            0.8888888888888888,
                            "#000019"
                          ],
                          [
                            1,
                            "#000020"
                          ]
                        ],
                        "type": "heatmap"
                      }
                    ],
                    "histogram2d": [
                      {
                        "colorscale": [
                          [
                            0,
                            "#000011"
                          ],
                          [
                            0.1111111111111111,
                            "#000012"
                          ],
                          [
                            0.2222222222222222,
                            "#000013"
                          ],
                          [
                            0.3333333333333333,
                            "#000014"
                          ],
                          [
                            0.4444444444444444,
                            "#000015"
                          ],
                          [
                            0.5555555555555556,
                            "#000016"
                          ],
                          [
                            0.6666666666666666,
                            "#000017"
                          ],
                          [
                            0.7777777777777778,
                            "#000018"
                          ],
                          [
                            0.8888888888888888,
                            "#000019"
                          ],
                          [
                            1,
                            "#000020"
                          ]
                        ],
                        "type": "histogram2d"
                      }
                    ],
                    "icicle": [
                      {
                        "textfont": {
                          "color": "white"
                        },
                        "type": "icicle"
                      }
                    ],
                    "sankey": [
                      {
                        "textfont": {
                          "color": "#000036"
                        },
                        "type": "sankey"
                      }
                    ],
                    "scatter": [
                      {
                        "marker": {
                          "line": {
                            "width": 0
                          }
                        },
                        "type": "scatter"
                      }
                    ],
                    "table": [
                      {
                        "cells": {
                          "fill": {
                            "color": "#000038"
                          },
                          "font": {
                            "color": "#000037"
                          },
                          "line": {
                            "color": "#000039"
                          }
                        },
                        "header": {
                          "fill": {
                            "color": "#000040"
                          },
                          "font": {
                            "color": "#000036"
                          },
                          "line": {
                            "color": "#000039"
                          }
                        },
                        "type": "table"
                      }
                    ],
                    "waterfall": [
                      {
                        "connector": {
                          "line": {
                            "color": "#000036",
                            "width": 2
                          }
                        },
                        "decreasing": {
                          "marker": {
                            "color": "#000033"
                          }
                        },
                        "increasing": {
                          "marker": {
                            "color": "#000032"
                          }
                        },
                        "totals": {
                          "marker": {
                            "color": "#000034"
                          }
                        },
                        "type": "waterfall"
                      }
                    ]
                  },
                  "layout": {
                    "coloraxis": {
                      "colorscale": [
                        [
                          0,
                          "#000011"
                        ],
                        [
                          0.1111111111111111,
                          "#000012"
                        ],
                        [
                          0.2222222222222222,
                          "#000013"
                        ],
                        [
                          0.3333333333333333,
                          "#000014"
                        ],
                        [
                          0.4444444444444444,
                          "#000015"
                        ],
                        [
                          0.5555555555555556,
                          "#000016"
                        ],
                        [
                          0.6666666666666666,
                          "#000017"
                        ],
                        [
                          0.7777777777777778,
                          "#000018"
                        ],
                        [
                          0.8888888888888888,
                          "#000019"
                        ],
                        [
                          1,
                          "#000020"
                        ]
                      ]
                    },
                    "colorscale": {
                      "diverging": [
                        [
                          0,
                          "#000021"
                        ],
                        [
                          0.1,
                          "#000022"
                        ],
                        [
                          0.2,
                          "#000023"
                        ],
                        [
                          0.3,
                          "#000024"
                        ],
                        [
                          0.4,
                          "#000025"
                        ],
                        [
                          0.5,
                          "#000026"
                        ],
                        [
                          0.6,
                          "#000027"
                        ],
                        [
                          0.7,
                          "#000028"
                        ],
                        [
                          0.8,
                          "#000029"
                        ],
                        [
                          0.9,
                          "#000030"
                        ],
                        [
                          1,
                          "#000031"
                        ]
                      ],
                      "sequential": [
                        [
                          0,
                          "#000011"
                        ],
                        [
                          0.1111111111111111,
                          "#000012"
                        ],
                        [
                          0.2222222222222222,
                          "#000013"
                        ],
                        [
                          0.3333333333333333,
                          "#000014"
                        ],
                        [
                          0.4444444444444444,
                          "#000015"
                        ],
                        [
                          0.5555555555555556,
                          "#000016"
                        ],
                        [
                          0.6666666666666666,
                          "#000017"
                        ],
                        [
                          0.7777777777777778,
                          "#000018"
                        ],
                        [
                          0.8888888888888888,
                          "#000019"
                        ],
                        [
                          1,
                          "#000020"
                        ]
                      ],
                      "sequentialminus": [
                        [
                          0,
                          "#000011"
                        ],
                        [
                          0.1111111111111111,
                          "#000012"
                        ],
                        [
                          0.2222222222222222,
                          "#000013"
                        ],
                        [
                          0.3333333333333333,
                          "#000014"
                        ],
                        [
                          0.4444444444444444,
                          "#000015"
                        ],
                        [
                          0.5555555555555556,
                          "#000016"
                        ],
                        [
                          0.6666666666666666,
                          "#000017"
                        ],
                        [
                          0.7777777777777778,
                          "#000018"
                        ],
                        [
                          0.8888888888888888,
                          "#000019"
                        ],
                        [
                          1,
                          "#000020"
                        ]
                      ]
                    },
                    "colorway": [
                      "#000001",
                      "#000002",
                      "#000003",
                      "#000004",
                      "#000005",
                      "#000006",
                      "#000007",
                      "#000008",
                      "#000009",
                      "#000010"
                    ]
                  }
                },
                "title": {
                  "text": "Jumlah Pengguna Sepeda di Setiap Musim"
                },
                "xaxis": {
                  "anchor": "y",
                  "domain": [
                    0,
                    1
                  ],
                  "title": {
                    "text": "season"
                  }
                },
                "yaxis": {
                  "anchor": "x",
                  "domain": [
                    0,
                    1
                  ],
                  "title": {
                    "text": "value"
                  }
                }
              }
            }
          },
          "metadata": {},
          "output_type": "display_data"
        }
      ],
      "source": [
        "x = 'season'\n",
        "columns = ['casual', 'registered', 'cnt']\n",
        "title = 'Jumlah Pengguna Sepeda di Setiap Musim'\n",
        "colors_theme = [' blueviolet', 'forestgreen', 'blue']\n",
        "\n",
        "show_season_rented_df_by_category(season_rented_df, x, columns, title, colors_theme)"
      ]
    },
    {
      "cell_type": "code",
      "execution_count": 53,
      "metadata": {
        "colab": {
          "base_uri": "https://localhost:8080/"
        },
        "id": "4GRziOwLm7Dg",
        "outputId": "863ffb3e-9545-48af-88b2-fc3dce0de2aa"
      },
      "outputs": [
        {
          "name": "stderr",
          "output_type": "stream",
          "text": [
            "C:\\Users\\HP\\AppData\\Local\\Temp\\ipykernel_24496\\2260710133.py:3: FutureWarning:\n",
            "\n",
            "The default of observed=False is deprecated and will be changed to True in a future version of pandas. Pass observed=False to retain current behavior or observed=True to adopt the future default and silence this warning.\n",
            "\n"
          ]
        }
      ],
      "source": [
        "weathersit_rented_df = create_weathersit_rental_df (main_df)\n",
        "st.write( weathersit_rented_df)"
      ]
    },
    {
      "cell_type": "code",
      "execution_count": 54,
      "metadata": {
        "id": "mmxzuUhRnK-q"
      },
      "outputs": [],
      "source": [
        "def show_weathersit_rented_df_by_category(df, x, columns, title, colors_theme):\n",
        "       figure = px.bar(weathersit_rented_df_plot, x=x, y=columns,\n",
        "                  color_discrete_sequence=colors_theme, barmode='group',\n",
        "              title=title\n",
        "              )\n",
        "       return figure"
      ]
    },
    {
      "cell_type": "code",
      "execution_count": 55,
      "metadata": {
        "id": "xwij6Hp4ne2b"
      },
      "outputs": [],
      "source": [
        " weathersit_rented_df_plot = weathersit_rented_df.reset_index()"
      ]
    },
    {
      "cell_type": "code",
      "execution_count": 56,
      "metadata": {
        "colab": {
          "base_uri": "https://localhost:8080/",
          "height": 542
        },
        "id": "5B8gXz4rnMRJ",
        "outputId": "4e1f27a9-4a47-45e1-af38-2f4d1293c7a1"
      },
      "outputs": [
        {
          "data": {
            "application/vnd.plotly.v1+json": {
              "config": {
                "plotlyServerURL": "https://plot.ly"
              },
              "data": [
                {
                  "alignmentgroup": "True",
                  "hovertemplate": "variable=casual<br>weathersit=%{x}<br>value=%{y}<extra></extra>",
                  "legendgroup": "casual",
                  "marker": {
                    "color": "lavender",
                    "pattern": {
                      "shape": ""
                    }
                  },
                  "name": "casual",
                  "offsetgroup": "casual",
                  "orientation": "v",
                  "showlegend": true,
                  "textposition": "auto",
                  "type": "bar",
                  "x": [
                    "Clear/Cloudy",
                    "Light Rain/Light Snow",
                    "Mist/Cloudy"
                  ],
                  "xaxis": "x",
                  "y": [
                    446346,
                    3895,
                    169776
                  ],
                  "yaxis": "y"
                },
                {
                  "alignmentgroup": "True",
                  "hovertemplate": "variable=registered<br>weathersit=%{x}<br>value=%{y}<extra></extra>",
                  "legendgroup": "registered",
                  "marker": {
                    "color": "plum",
                    "pattern": {
                      "shape": ""
                    }
                  },
                  "name": "registered",
                  "offsetgroup": "registered",
                  "orientation": "v",
                  "showlegend": true,
                  "textposition": "auto",
                  "type": "bar",
                  "x": [
                    "Clear/Cloudy",
                    "Light Rain/Light Snow",
                    "Mist/Cloudy"
                  ],
                  "xaxis": "x",
                  "y": [
                    1811606,
                    33974,
                    827082
                  ],
                  "yaxis": "y"
                },
                {
                  "alignmentgroup": "True",
                  "hovertemplate": "variable=cnt<br>weathersit=%{x}<br>value=%{y}<extra></extra>",
                  "legendgroup": "cnt",
                  "marker": {
                    "color": "fuchsia",
                    "pattern": {
                      "shape": ""
                    }
                  },
                  "name": "cnt",
                  "offsetgroup": "cnt",
                  "orientation": "v",
                  "showlegend": true,
                  "textposition": "auto",
                  "type": "bar",
                  "x": [
                    "Clear/Cloudy",
                    "Light Rain/Light Snow",
                    "Mist/Cloudy"
                  ],
                  "xaxis": "x",
                  "y": [
                    2257952,
                    37869,
                    996858
                  ],
                  "yaxis": "y"
                }
              ],
              "layout": {
                "barmode": "group",
                "legend": {
                  "title": {
                    "text": "variable"
                  },
                  "tracegroupgap": 0
                },
                "template": {
                  "data": {
                    "candlestick": [
                      {
                        "decreasing": {
                          "line": {
                            "color": "#000033"
                          }
                        },
                        "increasing": {
                          "line": {
                            "color": "#000032"
                          }
                        },
                        "type": "candlestick"
                      }
                    ],
                    "contour": [
                      {
                        "colorscale": [
                          [
                            0,
                            "#000011"
                          ],
                          [
                            0.1111111111111111,
                            "#000012"
                          ],
                          [
                            0.2222222222222222,
                            "#000013"
                          ],
                          [
                            0.3333333333333333,
                            "#000014"
                          ],
                          [
                            0.4444444444444444,
                            "#000015"
                          ],
                          [
                            0.5555555555555556,
                            "#000016"
                          ],
                          [
                            0.6666666666666666,
                            "#000017"
                          ],
                          [
                            0.7777777777777778,
                            "#000018"
                          ],
                          [
                            0.8888888888888888,
                            "#000019"
                          ],
                          [
                            1,
                            "#000020"
                          ]
                        ],
                        "type": "contour"
                      }
                    ],
                    "contourcarpet": [
                      {
                        "colorscale": [
                          [
                            0,
                            "#000011"
                          ],
                          [
                            0.1111111111111111,
                            "#000012"
                          ],
                          [
                            0.2222222222222222,
                            "#000013"
                          ],
                          [
                            0.3333333333333333,
                            "#000014"
                          ],
                          [
                            0.4444444444444444,
                            "#000015"
                          ],
                          [
                            0.5555555555555556,
                            "#000016"
                          ],
                          [
                            0.6666666666666666,
                            "#000017"
                          ],
                          [
                            0.7777777777777778,
                            "#000018"
                          ],
                          [
                            0.8888888888888888,
                            "#000019"
                          ],
                          [
                            1,
                            "#000020"
                          ]
                        ],
                        "type": "contourcarpet"
                      }
                    ],
                    "heatmap": [
                      {
                        "colorscale": [
                          [
                            0,
                            "#000011"
                          ],
                          [
                            0.1111111111111111,
                            "#000012"
                          ],
                          [
                            0.2222222222222222,
                            "#000013"
                          ],
                          [
                            0.3333333333333333,
                            "#000014"
                          ],
                          [
                            0.4444444444444444,
                            "#000015"
                          ],
                          [
                            0.5555555555555556,
                            "#000016"
                          ],
                          [
                            0.6666666666666666,
                            "#000017"
                          ],
                          [
                            0.7777777777777778,
                            "#000018"
                          ],
                          [
                            0.8888888888888888,
                            "#000019"
                          ],
                          [
                            1,
                            "#000020"
                          ]
                        ],
                        "type": "heatmap"
                      }
                    ],
                    "histogram2d": [
                      {
                        "colorscale": [
                          [
                            0,
                            "#000011"
                          ],
                          [
                            0.1111111111111111,
                            "#000012"
                          ],
                          [
                            0.2222222222222222,
                            "#000013"
                          ],
                          [
                            0.3333333333333333,
                            "#000014"
                          ],
                          [
                            0.4444444444444444,
                            "#000015"
                          ],
                          [
                            0.5555555555555556,
                            "#000016"
                          ],
                          [
                            0.6666666666666666,
                            "#000017"
                          ],
                          [
                            0.7777777777777778,
                            "#000018"
                          ],
                          [
                            0.8888888888888888,
                            "#000019"
                          ],
                          [
                            1,
                            "#000020"
                          ]
                        ],
                        "type": "histogram2d"
                      }
                    ],
                    "icicle": [
                      {
                        "textfont": {
                          "color": "white"
                        },
                        "type": "icicle"
                      }
                    ],
                    "sankey": [
                      {
                        "textfont": {
                          "color": "#000036"
                        },
                        "type": "sankey"
                      }
                    ],
                    "scatter": [
                      {
                        "marker": {
                          "line": {
                            "width": 0
                          }
                        },
                        "type": "scatter"
                      }
                    ],
                    "table": [
                      {
                        "cells": {
                          "fill": {
                            "color": "#000038"
                          },
                          "font": {
                            "color": "#000037"
                          },
                          "line": {
                            "color": "#000039"
                          }
                        },
                        "header": {
                          "fill": {
                            "color": "#000040"
                          },
                          "font": {
                            "color": "#000036"
                          },
                          "line": {
                            "color": "#000039"
                          }
                        },
                        "type": "table"
                      }
                    ],
                    "waterfall": [
                      {
                        "connector": {
                          "line": {
                            "color": "#000036",
                            "width": 2
                          }
                        },
                        "decreasing": {
                          "marker": {
                            "color": "#000033"
                          }
                        },
                        "increasing": {
                          "marker": {
                            "color": "#000032"
                          }
                        },
                        "totals": {
                          "marker": {
                            "color": "#000034"
                          }
                        },
                        "type": "waterfall"
                      }
                    ]
                  },
                  "layout": {
                    "coloraxis": {
                      "colorscale": [
                        [
                          0,
                          "#000011"
                        ],
                        [
                          0.1111111111111111,
                          "#000012"
                        ],
                        [
                          0.2222222222222222,
                          "#000013"
                        ],
                        [
                          0.3333333333333333,
                          "#000014"
                        ],
                        [
                          0.4444444444444444,
                          "#000015"
                        ],
                        [
                          0.5555555555555556,
                          "#000016"
                        ],
                        [
                          0.6666666666666666,
                          "#000017"
                        ],
                        [
                          0.7777777777777778,
                          "#000018"
                        ],
                        [
                          0.8888888888888888,
                          "#000019"
                        ],
                        [
                          1,
                          "#000020"
                        ]
                      ]
                    },
                    "colorscale": {
                      "diverging": [
                        [
                          0,
                          "#000021"
                        ],
                        [
                          0.1,
                          "#000022"
                        ],
                        [
                          0.2,
                          "#000023"
                        ],
                        [
                          0.3,
                          "#000024"
                        ],
                        [
                          0.4,
                          "#000025"
                        ],
                        [
                          0.5,
                          "#000026"
                        ],
                        [
                          0.6,
                          "#000027"
                        ],
                        [
                          0.7,
                          "#000028"
                        ],
                        [
                          0.8,
                          "#000029"
                        ],
                        [
                          0.9,
                          "#000030"
                        ],
                        [
                          1,
                          "#000031"
                        ]
                      ],
                      "sequential": [
                        [
                          0,
                          "#000011"
                        ],
                        [
                          0.1111111111111111,
                          "#000012"
                        ],
                        [
                          0.2222222222222222,
                          "#000013"
                        ],
                        [
                          0.3333333333333333,
                          "#000014"
                        ],
                        [
                          0.4444444444444444,
                          "#000015"
                        ],
                        [
                          0.5555555555555556,
                          "#000016"
                        ],
                        [
                          0.6666666666666666,
                          "#000017"
                        ],
                        [
                          0.7777777777777778,
                          "#000018"
                        ],
                        [
                          0.8888888888888888,
                          "#000019"
                        ],
                        [
                          1,
                          "#000020"
                        ]
                      ],
                      "sequentialminus": [
                        [
                          0,
                          "#000011"
                        ],
                        [
                          0.1111111111111111,
                          "#000012"
                        ],
                        [
                          0.2222222222222222,
                          "#000013"
                        ],
                        [
                          0.3333333333333333,
                          "#000014"
                        ],
                        [
                          0.4444444444444444,
                          "#000015"
                        ],
                        [
                          0.5555555555555556,
                          "#000016"
                        ],
                        [
                          0.6666666666666666,
                          "#000017"
                        ],
                        [
                          0.7777777777777778,
                          "#000018"
                        ],
                        [
                          0.8888888888888888,
                          "#000019"
                        ],
                        [
                          1,
                          "#000020"
                        ]
                      ]
                    },
                    "colorway": [
                      "#000001",
                      "#000002",
                      "#000003",
                      "#000004",
                      "#000005",
                      "#000006",
                      "#000007",
                      "#000008",
                      "#000009",
                      "#000010"
                    ]
                  }
                },
                "title": {
                  "text": "Jumlah Pengguna Sepeda di Setiap Cuaca yang terjadi"
                },
                "xaxis": {
                  "anchor": "y",
                  "domain": [
                    0,
                    1
                  ],
                  "title": {
                    "text": "weathersit"
                  }
                },
                "yaxis": {
                  "anchor": "x",
                  "domain": [
                    0,
                    1
                  ],
                  "title": {
                    "text": "value"
                  }
                }
              }
            }
          },
          "metadata": {},
          "output_type": "display_data"
        }
      ],
      "source": [
        "x = 'weathersit'\n",
        "columns = ['casual', 'registered', 'cnt']\n",
        "title = 'Jumlah Pengguna Sepeda di Setiap Cuaca yang terjadi'\n",
        "colors_theme = [ 'lavender', 'plum', 'fuchsia']\n",
        "show_weathersit_rented_df_by_category(weathersit_rented_df , x, columns, title, colors_theme)"
      ]
    },
    {
      "cell_type": "markdown",
      "metadata": {
        "id": "oHUq-RaUSMlg"
      },
      "source": [
        "### Pertanyaan 3:Melihat perbandingan penyewaan sepeda menurut Hari dalam seminggu dan di hari kerja?"
      ]
    },
    {
      "cell_type": "code",
      "execution_count": 57,
      "metadata": {
        "colab": {
          "base_uri": "https://localhost:8080/"
        },
        "id": "ndNrVQ6_nlFV",
        "outputId": "86097fc2-b0a7-4b22-d10e-fc0fb5ac4c95"
      },
      "outputs": [
        {
          "name": "stderr",
          "output_type": "stream",
          "text": [
            "C:\\Users\\HP\\AppData\\Local\\Temp\\ipykernel_24496\\3115952050.py:3: FutureWarning:\n",
            "\n",
            "The default of observed=False is deprecated and will be changed to True in a future version of pandas. Pass observed=False to retain current behavior or observed=True to adopt the future default and silence this warning.\n",
            "\n"
          ]
        }
      ],
      "source": [
        "with tab3:\n",
        "    st.subheader('Pertayaan 3 : Melihat penyewaan sepeda menurut Hari dalam seminggu dan Hari Kerja?')\n",
        "    weekday_rented_df = create_weekday_rental_df (main_df)\n",
        "    st.write(weekday_rented_df)"
      ]
    },
    {
      "cell_type": "code",
      "execution_count": 58,
      "metadata": {
        "id": "ljvE4dRUn5NW"
      },
      "outputs": [],
      "source": [
        "weekday_rented_df_plot = weekday_rented_df.reset_index()"
      ]
    },
    {
      "cell_type": "code",
      "execution_count": 59,
      "metadata": {
        "id": "_iK50LU5oK0I"
      },
      "outputs": [],
      "source": [
        "def show_weekday_rented_df_by_category(df, x, columns, title, colors_theme):\n",
        "       figure = px.bar(weekday_rented_df_plot, x=x, y=columns,\n",
        "                  color_discrete_sequence=colors_theme, barmode='group',\n",
        "              title=title\n",
        "              )\n",
        "       return figure"
      ]
    },
    {
      "cell_type": "code",
      "execution_count": 60,
      "metadata": {
        "colab": {
          "base_uri": "https://localhost:8080/",
          "height": 542
        },
        "id": "CnZAdEJLofMF",
        "outputId": "c82ff8e5-dc65-408d-8455-64495b421738"
      },
      "outputs": [
        {
          "data": {
            "application/vnd.plotly.v1+json": {
              "config": {
                "plotlyServerURL": "https://plot.ly"
              },
              "data": [
                {
                  "alignmentgroup": "True",
                  "hovertemplate": "variable=casual<br>weekday=%{x}<br>value=%{y}<extra></extra>",
                  "legendgroup": "casual",
                  "marker": {
                    "color": "MidnightBlue",
                    "pattern": {
                      "shape": ""
                    }
                  },
                  "name": "casual",
                  "offsetgroup": "casual",
                  "orientation": "v",
                  "showlegend": true,
                  "textposition": "auto",
                  "type": "bar",
                  "x": [
                    "Friday",
                    "Monday",
                    "Satuday",
                    "Sunday",
                    "Thursday",
                    "Tuesday",
                    "wednesday"
                  ],
                  "xaxis": "x",
                  "y": [
                    78238,
                    70784,
                    153852,
                    140521,
                    61460,
                    57843,
                    57319
                  ],
                  "yaxis": "y"
                },
                {
                  "alignmentgroup": "True",
                  "hovertemplate": "variable=registered<br>weekday=%{x}<br>value=%{y}<extra></extra>",
                  "legendgroup": "registered",
                  "marker": {
                    "color": "cornflowerBlue",
                    "pattern": {
                      "shape": ""
                    }
                  },
                  "name": "registered",
                  "offsetgroup": "registered",
                  "orientation": "v",
                  "showlegend": true,
                  "textposition": "auto",
                  "type": "bar",
                  "x": [
                    "Friday",
                    "Monday",
                    "Satuday",
                    "Sunday",
                    "Thursday",
                    "Tuesday",
                    "wednesday"
                  ],
                  "xaxis": "x",
                  "y": [
                    409552,
                    384719,
                    323955,
                    303506,
                    423935,
                    411266,
                    415729
                  ],
                  "yaxis": "y"
                },
                {
                  "alignmentgroup": "True",
                  "hovertemplate": "variable=cnt<br>weekday=%{x}<br>value=%{y}<extra></extra>",
                  "legendgroup": "cnt",
                  "marker": {
                    "color": "PowderBlue",
                    "pattern": {
                      "shape": ""
                    }
                  },
                  "name": "cnt",
                  "offsetgroup": "cnt",
                  "orientation": "v",
                  "showlegend": true,
                  "textposition": "auto",
                  "type": "bar",
                  "x": [
                    "Friday",
                    "Monday",
                    "Satuday",
                    "Sunday",
                    "Thursday",
                    "Tuesday",
                    "wednesday"
                  ],
                  "xaxis": "x",
                  "y": [
                    487790,
                    455503,
                    477807,
                    444027,
                    485395,
                    469109,
                    473048
                  ],
                  "yaxis": "y"
                }
              ],
              "layout": {
                "barmode": "group",
                "legend": {
                  "title": {
                    "text": "variable"
                  },
                  "tracegroupgap": 0
                },
                "template": {
                  "data": {
                    "candlestick": [
                      {
                        "decreasing": {
                          "line": {
                            "color": "#000033"
                          }
                        },
                        "increasing": {
                          "line": {
                            "color": "#000032"
                          }
                        },
                        "type": "candlestick"
                      }
                    ],
                    "contour": [
                      {
                        "colorscale": [
                          [
                            0,
                            "#000011"
                          ],
                          [
                            0.1111111111111111,
                            "#000012"
                          ],
                          [
                            0.2222222222222222,
                            "#000013"
                          ],
                          [
                            0.3333333333333333,
                            "#000014"
                          ],
                          [
                            0.4444444444444444,
                            "#000015"
                          ],
                          [
                            0.5555555555555556,
                            "#000016"
                          ],
                          [
                            0.6666666666666666,
                            "#000017"
                          ],
                          [
                            0.7777777777777778,
                            "#000018"
                          ],
                          [
                            0.8888888888888888,
                            "#000019"
                          ],
                          [
                            1,
                            "#000020"
                          ]
                        ],
                        "type": "contour"
                      }
                    ],
                    "contourcarpet": [
                      {
                        "colorscale": [
                          [
                            0,
                            "#000011"
                          ],
                          [
                            0.1111111111111111,
                            "#000012"
                          ],
                          [
                            0.2222222222222222,
                            "#000013"
                          ],
                          [
                            0.3333333333333333,
                            "#000014"
                          ],
                          [
                            0.4444444444444444,
                            "#000015"
                          ],
                          [
                            0.5555555555555556,
                            "#000016"
                          ],
                          [
                            0.6666666666666666,
                            "#000017"
                          ],
                          [
                            0.7777777777777778,
                            "#000018"
                          ],
                          [
                            0.8888888888888888,
                            "#000019"
                          ],
                          [
                            1,
                            "#000020"
                          ]
                        ],
                        "type": "contourcarpet"
                      }
                    ],
                    "heatmap": [
                      {
                        "colorscale": [
                          [
                            0,
                            "#000011"
                          ],
                          [
                            0.1111111111111111,
                            "#000012"
                          ],
                          [
                            0.2222222222222222,
                            "#000013"
                          ],
                          [
                            0.3333333333333333,
                            "#000014"
                          ],
                          [
                            0.4444444444444444,
                            "#000015"
                          ],
                          [
                            0.5555555555555556,
                            "#000016"
                          ],
                          [
                            0.6666666666666666,
                            "#000017"
                          ],
                          [
                            0.7777777777777778,
                            "#000018"
                          ],
                          [
                            0.8888888888888888,
                            "#000019"
                          ],
                          [
                            1,
                            "#000020"
                          ]
                        ],
                        "type": "heatmap"
                      }
                    ],
                    "histogram2d": [
                      {
                        "colorscale": [
                          [
                            0,
                            "#000011"
                          ],
                          [
                            0.1111111111111111,
                            "#000012"
                          ],
                          [
                            0.2222222222222222,
                            "#000013"
                          ],
                          [
                            0.3333333333333333,
                            "#000014"
                          ],
                          [
                            0.4444444444444444,
                            "#000015"
                          ],
                          [
                            0.5555555555555556,
                            "#000016"
                          ],
                          [
                            0.6666666666666666,
                            "#000017"
                          ],
                          [
                            0.7777777777777778,
                            "#000018"
                          ],
                          [
                            0.8888888888888888,
                            "#000019"
                          ],
                          [
                            1,
                            "#000020"
                          ]
                        ],
                        "type": "histogram2d"
                      }
                    ],
                    "icicle": [
                      {
                        "textfont": {
                          "color": "white"
                        },
                        "type": "icicle"
                      }
                    ],
                    "sankey": [
                      {
                        "textfont": {
                          "color": "#000036"
                        },
                        "type": "sankey"
                      }
                    ],
                    "scatter": [
                      {
                        "marker": {
                          "line": {
                            "width": 0
                          }
                        },
                        "type": "scatter"
                      }
                    ],
                    "table": [
                      {
                        "cells": {
                          "fill": {
                            "color": "#000038"
                          },
                          "font": {
                            "color": "#000037"
                          },
                          "line": {
                            "color": "#000039"
                          }
                        },
                        "header": {
                          "fill": {
                            "color": "#000040"
                          },
                          "font": {
                            "color": "#000036"
                          },
                          "line": {
                            "color": "#000039"
                          }
                        },
                        "type": "table"
                      }
                    ],
                    "waterfall": [
                      {
                        "connector": {
                          "line": {
                            "color": "#000036",
                            "width": 2
                          }
                        },
                        "decreasing": {
                          "marker": {
                            "color": "#000033"
                          }
                        },
                        "increasing": {
                          "marker": {
                            "color": "#000032"
                          }
                        },
                        "totals": {
                          "marker": {
                            "color": "#000034"
                          }
                        },
                        "type": "waterfall"
                      }
                    ]
                  },
                  "layout": {
                    "coloraxis": {
                      "colorscale": [
                        [
                          0,
                          "#000011"
                        ],
                        [
                          0.1111111111111111,
                          "#000012"
                        ],
                        [
                          0.2222222222222222,
                          "#000013"
                        ],
                        [
                          0.3333333333333333,
                          "#000014"
                        ],
                        [
                          0.4444444444444444,
                          "#000015"
                        ],
                        [
                          0.5555555555555556,
                          "#000016"
                        ],
                        [
                          0.6666666666666666,
                          "#000017"
                        ],
                        [
                          0.7777777777777778,
                          "#000018"
                        ],
                        [
                          0.8888888888888888,
                          "#000019"
                        ],
                        [
                          1,
                          "#000020"
                        ]
                      ]
                    },
                    "colorscale": {
                      "diverging": [
                        [
                          0,
                          "#000021"
                        ],
                        [
                          0.1,
                          "#000022"
                        ],
                        [
                          0.2,
                          "#000023"
                        ],
                        [
                          0.3,
                          "#000024"
                        ],
                        [
                          0.4,
                          "#000025"
                        ],
                        [
                          0.5,
                          "#000026"
                        ],
                        [
                          0.6,
                          "#000027"
                        ],
                        [
                          0.7,
                          "#000028"
                        ],
                        [
                          0.8,
                          "#000029"
                        ],
                        [
                          0.9,
                          "#000030"
                        ],
                        [
                          1,
                          "#000031"
                        ]
                      ],
                      "sequential": [
                        [
                          0,
                          "#000011"
                        ],
                        [
                          0.1111111111111111,
                          "#000012"
                        ],
                        [
                          0.2222222222222222,
                          "#000013"
                        ],
                        [
                          0.3333333333333333,
                          "#000014"
                        ],
                        [
                          0.4444444444444444,
                          "#000015"
                        ],
                        [
                          0.5555555555555556,
                          "#000016"
                        ],
                        [
                          0.6666666666666666,
                          "#000017"
                        ],
                        [
                          0.7777777777777778,
                          "#000018"
                        ],
                        [
                          0.8888888888888888,
                          "#000019"
                        ],
                        [
                          1,
                          "#000020"
                        ]
                      ],
                      "sequentialminus": [
                        [
                          0,
                          "#000011"
                        ],
                        [
                          0.1111111111111111,
                          "#000012"
                        ],
                        [
                          0.2222222222222222,
                          "#000013"
                        ],
                        [
                          0.3333333333333333,
                          "#000014"
                        ],
                        [
                          0.4444444444444444,
                          "#000015"
                        ],
                        [
                          0.5555555555555556,
                          "#000016"
                        ],
                        [
                          0.6666666666666666,
                          "#000017"
                        ],
                        [
                          0.7777777777777778,
                          "#000018"
                        ],
                        [
                          0.8888888888888888,
                          "#000019"
                        ],
                        [
                          1,
                          "#000020"
                        ]
                      ]
                    },
                    "colorway": [
                      "#000001",
                      "#000002",
                      "#000003",
                      "#000004",
                      "#000005",
                      "#000006",
                      "#000007",
                      "#000008",
                      "#000009",
                      "#000010"
                    ]
                  }
                },
                "title": {
                  "text": "Melihat penyewaan sepeda menurut Hari dalam seminggu"
                },
                "xaxis": {
                  "anchor": "y",
                  "domain": [
                    0,
                    1
                  ],
                  "title": {
                    "text": "weekday"
                  }
                },
                "yaxis": {
                  "anchor": "x",
                  "domain": [
                    0,
                    1
                  ],
                  "title": {
                    "text": "value"
                  }
                }
              }
            }
          },
          "metadata": {},
          "output_type": "display_data"
        }
      ],
      "source": [
        "x = 'weekday'\n",
        "columns = ['casual', 'registered', 'cnt']\n",
        "title = 'Melihat penyewaan sepeda menurut Hari dalam seminggu'\n",
        "colors_theme = [ 'MidnightBlue', 'cornflowerBlue', 'PowderBlue']\n",
        "show_weekday_rented_df_by_category(weekday_rented_df , x, columns, title, colors_theme)"
      ]
    },
    {
      "cell_type": "code",
      "execution_count": 61,
      "metadata": {
        "id": "_oN2FANPrsu1"
      },
      "outputs": [],
      "source": [
        "workingday_rented_df_plot = workingday_rented_df.reset_index()"
      ]
    },
    {
      "cell_type": "code",
      "execution_count": 62,
      "metadata": {
        "id": "yEyfJDQ2sLin"
      },
      "outputs": [],
      "source": [
        "def show_workingday_rented_df_by_category(df, x, columns, title, colors_theme):\n",
        "       figure = px.bar(workingday_rented_df_plot, x=x, y=columns,\n",
        "                  color_discrete_sequence=colors_theme, barmode='group',\n",
        "              title=title\n",
        "              )\n",
        "       return figure"
      ]
    },
    {
      "cell_type": "code",
      "execution_count": 63,
      "metadata": {
        "colab": {
          "base_uri": "https://localhost:8080/",
          "height": 542
        },
        "id": "jM-ocSogsTzJ",
        "outputId": "680346ee-be55-49d1-eeef-0973237964a0"
      },
      "outputs": [
        {
          "data": {
            "application/vnd.plotly.v1+json": {
              "config": {
                "plotlyServerURL": "https://plot.ly"
              },
              "data": [
                {
                  "alignmentgroup": "True",
                  "hovertemplate": "variable=casual<br>workingday=%{x}<br>value=%{y}<extra></extra>",
                  "legendgroup": "casual",
                  "marker": {
                    "color": "maroon",
                    "pattern": {
                      "shape": ""
                    }
                  },
                  "name": "casual",
                  "offsetgroup": "casual",
                  "orientation": "v",
                  "showlegend": true,
                  "textposition": "auto",
                  "type": "bar",
                  "x": [
                    "No Working",
                    "Working"
                  ],
                  "xaxis": "x",
                  "y": [
                    316732,
                    303285
                  ],
                  "yaxis": "y"
                },
                {
                  "alignmentgroup": "True",
                  "hovertemplate": "variable=registered<br>workingday=%{x}<br>value=%{y}<extra></extra>",
                  "legendgroup": "registered",
                  "marker": {
                    "color": "magenta",
                    "pattern": {
                      "shape": ""
                    }
                  },
                  "name": "registered",
                  "offsetgroup": "registered",
                  "orientation": "v",
                  "showlegend": true,
                  "textposition": "auto",
                  "type": "bar",
                  "x": [
                    "No Working",
                    "Working"
                  ],
                  "xaxis": "x",
                  "y": [
                    683537,
                    1989125
                  ],
                  "yaxis": "y"
                },
                {
                  "alignmentgroup": "True",
                  "hovertemplate": "variable=cnt<br>workingday=%{x}<br>value=%{y}<extra></extra>",
                  "legendgroup": "cnt",
                  "marker": {
                    "color": "purple",
                    "pattern": {
                      "shape": ""
                    }
                  },
                  "name": "cnt",
                  "offsetgroup": "cnt",
                  "orientation": "v",
                  "showlegend": true,
                  "textposition": "auto",
                  "type": "bar",
                  "x": [
                    "No Working",
                    "Working"
                  ],
                  "xaxis": "x",
                  "y": [
                    1000269,
                    2292410
                  ],
                  "yaxis": "y"
                }
              ],
              "layout": {
                "barmode": "group",
                "legend": {
                  "title": {
                    "text": "variable"
                  },
                  "tracegroupgap": 0
                },
                "template": {
                  "data": {
                    "candlestick": [
                      {
                        "decreasing": {
                          "line": {
                            "color": "#000033"
                          }
                        },
                        "increasing": {
                          "line": {
                            "color": "#000032"
                          }
                        },
                        "type": "candlestick"
                      }
                    ],
                    "contour": [
                      {
                        "colorscale": [
                          [
                            0,
                            "#000011"
                          ],
                          [
                            0.1111111111111111,
                            "#000012"
                          ],
                          [
                            0.2222222222222222,
                            "#000013"
                          ],
                          [
                            0.3333333333333333,
                            "#000014"
                          ],
                          [
                            0.4444444444444444,
                            "#000015"
                          ],
                          [
                            0.5555555555555556,
                            "#000016"
                          ],
                          [
                            0.6666666666666666,
                            "#000017"
                          ],
                          [
                            0.7777777777777778,
                            "#000018"
                          ],
                          [
                            0.8888888888888888,
                            "#000019"
                          ],
                          [
                            1,
                            "#000020"
                          ]
                        ],
                        "type": "contour"
                      }
                    ],
                    "contourcarpet": [
                      {
                        "colorscale": [
                          [
                            0,
                            "#000011"
                          ],
                          [
                            0.1111111111111111,
                            "#000012"
                          ],
                          [
                            0.2222222222222222,
                            "#000013"
                          ],
                          [
                            0.3333333333333333,
                            "#000014"
                          ],
                          [
                            0.4444444444444444,
                            "#000015"
                          ],
                          [
                            0.5555555555555556,
                            "#000016"
                          ],
                          [
                            0.6666666666666666,
                            "#000017"
                          ],
                          [
                            0.7777777777777778,
                            "#000018"
                          ],
                          [
                            0.8888888888888888,
                            "#000019"
                          ],
                          [
                            1,
                            "#000020"
                          ]
                        ],
                        "type": "contourcarpet"
                      }
                    ],
                    "heatmap": [
                      {
                        "colorscale": [
                          [
                            0,
                            "#000011"
                          ],
                          [
                            0.1111111111111111,
                            "#000012"
                          ],
                          [
                            0.2222222222222222,
                            "#000013"
                          ],
                          [
                            0.3333333333333333,
                            "#000014"
                          ],
                          [
                            0.4444444444444444,
                            "#000015"
                          ],
                          [
                            0.5555555555555556,
                            "#000016"
                          ],
                          [
                            0.6666666666666666,
                            "#000017"
                          ],
                          [
                            0.7777777777777778,
                            "#000018"
                          ],
                          [
                            0.8888888888888888,
                            "#000019"
                          ],
                          [
                            1,
                            "#000020"
                          ]
                        ],
                        "type": "heatmap"
                      }
                    ],
                    "histogram2d": [
                      {
                        "colorscale": [
                          [
                            0,
                            "#000011"
                          ],
                          [
                            0.1111111111111111,
                            "#000012"
                          ],
                          [
                            0.2222222222222222,
                            "#000013"
                          ],
                          [
                            0.3333333333333333,
                            "#000014"
                          ],
                          [
                            0.4444444444444444,
                            "#000015"
                          ],
                          [
                            0.5555555555555556,
                            "#000016"
                          ],
                          [
                            0.6666666666666666,
                            "#000017"
                          ],
                          [
                            0.7777777777777778,
                            "#000018"
                          ],
                          [
                            0.8888888888888888,
                            "#000019"
                          ],
                          [
                            1,
                            "#000020"
                          ]
                        ],
                        "type": "histogram2d"
                      }
                    ],
                    "icicle": [
                      {
                        "textfont": {
                          "color": "white"
                        },
                        "type": "icicle"
                      }
                    ],
                    "sankey": [
                      {
                        "textfont": {
                          "color": "#000036"
                        },
                        "type": "sankey"
                      }
                    ],
                    "scatter": [
                      {
                        "marker": {
                          "line": {
                            "width": 0
                          }
                        },
                        "type": "scatter"
                      }
                    ],
                    "table": [
                      {
                        "cells": {
                          "fill": {
                            "color": "#000038"
                          },
                          "font": {
                            "color": "#000037"
                          },
                          "line": {
                            "color": "#000039"
                          }
                        },
                        "header": {
                          "fill": {
                            "color": "#000040"
                          },
                          "font": {
                            "color": "#000036"
                          },
                          "line": {
                            "color": "#000039"
                          }
                        },
                        "type": "table"
                      }
                    ],
                    "waterfall": [
                      {
                        "connector": {
                          "line": {
                            "color": "#000036",
                            "width": 2
                          }
                        },
                        "decreasing": {
                          "marker": {
                            "color": "#000033"
                          }
                        },
                        "increasing": {
                          "marker": {
                            "color": "#000032"
                          }
                        },
                        "totals": {
                          "marker": {
                            "color": "#000034"
                          }
                        },
                        "type": "waterfall"
                      }
                    ]
                  },
                  "layout": {
                    "coloraxis": {
                      "colorscale": [
                        [
                          0,
                          "#000011"
                        ],
                        [
                          0.1111111111111111,
                          "#000012"
                        ],
                        [
                          0.2222222222222222,
                          "#000013"
                        ],
                        [
                          0.3333333333333333,
                          "#000014"
                        ],
                        [
                          0.4444444444444444,
                          "#000015"
                        ],
                        [
                          0.5555555555555556,
                          "#000016"
                        ],
                        [
                          0.6666666666666666,
                          "#000017"
                        ],
                        [
                          0.7777777777777778,
                          "#000018"
                        ],
                        [
                          0.8888888888888888,
                          "#000019"
                        ],
                        [
                          1,
                          "#000020"
                        ]
                      ]
                    },
                    "colorscale": {
                      "diverging": [
                        [
                          0,
                          "#000021"
                        ],
                        [
                          0.1,
                          "#000022"
                        ],
                        [
                          0.2,
                          "#000023"
                        ],
                        [
                          0.3,
                          "#000024"
                        ],
                        [
                          0.4,
                          "#000025"
                        ],
                        [
                          0.5,
                          "#000026"
                        ],
                        [
                          0.6,
                          "#000027"
                        ],
                        [
                          0.7,
                          "#000028"
                        ],
                        [
                          0.8,
                          "#000029"
                        ],
                        [
                          0.9,
                          "#000030"
                        ],
                        [
                          1,
                          "#000031"
                        ]
                      ],
                      "sequential": [
                        [
                          0,
                          "#000011"
                        ],
                        [
                          0.1111111111111111,
                          "#000012"
                        ],
                        [
                          0.2222222222222222,
                          "#000013"
                        ],
                        [
                          0.3333333333333333,
                          "#000014"
                        ],
                        [
                          0.4444444444444444,
                          "#000015"
                        ],
                        [
                          0.5555555555555556,
                          "#000016"
                        ],
                        [
                          0.6666666666666666,
                          "#000017"
                        ],
                        [
                          0.7777777777777778,
                          "#000018"
                        ],
                        [
                          0.8888888888888888,
                          "#000019"
                        ],
                        [
                          1,
                          "#000020"
                        ]
                      ],
                      "sequentialminus": [
                        [
                          0,
                          "#000011"
                        ],
                        [
                          0.1111111111111111,
                          "#000012"
                        ],
                        [
                          0.2222222222222222,
                          "#000013"
                        ],
                        [
                          0.3333333333333333,
                          "#000014"
                        ],
                        [
                          0.4444444444444444,
                          "#000015"
                        ],
                        [
                          0.5555555555555556,
                          "#000016"
                        ],
                        [
                          0.6666666666666666,
                          "#000017"
                        ],
                        [
                          0.7777777777777778,
                          "#000018"
                        ],
                        [
                          0.8888888888888888,
                          "#000019"
                        ],
                        [
                          1,
                          "#000020"
                        ]
                      ]
                    },
                    "colorway": [
                      "#000001",
                      "#000002",
                      "#000003",
                      "#000004",
                      "#000005",
                      "#000006",
                      "#000007",
                      "#000008",
                      "#000009",
                      "#000010"
                    ]
                  }
                },
                "title": {
                  "text": "Melihat penyewaan sepeda menurut Hari Kerja"
                },
                "xaxis": {
                  "anchor": "y",
                  "domain": [
                    0,
                    1
                  ],
                  "title": {
                    "text": "workingday"
                  }
                },
                "yaxis": {
                  "anchor": "x",
                  "domain": [
                    0,
                    1
                  ],
                  "title": {
                    "text": "value"
                  }
                }
              }
            }
          },
          "metadata": {},
          "output_type": "display_data"
        }
      ],
      "source": [
        "x = 'workingday'\n",
        "columns = ['casual', 'registered', 'cnt']\n",
        "title = 'Melihat penyewaan sepeda menurut Hari Kerja'\n",
        "colors_theme = ['maroon', 'magenta', 'purple']\n",
        "show_workingday_rented_df_by_category(workingday_rented_df , x, columns, title, colors_theme)"
      ]
    },
    {
      "cell_type": "markdown",
      "metadata": {
        "id": "1TjaodJYSXT5"
      },
      "source": [
        "### Pertanyaan 4:Melihat Pengguna Sepeda Disetiap Jam?"
      ]
    },
    {
      "cell_type": "code",
      "execution_count": 64,
      "metadata": {
        "colab": {
          "base_uri": "https://localhost:8080/"
        },
        "id": "p-iwUAtf0lt-",
        "outputId": "9757934c-955d-4a14-c671-25181a342424"
      },
      "outputs": [
        {
          "name": "stderr",
          "output_type": "stream",
          "text": [
            "C:\\Users\\HP\\AppData\\Local\\Temp\\ipykernel_24496\\1735036784.py:3: FutureWarning:\n",
            "\n",
            "The default of observed=False is deprecated and will be changed to True in a future version of pandas. Pass observed=False to retain current behavior or observed=True to adopt the future default and silence this warning.\n",
            "\n"
          ]
        }
      ],
      "source": [
        "with tab4:\n",
        "    st.subheader('Pertayaan 4 : Melihat Tren Jumlah Berdasarkan Jam?')\n",
        "    hourly_rented_df = create_hourly_rental_df(hourly_df)\n",
        "    st.write(hourly_rented_df)"
      ]
    },
    {
      "cell_type": "code",
      "execution_count": 65,
      "metadata": {
        "id": "DP2QyqEQ0ooh"
      },
      "outputs": [],
      "source": [
        "hourly_rented_df_plot = hourly_rented_df.reset_index()"
      ]
    },
    {
      "cell_type": "code",
      "execution_count": 66,
      "metadata": {
        "id": "oX0gMTUA1Kms"
      },
      "outputs": [],
      "source": [
        "def show_hourly_rented_df_by_category(df, x, columns, title, colors_theme):\n",
        "       figure = px.line(hourly_rented_df_plot, x=x, y=columns,\n",
        "                  color_discrete_sequence=colors_theme,\n",
        "              title=title\n",
        "              )\n",
        "       return figure"
      ]
    },
    {
      "cell_type": "code",
      "execution_count": 67,
      "metadata": {
        "colab": {
          "base_uri": "https://localhost:8080/",
          "height": 542
        },
        "id": "UnDLXrGh1mwc",
        "outputId": "29aab3ad-704f-4922-d802-297b5d620102"
      },
      "outputs": [
        {
          "data": {
            "application/vnd.plotly.v1+json": {
              "config": {
                "plotlyServerURL": "https://plot.ly"
              },
              "data": [
                {
                  "hovertemplate": "variable=casual<br>hr=%{x}<br>value=%{y}<extra></extra>",
                  "legendgroup": "casual",
                  "line": {
                    "color": "red",
                    "dash": "solid"
                  },
                  "marker": {
                    "symbol": "circle"
                  },
                  "mode": "lines",
                  "name": "casual",
                  "orientation": "v",
                  "showlegend": true,
                  "type": "scatter",
                  "x": [
                    0,
                    1,
                    2,
                    3,
                    4,
                    5,
                    6,
                    7,
                    8,
                    9,
                    10,
                    11,
                    12,
                    13,
                    14,
                    15,
                    16,
                    17,
                    18,
                    19,
                    20,
                    21,
                    22,
                    23
                  ],
                  "xaxis": "x",
                  "y": [
                    7375,
                    4709,
                    3412,
                    1893,
                    874,
                    1012,
                    3017,
                    8037,
                    15761,
                    22458,
                    33789,
                    43286,
                    49718,
                    52713,
                    55089,
                    54606,
                    53834,
                    54220,
                    44496,
                    35505,
                    26378,
                    20570,
                    16200,
                    11065
                  ],
                  "yaxis": "y"
                },
                {
                  "hovertemplate": "variable=registered<br>hr=%{x}<br>value=%{y}<extra></extra>",
                  "legendgroup": "registered",
                  "line": {
                    "color": "yellow",
                    "dash": "solid"
                  },
                  "marker": {
                    "symbol": "circle"
                  },
                  "mode": "lines",
                  "name": "registered",
                  "orientation": "v",
                  "showlegend": true,
                  "type": "scatter",
                  "x": [
                    0,
                    1,
                    2,
                    3,
                    4,
                    5,
                    6,
                    7,
                    8,
                    9,
                    10,
                    11,
                    12,
                    13,
                    14,
                    15,
                    16,
                    17,
                    18,
                    19,
                    20,
                    21,
                    22,
                    23
                  ],
                  "xaxis": "x",
                  "y": [
                    31755,
                    19455,
                    12940,
                    6281,
                    3554,
                    13249,
                    52115,
                    146134,
                    245240,
                    136980,
                    92468,
                    108034,
                    134696,
                    132206,
                    120563,
                    128543,
                    173914,
                    282640,
                    265276,
                    191284,
                    138172,
                    104875,
                    79412,
                    52876
                  ],
                  "yaxis": "y"
                },
                {
                  "hovertemplate": "variable=cnt<br>hr=%{x}<br>value=%{y}<extra></extra>",
                  "legendgroup": "cnt",
                  "line": {
                    "color": "green",
                    "dash": "solid"
                  },
                  "marker": {
                    "symbol": "circle"
                  },
                  "mode": "lines",
                  "name": "cnt",
                  "orientation": "v",
                  "showlegend": true,
                  "type": "scatter",
                  "x": [
                    0,
                    1,
                    2,
                    3,
                    4,
                    5,
                    6,
                    7,
                    8,
                    9,
                    10,
                    11,
                    12,
                    13,
                    14,
                    15,
                    16,
                    17,
                    18,
                    19,
                    20,
                    21,
                    22,
                    23
                  ],
                  "xaxis": "x",
                  "y": [
                    39130,
                    24164,
                    16352,
                    8174,
                    4428,
                    14261,
                    55132,
                    154171,
                    261001,
                    159438,
                    126257,
                    151320,
                    184414,
                    184919,
                    175652,
                    183149,
                    227748,
                    336860,
                    309772,
                    226789,
                    164550,
                    125445,
                    95612,
                    63941
                  ],
                  "yaxis": "y"
                }
              ],
              "layout": {
                "legend": {
                  "title": {
                    "text": "variable"
                  },
                  "tracegroupgap": 0
                },
                "template": {
                  "data": {
                    "candlestick": [
                      {
                        "decreasing": {
                          "line": {
                            "color": "#000033"
                          }
                        },
                        "increasing": {
                          "line": {
                            "color": "#000032"
                          }
                        },
                        "type": "candlestick"
                      }
                    ],
                    "contour": [
                      {
                        "colorscale": [
                          [
                            0,
                            "#000011"
                          ],
                          [
                            0.1111111111111111,
                            "#000012"
                          ],
                          [
                            0.2222222222222222,
                            "#000013"
                          ],
                          [
                            0.3333333333333333,
                            "#000014"
                          ],
                          [
                            0.4444444444444444,
                            "#000015"
                          ],
                          [
                            0.5555555555555556,
                            "#000016"
                          ],
                          [
                            0.6666666666666666,
                            "#000017"
                          ],
                          [
                            0.7777777777777778,
                            "#000018"
                          ],
                          [
                            0.8888888888888888,
                            "#000019"
                          ],
                          [
                            1,
                            "#000020"
                          ]
                        ],
                        "type": "contour"
                      }
                    ],
                    "contourcarpet": [
                      {
                        "colorscale": [
                          [
                            0,
                            "#000011"
                          ],
                          [
                            0.1111111111111111,
                            "#000012"
                          ],
                          [
                            0.2222222222222222,
                            "#000013"
                          ],
                          [
                            0.3333333333333333,
                            "#000014"
                          ],
                          [
                            0.4444444444444444,
                            "#000015"
                          ],
                          [
                            0.5555555555555556,
                            "#000016"
                          ],
                          [
                            0.6666666666666666,
                            "#000017"
                          ],
                          [
                            0.7777777777777778,
                            "#000018"
                          ],
                          [
                            0.8888888888888888,
                            "#000019"
                          ],
                          [
                            1,
                            "#000020"
                          ]
                        ],
                        "type": "contourcarpet"
                      }
                    ],
                    "heatmap": [
                      {
                        "colorscale": [
                          [
                            0,
                            "#000011"
                          ],
                          [
                            0.1111111111111111,
                            "#000012"
                          ],
                          [
                            0.2222222222222222,
                            "#000013"
                          ],
                          [
                            0.3333333333333333,
                            "#000014"
                          ],
                          [
                            0.4444444444444444,
                            "#000015"
                          ],
                          [
                            0.5555555555555556,
                            "#000016"
                          ],
                          [
                            0.6666666666666666,
                            "#000017"
                          ],
                          [
                            0.7777777777777778,
                            "#000018"
                          ],
                          [
                            0.8888888888888888,
                            "#000019"
                          ],
                          [
                            1,
                            "#000020"
                          ]
                        ],
                        "type": "heatmap"
                      }
                    ],
                    "histogram2d": [
                      {
                        "colorscale": [
                          [
                            0,
                            "#000011"
                          ],
                          [
                            0.1111111111111111,
                            "#000012"
                          ],
                          [
                            0.2222222222222222,
                            "#000013"
                          ],
                          [
                            0.3333333333333333,
                            "#000014"
                          ],
                          [
                            0.4444444444444444,
                            "#000015"
                          ],
                          [
                            0.5555555555555556,
                            "#000016"
                          ],
                          [
                            0.6666666666666666,
                            "#000017"
                          ],
                          [
                            0.7777777777777778,
                            "#000018"
                          ],
                          [
                            0.8888888888888888,
                            "#000019"
                          ],
                          [
                            1,
                            "#000020"
                          ]
                        ],
                        "type": "histogram2d"
                      }
                    ],
                    "icicle": [
                      {
                        "textfont": {
                          "color": "white"
                        },
                        "type": "icicle"
                      }
                    ],
                    "sankey": [
                      {
                        "textfont": {
                          "color": "#000036"
                        },
                        "type": "sankey"
                      }
                    ],
                    "scatter": [
                      {
                        "marker": {
                          "line": {
                            "width": 0
                          }
                        },
                        "type": "scatter"
                      }
                    ],
                    "table": [
                      {
                        "cells": {
                          "fill": {
                            "color": "#000038"
                          },
                          "font": {
                            "color": "#000037"
                          },
                          "line": {
                            "color": "#000039"
                          }
                        },
                        "header": {
                          "fill": {
                            "color": "#000040"
                          },
                          "font": {
                            "color": "#000036"
                          },
                          "line": {
                            "color": "#000039"
                          }
                        },
                        "type": "table"
                      }
                    ],
                    "waterfall": [
                      {
                        "connector": {
                          "line": {
                            "color": "#000036",
                            "width": 2
                          }
                        },
                        "decreasing": {
                          "marker": {
                            "color": "#000033"
                          }
                        },
                        "increasing": {
                          "marker": {
                            "color": "#000032"
                          }
                        },
                        "totals": {
                          "marker": {
                            "color": "#000034"
                          }
                        },
                        "type": "waterfall"
                      }
                    ]
                  },
                  "layout": {
                    "coloraxis": {
                      "colorscale": [
                        [
                          0,
                          "#000011"
                        ],
                        [
                          0.1111111111111111,
                          "#000012"
                        ],
                        [
                          0.2222222222222222,
                          "#000013"
                        ],
                        [
                          0.3333333333333333,
                          "#000014"
                        ],
                        [
                          0.4444444444444444,
                          "#000015"
                        ],
                        [
                          0.5555555555555556,
                          "#000016"
                        ],
                        [
                          0.6666666666666666,
                          "#000017"
                        ],
                        [
                          0.7777777777777778,
                          "#000018"
                        ],
                        [
                          0.8888888888888888,
                          "#000019"
                        ],
                        [
                          1,
                          "#000020"
                        ]
                      ]
                    },
                    "colorscale": {
                      "diverging": [
                        [
                          0,
                          "#000021"
                        ],
                        [
                          0.1,
                          "#000022"
                        ],
                        [
                          0.2,
                          "#000023"
                        ],
                        [
                          0.3,
                          "#000024"
                        ],
                        [
                          0.4,
                          "#000025"
                        ],
                        [
                          0.5,
                          "#000026"
                        ],
                        [
                          0.6,
                          "#000027"
                        ],
                        [
                          0.7,
                          "#000028"
                        ],
                        [
                          0.8,
                          "#000029"
                        ],
                        [
                          0.9,
                          "#000030"
                        ],
                        [
                          1,
                          "#000031"
                        ]
                      ],
                      "sequential": [
                        [
                          0,
                          "#000011"
                        ],
                        [
                          0.1111111111111111,
                          "#000012"
                        ],
                        [
                          0.2222222222222222,
                          "#000013"
                        ],
                        [
                          0.3333333333333333,
                          "#000014"
                        ],
                        [
                          0.4444444444444444,
                          "#000015"
                        ],
                        [
                          0.5555555555555556,
                          "#000016"
                        ],
                        [
                          0.6666666666666666,
                          "#000017"
                        ],
                        [
                          0.7777777777777778,
                          "#000018"
                        ],
                        [
                          0.8888888888888888,
                          "#000019"
                        ],
                        [
                          1,
                          "#000020"
                        ]
                      ],
                      "sequentialminus": [
                        [
                          0,
                          "#000011"
                        ],
                        [
                          0.1111111111111111,
                          "#000012"
                        ],
                        [
                          0.2222222222222222,
                          "#000013"
                        ],
                        [
                          0.3333333333333333,
                          "#000014"
                        ],
                        [
                          0.4444444444444444,
                          "#000015"
                        ],
                        [
                          0.5555555555555556,
                          "#000016"
                        ],
                        [
                          0.6666666666666666,
                          "#000017"
                        ],
                        [
                          0.7777777777777778,
                          "#000018"
                        ],
                        [
                          0.8888888888888888,
                          "#000019"
                        ],
                        [
                          1,
                          "#000020"
                        ]
                      ]
                    },
                    "colorway": [
                      "#000001",
                      "#000002",
                      "#000003",
                      "#000004",
                      "#000005",
                      "#000006",
                      "#000007",
                      "#000008",
                      "#000009",
                      "#000010"
                    ]
                  }
                },
                "title": {
                  "text": "Melihat Tren Jumlah Berdasarkan Jam"
                },
                "xaxis": {
                  "anchor": "y",
                  "domain": [
                    0,
                    1
                  ],
                  "title": {
                    "text": "hr"
                  }
                },
                "yaxis": {
                  "anchor": "x",
                  "domain": [
                    0,
                    1
                  ],
                  "title": {
                    "text": "value"
                  }
                }
              }
            }
          },
          "metadata": {},
          "output_type": "display_data"
        }
      ],
      "source": [
        "x = 'hr'\n",
        "columns = ['casual', 'registered', 'cnt']\n",
        "title = 'Melihat Tren Jumlah Berdasarkan Jam'\n",
        "colors_theme = ['red', 'yellow', 'green']\n",
        "show_hourly_rented_df_by_category(hourly_rented_df , x, columns, title, colors_theme)"
      ]
    },
    {
      "cell_type": "markdown",
      "metadata": {
        "id": "ZiusB8paSYzo"
      },
      "source": [
        "### Pertanyaan 5:Melihat Pengguna Sepeda Menurut Jam dan Hari?"
      ]
    },
    {
      "cell_type": "code",
      "execution_count": 68,
      "metadata": {
        "colab": {
          "base_uri": "https://localhost:8080/"
        },
        "id": "eQ8D4o6Z21Qo",
        "outputId": "fe4bb6fc-d4d8-48a6-f401-7377a11779e3"
      },
      "outputs": [
        {
          "name": "stderr",
          "output_type": "stream",
          "text": [
            "C:\\Users\\HP\\AppData\\Local\\Temp\\ipykernel_24496\\1209988593.py:3: FutureWarning:\n",
            "\n",
            "The default of observed=False is deprecated and will be changed to True in a future version of pandas. Pass observed=False to retain current behavior or observed=True to adopt the future default and silence this warning.\n",
            "\n"
          ]
        }
      ],
      "source": [
        "with tab5:\n",
        "    st.subheader('Pertayaan 5 : Melihat Pengguna Sepeda Menurut Jam dan Hari?')\n",
        "    dailyhour_rented_df = create_dailyhour_rental_df (hourly_df)\n",
        "    st.write(dailyhour_rented_df )"
      ]
    },
    {
      "cell_type": "code",
      "execution_count": 69,
      "metadata": {
        "id": "3_00u-vV23Fa"
      },
      "outputs": [],
      "source": [
        "dailyhour_rented_df_plot = dailyhour_rented_df.reset_index()"
      ]
    },
    {
      "cell_type": "code",
      "execution_count": 70,
      "metadata": {
        "id": "BuSUdRw-3jOT"
      },
      "outputs": [],
      "source": [
        "def show_dailyhour_rented_df_by_category(df, x, columns, title, colors_theme, facet_col=None, facet_col_wrap=None):\n",
        "       figure = px.line(dailyhour_rented_df_plot, x=x, y=columns,\n",
        "                  color_discrete_sequence=colors_theme,\n",
        "                        title=title,\n",
        "                        facet_col=facet_col,\n",
        "                        facet_col_wrap=facet_col_wrap\n",
        "              )\n",
        "       return figure"
      ]
    },
    {
      "cell_type": "code",
      "execution_count": 71,
      "metadata": {
        "colab": {
          "base_uri": "https://localhost:8080/",
          "height": 631
        },
        "id": "lPa8juyF4hEd",
        "outputId": "0753fa79-6b62-4df6-eb22-4d649d712378"
      },
      "outputs": [
        {
          "data": {
            "application/vnd.plotly.v1+json": {
              "config": {
                "plotlyServerURL": "https://plot.ly"
              },
              "data": [
                {
                  "hovertemplate": "variable=casual<br>weekday=Friday<br>hr=%{x}<br>value=%{y}<extra></extra>",
                  "legendgroup": "casual",
                  "line": {
                    "color": "orchid",
                    "dash": "solid"
                  },
                  "marker": {
                    "symbol": "circle"
                  },
                  "mode": "lines",
                  "name": "casual",
                  "orientation": "v",
                  "showlegend": true,
                  "type": "scatter",
                  "x": [
                    0,
                    1,
                    2,
                    3,
                    4,
                    5,
                    6,
                    7,
                    8,
                    9,
                    10,
                    11,
                    12,
                    13,
                    14,
                    15,
                    16,
                    17,
                    18,
                    19,
                    20,
                    21,
                    22,
                    23
                  ],
                  "xaxis": "x7",
                  "y": [
                    962,
                    522,
                    302,
                    140,
                    101,
                    134,
                    454,
                    1198,
                    2393,
                    2844,
                    3911,
                    4916,
                    5800,
                    6051,
                    6718,
                    6638,
                    6623,
                    6871,
                    5669,
                    4567,
                    3590,
                    3024,
                    2783,
                    2027
                  ],
                  "yaxis": "y7"
                },
                {
                  "hovertemplate": "variable=casual<br>weekday=Monday<br>hr=%{x}<br>value=%{y}<extra></extra>",
                  "legendgroup": "casual",
                  "line": {
                    "color": "orchid",
                    "dash": "solid"
                  },
                  "marker": {
                    "symbol": "circle"
                  },
                  "mode": "lines",
                  "name": "casual",
                  "orientation": "v",
                  "showlegend": false,
                  "type": "scatter",
                  "x": [
                    0,
                    1,
                    2,
                    3,
                    4,
                    5,
                    6,
                    7,
                    8,
                    9,
                    10,
                    11,
                    12,
                    13,
                    14,
                    15,
                    16,
                    17,
                    18,
                    19,
                    20,
                    21,
                    22,
                    23
                  ],
                  "xaxis": "x8",
                  "y": [
                    989,
                    520,
                    335,
                    115,
                    111,
                    134,
                    410,
                    1110,
                    2297,
                    3063,
                    4294,
                    5031,
                    5397,
                    5533,
                    5710,
                    5615,
                    5627,
                    6123,
                    5325,
                    4330,
                    3366,
                    2484,
                    1785,
                    1080
                  ],
                  "yaxis": "y8"
                },
                {
                  "hovertemplate": "variable=casual<br>weekday=Satuday<br>hr=%{x}<br>value=%{y}<extra></extra>",
                  "legendgroup": "casual",
                  "line": {
                    "color": "orchid",
                    "dash": "solid"
                  },
                  "marker": {
                    "symbol": "circle"
                  },
                  "mode": "lines",
                  "name": "casual",
                  "orientation": "v",
                  "showlegend": false,
                  "type": "scatter",
                  "x": [
                    0,
                    1,
                    2,
                    3,
                    4,
                    5,
                    6,
                    7,
                    8,
                    9,
                    10,
                    11,
                    12,
                    13,
                    14,
                    15,
                    16,
                    17,
                    18,
                    19,
                    20,
                    21,
                    22,
                    23
                  ],
                  "xaxis": "x5",
                  "y": [
                    1629,
                    1125,
                    922,
                    536,
                    220,
                    164,
                    442,
                    866,
                    2080,
                    4641,
                    8067,
                    11230,
                    13768,
                    15172,
                    15751,
                    15881,
                    15173,
                    13263,
                    9766,
                    7427,
                    5261,
                    4152,
                    3635,
                    2681
                  ],
                  "yaxis": "y5"
                },
                {
                  "hovertemplate": "variable=casual<br>weekday=Sunday<br>hr=%{x}<br>value=%{y}<extra></extra>",
                  "legendgroup": "casual",
                  "line": {
                    "color": "orchid",
                    "dash": "solid"
                  },
                  "marker": {
                    "symbol": "circle"
                  },
                  "mode": "lines",
                  "name": "casual",
                  "orientation": "v",
                  "showlegend": false,
                  "type": "scatter",
                  "x": [
                    0,
                    1,
                    2,
                    3,
                    4,
                    5,
                    6,
                    7,
                    8,
                    9,
                    10,
                    11,
                    12,
                    13,
                    14,
                    15,
                    16,
                    17,
                    18,
                    19,
                    20,
                    21,
                    22,
                    23
                  ],
                  "xaxis": "x6",
                  "y": [
                    1896,
                    1560,
                    1284,
                    870,
                    258,
                    186,
                    359,
                    944,
                    2142,
                    4835,
                    8740,
                    11520,
                    13309,
                    14136,
                    14307,
                    13793,
                    12709,
                    10985,
                    8343,
                    6621,
                    4528,
                    3403,
                    2279,
                    1514
                  ],
                  "yaxis": "y6"
                },
                {
                  "hovertemplate": "variable=casual<br>weekday=Thursday<br>hr=%{x}<br>value=%{y}<extra></extra>",
                  "legendgroup": "casual",
                  "line": {
                    "color": "orchid",
                    "dash": "solid"
                  },
                  "marker": {
                    "symbol": "circle"
                  },
                  "mode": "lines",
                  "name": "casual",
                  "orientation": "v",
                  "showlegend": false,
                  "type": "scatter",
                  "x": [
                    0,
                    1,
                    2,
                    3,
                    4,
                    5,
                    6,
                    7,
                    8,
                    9,
                    10,
                    11,
                    12,
                    13,
                    14,
                    15,
                    16,
                    17,
                    18,
                    19,
                    20,
                    21,
                    22,
                    23
                  ],
                  "xaxis": "x3",
                  "y": [
                    705,
                    367,
                    224,
                    82,
                    68,
                    142,
                    464,
                    1316,
                    2221,
                    2427,
                    2978,
                    3707,
                    3869,
                    4180,
                    4373,
                    4550,
                    4725,
                    5855,
                    5372,
                    4403,
                    3460,
                    2536,
                    2050,
                    1386
                  ],
                  "yaxis": "y3"
                },
                {
                  "hovertemplate": "variable=casual<br>weekday=Tuesday<br>hr=%{x}<br>value=%{y}<extra></extra>",
                  "legendgroup": "casual",
                  "line": {
                    "color": "orchid",
                    "dash": "solid"
                  },
                  "marker": {
                    "symbol": "circle"
                  },
                  "mode": "lines",
                  "name": "casual",
                  "orientation": "v",
                  "showlegend": false,
                  "type": "scatter",
                  "x": [
                    0,
                    1,
                    2,
                    3,
                    4,
                    5,
                    6,
                    7,
                    8,
                    9,
                    10,
                    11,
                    12,
                    13,
                    14,
                    15,
                    16,
                    17,
                    18,
                    19,
                    20,
                    21,
                    22,
                    23
                  ],
                  "xaxis": "x4",
                  "y": [
                    583,
                    325,
                    190,
                    85,
                    63,
                    121,
                    422,
                    1273,
                    2248,
                    2342,
                    2990,
                    3415,
                    3815,
                    3882,
                    4104,
                    4278,
                    4657,
                    5722,
                    5139,
                    3937,
                    3028,
                    2423,
                    1679,
                    1122
                  ],
                  "yaxis": "y4"
                },
                {
                  "hovertemplate": "variable=casual<br>weekday=wednesday<br>hr=%{x}<br>value=%{y}<extra></extra>",
                  "legendgroup": "casual",
                  "line": {
                    "color": "orchid",
                    "dash": "solid"
                  },
                  "marker": {
                    "symbol": "circle"
                  },
                  "mode": "lines",
                  "name": "casual",
                  "orientation": "v",
                  "showlegend": false,
                  "type": "scatter",
                  "x": [
                    0,
                    1,
                    2,
                    3,
                    4,
                    5,
                    6,
                    7,
                    8,
                    9,
                    10,
                    11,
                    12,
                    13,
                    14,
                    15,
                    16,
                    17,
                    18,
                    19,
                    20,
                    21,
                    22,
                    23
                  ],
                  "xaxis": "x",
                  "y": [
                    611,
                    290,
                    155,
                    65,
                    53,
                    131,
                    466,
                    1330,
                    2380,
                    2306,
                    2809,
                    3467,
                    3760,
                    3759,
                    4126,
                    3851,
                    4320,
                    5401,
                    4882,
                    4220,
                    3145,
                    2548,
                    1989,
                    1255
                  ],
                  "yaxis": "y"
                },
                {
                  "hovertemplate": "variable=registered<br>weekday=Friday<br>hr=%{x}<br>value=%{y}<extra></extra>",
                  "legendgroup": "registered",
                  "line": {
                    "color": "darkred",
                    "dash": "solid"
                  },
                  "marker": {
                    "symbol": "circle"
                  },
                  "mode": "lines",
                  "name": "registered",
                  "orientation": "v",
                  "showlegend": true,
                  "type": "scatter",
                  "x": [
                    0,
                    1,
                    2,
                    3,
                    4,
                    5,
                    6,
                    7,
                    8,
                    9,
                    10,
                    11,
                    12,
                    13,
                    14,
                    15,
                    16,
                    17,
                    18,
                    19,
                    20,
                    21,
                    22,
                    23
                  ],
                  "xaxis": "x7",
                  "y": [
                    4491,
                    2049,
                    1023,
                    533,
                    488,
                    2352,
                    8909,
                    25252,
                    45684,
                    24091,
                    12493,
                    14648,
                    18915,
                    19062,
                    17136,
                    19618,
                    27800,
                    44340,
                    38114,
                    26848,
                    18596,
                    14643,
                    12512,
                    9955
                  ],
                  "yaxis": "y7"
                },
                {
                  "hovertemplate": "variable=registered<br>weekday=Monday<br>hr=%{x}<br>value=%{y}<extra></extra>",
                  "legendgroup": "registered",
                  "line": {
                    "color": "darkred",
                    "dash": "solid"
                  },
                  "marker": {
                    "symbol": "circle"
                  },
                  "mode": "lines",
                  "name": "registered",
                  "orientation": "v",
                  "showlegend": false,
                  "type": "scatter",
                  "x": [
                    0,
                    1,
                    2,
                    3,
                    4,
                    5,
                    6,
                    7,
                    8,
                    9,
                    10,
                    11,
                    12,
                    13,
                    14,
                    15,
                    16,
                    17,
                    18,
                    19,
                    20,
                    21,
                    22,
                    23
                  ],
                  "xaxis": "x8",
                  "y": [
                    2582,
                    1280,
                    686,
                    381,
                    456,
                    2118,
                    8520,
                    24738,
                    40571,
                    19655,
                    10165,
                    11993,
                    16184,
                    15851,
                    14331,
                    15431,
                    23956,
                    46126,
                    44735,
                    31506,
                    21810,
                    15668,
                    10254,
                    5722
                  ],
                  "yaxis": "y8"
                },
                {
                  "hovertemplate": "variable=registered<br>weekday=Satuday<br>hr=%{x}<br>value=%{y}<extra></extra>",
                  "legendgroup": "registered",
                  "line": {
                    "color": "darkred",
                    "dash": "solid"
                  },
                  "marker": {
                    "symbol": "circle"
                  },
                  "mode": "lines",
                  "name": "registered",
                  "orientation": "v",
                  "showlegend": false,
                  "type": "scatter",
                  "x": [
                    0,
                    1,
                    2,
                    3,
                    4,
                    5,
                    6,
                    7,
                    8,
                    9,
                    10,
                    11,
                    12,
                    13,
                    14,
                    15,
                    16,
                    17,
                    18,
                    19,
                    20,
                    21,
                    22,
                    23
                  ],
                  "xaxis": "x5",
                  "y": [
                    8273,
                    5992,
                    4380,
                    1867,
                    584,
                    690,
                    1763,
                    3960,
                    9940,
                    14972,
                    19624,
                    23274,
                    25647,
                    25292,
                    24289,
                    24274,
                    23272,
                    21850,
                    20607,
                    17526,
                    13549,
                    12072,
                    10890,
                    9368
                  ],
                  "yaxis": "y5"
                },
                {
                  "hovertemplate": "variable=registered<br>weekday=Sunday<br>hr=%{x}<br>value=%{y}<extra></extra>",
                  "legendgroup": "registered",
                  "line": {
                    "color": "darkred",
                    "dash": "solid"
                  },
                  "marker": {
                    "symbol": "circle"
                  },
                  "mode": "lines",
                  "name": "registered",
                  "orientation": "v",
                  "showlegend": false,
                  "type": "scatter",
                  "x": [
                    0,
                    1,
                    2,
                    3,
                    4,
                    5,
                    6,
                    7,
                    8,
                    9,
                    10,
                    11,
                    12,
                    13,
                    14,
                    15,
                    16,
                    17,
                    18,
                    19,
                    20,
                    21,
                    22,
                    23
                  ],
                  "xaxis": "x6",
                  "y": [
                    7879,
                    6493,
                    5002,
                    2369,
                    697,
                    666,
                    1134,
                    2532,
                    6663,
                    11602,
                    18411,
                    21595,
                    25852,
                    25232,
                    23874,
                    23370,
                    24608,
                    22486,
                    20283,
                    17054,
                    13115,
                    10000,
                    7604,
                    4985
                  ],
                  "yaxis": "y6"
                },
                {
                  "hovertemplate": "variable=registered<br>weekday=Thursday<br>hr=%{x}<br>value=%{y}<extra></extra>",
                  "legendgroup": "registered",
                  "line": {
                    "color": "darkred",
                    "dash": "solid"
                  },
                  "marker": {
                    "symbol": "circle"
                  },
                  "mode": "lines",
                  "name": "registered",
                  "orientation": "v",
                  "showlegend": false,
                  "type": "scatter",
                  "x": [
                    0,
                    1,
                    2,
                    3,
                    4,
                    5,
                    6,
                    7,
                    8,
                    9,
                    10,
                    11,
                    12,
                    13,
                    14,
                    15,
                    16,
                    17,
                    18,
                    19,
                    20,
                    21,
                    22,
                    23
                  ],
                  "xaxis": "x3",
                  "y": [
                    3340,
                    1407,
                    710,
                    415,
                    460,
                    2527,
                    10602,
                    30072,
                    48102,
                    22383,
                    10676,
                    12653,
                    16681,
                    16053,
                    13916,
                    15687,
                    25050,
                    48989,
                    46846,
                    32876,
                    24507,
                    18044,
                    13263,
                    8676
                  ],
                  "yaxis": "y3"
                },
                {
                  "hovertemplate": "variable=registered<br>weekday=Tuesday<br>hr=%{x}<br>value=%{y}<extra></extra>",
                  "legendgroup": "registered",
                  "line": {
                    "color": "darkred",
                    "dash": "solid"
                  },
                  "marker": {
                    "symbol": "circle"
                  },
                  "mode": "lines",
                  "name": "registered",
                  "orientation": "v",
                  "showlegend": false,
                  "type": "scatter",
                  "x": [
                    0,
                    1,
                    2,
                    3,
                    4,
                    5,
                    6,
                    7,
                    8,
                    9,
                    10,
                    11,
                    12,
                    13,
                    14,
                    15,
                    16,
                    17,
                    18,
                    19,
                    20,
                    21,
                    22,
                    23
                  ],
                  "xaxis": "x4",
                  "y": [
                    2207,
                    929,
                    497,
                    297,
                    445,
                    2349,
                    10441,
                    29296,
                    45874,
                    21776,
                    10191,
                    11509,
                    15011,
                    15149,
                    13406,
                    15160,
                    25160,
                    50883,
                    48688,
                    32871,
                    23304,
                    16945,
                    12078,
                    6800
                  ],
                  "yaxis": "y4"
                },
                {
                  "hovertemplate": "variable=registered<br>weekday=wednesday<br>hr=%{x}<br>value=%{y}<extra></extra>",
                  "legendgroup": "registered",
                  "line": {
                    "color": "darkred",
                    "dash": "solid"
                  },
                  "marker": {
                    "symbol": "circle"
                  },
                  "mode": "lines",
                  "name": "registered",
                  "orientation": "v",
                  "showlegend": false,
                  "type": "scatter",
                  "x": [
                    0,
                    1,
                    2,
                    3,
                    4,
                    5,
                    6,
                    7,
                    8,
                    9,
                    10,
                    11,
                    12,
                    13,
                    14,
                    15,
                    16,
                    17,
                    18,
                    19,
                    20,
                    21,
                    22,
                    23
                  ],
                  "xaxis": "x",
                  "y": [
                    2983,
                    1305,
                    642,
                    419,
                    424,
                    2547,
                    10746,
                    30284,
                    48406,
                    22501,
                    10908,
                    12362,
                    16406,
                    15567,
                    13611,
                    15003,
                    24068,
                    47966,
                    46003,
                    32603,
                    23291,
                    17503,
                    12811,
                    7370
                  ],
                  "yaxis": "y"
                },
                {
                  "hovertemplate": "variable=cnt<br>weekday=Friday<br>hr=%{x}<br>value=%{y}<extra></extra>",
                  "legendgroup": "cnt",
                  "line": {
                    "color": "blue",
                    "dash": "solid"
                  },
                  "marker": {
                    "symbol": "circle"
                  },
                  "mode": "lines",
                  "name": "cnt",
                  "orientation": "v",
                  "showlegend": true,
                  "type": "scatter",
                  "x": [
                    0,
                    1,
                    2,
                    3,
                    4,
                    5,
                    6,
                    7,
                    8,
                    9,
                    10,
                    11,
                    12,
                    13,
                    14,
                    15,
                    16,
                    17,
                    18,
                    19,
                    20,
                    21,
                    22,
                    23
                  ],
                  "xaxis": "x7",
                  "y": [
                    5453,
                    2571,
                    1325,
                    673,
                    589,
                    2486,
                    9363,
                    26450,
                    48077,
                    26935,
                    16404,
                    19564,
                    24715,
                    25113,
                    23854,
                    26256,
                    34423,
                    51211,
                    43783,
                    31415,
                    22186,
                    17667,
                    15295,
                    11982
                  ],
                  "yaxis": "y7"
                },
                {
                  "hovertemplate": "variable=cnt<br>weekday=Monday<br>hr=%{x}<br>value=%{y}<extra></extra>",
                  "legendgroup": "cnt",
                  "line": {
                    "color": "blue",
                    "dash": "solid"
                  },
                  "marker": {
                    "symbol": "circle"
                  },
                  "mode": "lines",
                  "name": "cnt",
                  "orientation": "v",
                  "showlegend": false,
                  "type": "scatter",
                  "x": [
                    0,
                    1,
                    2,
                    3,
                    4,
                    5,
                    6,
                    7,
                    8,
                    9,
                    10,
                    11,
                    12,
                    13,
                    14,
                    15,
                    16,
                    17,
                    18,
                    19,
                    20,
                    21,
                    22,
                    23
                  ],
                  "xaxis": "x8",
                  "y": [
                    3571,
                    1800,
                    1021,
                    496,
                    567,
                    2252,
                    8930,
                    25848,
                    42868,
                    22718,
                    14459,
                    17024,
                    21581,
                    21384,
                    20041,
                    21046,
                    29583,
                    52249,
                    50060,
                    35836,
                    25176,
                    18152,
                    12039,
                    6802
                  ],
                  "yaxis": "y8"
                },
                {
                  "hovertemplate": "variable=cnt<br>weekday=Satuday<br>hr=%{x}<br>value=%{y}<extra></extra>",
                  "legendgroup": "cnt",
                  "line": {
                    "color": "blue",
                    "dash": "solid"
                  },
                  "marker": {
                    "symbol": "circle"
                  },
                  "mode": "lines",
                  "name": "cnt",
                  "orientation": "v",
                  "showlegend": false,
                  "type": "scatter",
                  "x": [
                    0,
                    1,
                    2,
                    3,
                    4,
                    5,
                    6,
                    7,
                    8,
                    9,
                    10,
                    11,
                    12,
                    13,
                    14,
                    15,
                    16,
                    17,
                    18,
                    19,
                    20,
                    21,
                    22,
                    23
                  ],
                  "xaxis": "x5",
                  "y": [
                    9902,
                    7117,
                    5302,
                    2403,
                    804,
                    854,
                    2205,
                    4826,
                    12020,
                    19613,
                    27691,
                    34504,
                    39415,
                    40464,
                    40040,
                    40155,
                    38445,
                    35113,
                    30373,
                    24953,
                    18810,
                    16224,
                    14525,
                    12049
                  ],
                  "yaxis": "y5"
                },
                {
                  "hovertemplate": "variable=cnt<br>weekday=Sunday<br>hr=%{x}<br>value=%{y}<extra></extra>",
                  "legendgroup": "cnt",
                  "line": {
                    "color": "blue",
                    "dash": "solid"
                  },
                  "marker": {
                    "symbol": "circle"
                  },
                  "mode": "lines",
                  "name": "cnt",
                  "orientation": "v",
                  "showlegend": false,
                  "type": "scatter",
                  "x": [
                    0,
                    1,
                    2,
                    3,
                    4,
                    5,
                    6,
                    7,
                    8,
                    9,
                    10,
                    11,
                    12,
                    13,
                    14,
                    15,
                    16,
                    17,
                    18,
                    19,
                    20,
                    21,
                    22,
                    23
                  ],
                  "xaxis": "x6",
                  "y": [
                    9775,
                    8053,
                    6286,
                    3239,
                    955,
                    852,
                    1493,
                    3476,
                    8805,
                    16437,
                    27151,
                    33115,
                    39161,
                    39368,
                    38181,
                    37163,
                    37317,
                    33471,
                    28626,
                    23675,
                    17643,
                    13403,
                    9883,
                    6499
                  ],
                  "yaxis": "y6"
                },
                {
                  "hovertemplate": "variable=cnt<br>weekday=Thursday<br>hr=%{x}<br>value=%{y}<extra></extra>",
                  "legendgroup": "cnt",
                  "line": {
                    "color": "blue",
                    "dash": "solid"
                  },
                  "marker": {
                    "symbol": "circle"
                  },
                  "mode": "lines",
                  "name": "cnt",
                  "orientation": "v",
                  "showlegend": false,
                  "type": "scatter",
                  "x": [
                    0,
                    1,
                    2,
                    3,
                    4,
                    5,
                    6,
                    7,
                    8,
                    9,
                    10,
                    11,
                    12,
                    13,
                    14,
                    15,
                    16,
                    17,
                    18,
                    19,
                    20,
                    21,
                    22,
                    23
                  ],
                  "xaxis": "x3",
                  "y": [
                    4045,
                    1774,
                    934,
                    497,
                    528,
                    2669,
                    11066,
                    31388,
                    50323,
                    24810,
                    13654,
                    16360,
                    20550,
                    20233,
                    18289,
                    20237,
                    29775,
                    54844,
                    52218,
                    37279,
                    27967,
                    20580,
                    15313,
                    10062
                  ],
                  "yaxis": "y3"
                },
                {
                  "hovertemplate": "variable=cnt<br>weekday=Tuesday<br>hr=%{x}<br>value=%{y}<extra></extra>",
                  "legendgroup": "cnt",
                  "line": {
                    "color": "blue",
                    "dash": "solid"
                  },
                  "marker": {
                    "symbol": "circle"
                  },
                  "mode": "lines",
                  "name": "cnt",
                  "orientation": "v",
                  "showlegend": false,
                  "type": "scatter",
                  "x": [
                    0,
                    1,
                    2,
                    3,
                    4,
                    5,
                    6,
                    7,
                    8,
                    9,
                    10,
                    11,
                    12,
                    13,
                    14,
                    15,
                    16,
                    17,
                    18,
                    19,
                    20,
                    21,
                    22,
                    23
                  ],
                  "xaxis": "x4",
                  "y": [
                    2790,
                    1254,
                    687,
                    382,
                    508,
                    2470,
                    10863,
                    30569,
                    48122,
                    24118,
                    13181,
                    14924,
                    18826,
                    19031,
                    17510,
                    19438,
                    29817,
                    56605,
                    53827,
                    36808,
                    26332,
                    19368,
                    13757,
                    7922
                  ],
                  "yaxis": "y4"
                },
                {
                  "hovertemplate": "variable=cnt<br>weekday=wednesday<br>hr=%{x}<br>value=%{y}<extra></extra>",
                  "legendgroup": "cnt",
                  "line": {
                    "color": "blue",
                    "dash": "solid"
                  },
                  "marker": {
                    "symbol": "circle"
                  },
                  "mode": "lines",
                  "name": "cnt",
                  "orientation": "v",
                  "showlegend": false,
                  "type": "scatter",
                  "x": [
                    0,
                    1,
                    2,
                    3,
                    4,
                    5,
                    6,
                    7,
                    8,
                    9,
                    10,
                    11,
                    12,
                    13,
                    14,
                    15,
                    16,
                    17,
                    18,
                    19,
                    20,
                    21,
                    22,
                    23
                  ],
                  "xaxis": "x",
                  "y": [
                    3594,
                    1595,
                    797,
                    484,
                    477,
                    2678,
                    11212,
                    31614,
                    50786,
                    24807,
                    13717,
                    15829,
                    20166,
                    19326,
                    17737,
                    18854,
                    28388,
                    53367,
                    50885,
                    36823,
                    26436,
                    20051,
                    14800,
                    8625
                  ],
                  "yaxis": "y"
                }
              ],
              "layout": {
                "annotations": [
                  {
                    "font": {},
                    "showarrow": false,
                    "text": "weekday=wednesday",
                    "x": 0.245,
                    "xanchor": "center",
                    "xref": "paper",
                    "y": 0.1975,
                    "yanchor": "bottom",
                    "yref": "paper"
                  },
                  {
                    "font": {},
                    "showarrow": false,
                    "text": "weekday=Thursday",
                    "x": 0.245,
                    "xanchor": "center",
                    "xref": "paper",
                    "y": 0.465,
                    "yanchor": "bottom",
                    "yref": "paper"
                  },
                  {
                    "font": {},
                    "showarrow": false,
                    "text": "weekday=Tuesday",
                    "x": 0.755,
                    "xanchor": "center",
                    "xref": "paper",
                    "y": 0.465,
                    "yanchor": "bottom",
                    "yref": "paper"
                  },
                  {
                    "font": {},
                    "showarrow": false,
                    "text": "weekday=Satuday",
                    "x": 0.245,
                    "xanchor": "center",
                    "xref": "paper",
                    "y": 0.7325,
                    "yanchor": "bottom",
                    "yref": "paper"
                  },
                  {
                    "font": {},
                    "showarrow": false,
                    "text": "weekday=Sunday",
                    "x": 0.755,
                    "xanchor": "center",
                    "xref": "paper",
                    "y": 0.7325,
                    "yanchor": "bottom",
                    "yref": "paper"
                  },
                  {
                    "font": {},
                    "showarrow": false,
                    "text": "weekday=Friday",
                    "x": 0.245,
                    "xanchor": "center",
                    "xref": "paper",
                    "y": 1,
                    "yanchor": "bottom",
                    "yref": "paper"
                  },
                  {
                    "font": {},
                    "showarrow": false,
                    "text": "weekday=Monday",
                    "x": 0.755,
                    "xanchor": "center",
                    "xref": "paper",
                    "y": 1,
                    "yanchor": "bottom",
                    "yref": "paper"
                  }
                ],
                "legend": {
                  "title": {
                    "text": "variable"
                  },
                  "tracegroupgap": 0
                },
                "template": {
                  "data": {
                    "candlestick": [
                      {
                        "decreasing": {
                          "line": {
                            "color": "#000033"
                          }
                        },
                        "increasing": {
                          "line": {
                            "color": "#000032"
                          }
                        },
                        "type": "candlestick"
                      }
                    ],
                    "contour": [
                      {
                        "colorscale": [
                          [
                            0,
                            "#000011"
                          ],
                          [
                            0.1111111111111111,
                            "#000012"
                          ],
                          [
                            0.2222222222222222,
                            "#000013"
                          ],
                          [
                            0.3333333333333333,
                            "#000014"
                          ],
                          [
                            0.4444444444444444,
                            "#000015"
                          ],
                          [
                            0.5555555555555556,
                            "#000016"
                          ],
                          [
                            0.6666666666666666,
                            "#000017"
                          ],
                          [
                            0.7777777777777778,
                            "#000018"
                          ],
                          [
                            0.8888888888888888,
                            "#000019"
                          ],
                          [
                            1,
                            "#000020"
                          ]
                        ],
                        "type": "contour"
                      }
                    ],
                    "contourcarpet": [
                      {
                        "colorscale": [
                          [
                            0,
                            "#000011"
                          ],
                          [
                            0.1111111111111111,
                            "#000012"
                          ],
                          [
                            0.2222222222222222,
                            "#000013"
                          ],
                          [
                            0.3333333333333333,
                            "#000014"
                          ],
                          [
                            0.4444444444444444,
                            "#000015"
                          ],
                          [
                            0.5555555555555556,
                            "#000016"
                          ],
                          [
                            0.6666666666666666,
                            "#000017"
                          ],
                          [
                            0.7777777777777778,
                            "#000018"
                          ],
                          [
                            0.8888888888888888,
                            "#000019"
                          ],
                          [
                            1,
                            "#000020"
                          ]
                        ],
                        "type": "contourcarpet"
                      }
                    ],
                    "heatmap": [
                      {
                        "colorscale": [
                          [
                            0,
                            "#000011"
                          ],
                          [
                            0.1111111111111111,
                            "#000012"
                          ],
                          [
                            0.2222222222222222,
                            "#000013"
                          ],
                          [
                            0.3333333333333333,
                            "#000014"
                          ],
                          [
                            0.4444444444444444,
                            "#000015"
                          ],
                          [
                            0.5555555555555556,
                            "#000016"
                          ],
                          [
                            0.6666666666666666,
                            "#000017"
                          ],
                          [
                            0.7777777777777778,
                            "#000018"
                          ],
                          [
                            0.8888888888888888,
                            "#000019"
                          ],
                          [
                            1,
                            "#000020"
                          ]
                        ],
                        "type": "heatmap"
                      }
                    ],
                    "histogram2d": [
                      {
                        "colorscale": [
                          [
                            0,
                            "#000011"
                          ],
                          [
                            0.1111111111111111,
                            "#000012"
                          ],
                          [
                            0.2222222222222222,
                            "#000013"
                          ],
                          [
                            0.3333333333333333,
                            "#000014"
                          ],
                          [
                            0.4444444444444444,
                            "#000015"
                          ],
                          [
                            0.5555555555555556,
                            "#000016"
                          ],
                          [
                            0.6666666666666666,
                            "#000017"
                          ],
                          [
                            0.7777777777777778,
                            "#000018"
                          ],
                          [
                            0.8888888888888888,
                            "#000019"
                          ],
                          [
                            1,
                            "#000020"
                          ]
                        ],
                        "type": "histogram2d"
                      }
                    ],
                    "icicle": [
                      {
                        "textfont": {
                          "color": "white"
                        },
                        "type": "icicle"
                      }
                    ],
                    "sankey": [
                      {
                        "textfont": {
                          "color": "#000036"
                        },
                        "type": "sankey"
                      }
                    ],
                    "scatter": [
                      {
                        "marker": {
                          "line": {
                            "width": 0
                          }
                        },
                        "type": "scatter"
                      }
                    ],
                    "table": [
                      {
                        "cells": {
                          "fill": {
                            "color": "#000038"
                          },
                          "font": {
                            "color": "#000037"
                          },
                          "line": {
                            "color": "#000039"
                          }
                        },
                        "header": {
                          "fill": {
                            "color": "#000040"
                          },
                          "font": {
                            "color": "#000036"
                          },
                          "line": {
                            "color": "#000039"
                          }
                        },
                        "type": "table"
                      }
                    ],
                    "waterfall": [
                      {
                        "connector": {
                          "line": {
                            "color": "#000036",
                            "width": 2
                          }
                        },
                        "decreasing": {
                          "marker": {
                            "color": "#000033"
                          }
                        },
                        "increasing": {
                          "marker": {
                            "color": "#000032"
                          }
                        },
                        "totals": {
                          "marker": {
                            "color": "#000034"
                          }
                        },
                        "type": "waterfall"
                      }
                    ]
                  },
                  "layout": {
                    "coloraxis": {
                      "colorscale": [
                        [
                          0,
                          "#000011"
                        ],
                        [
                          0.1111111111111111,
                          "#000012"
                        ],
                        [
                          0.2222222222222222,
                          "#000013"
                        ],
                        [
                          0.3333333333333333,
                          "#000014"
                        ],
                        [
                          0.4444444444444444,
                          "#000015"
                        ],
                        [
                          0.5555555555555556,
                          "#000016"
                        ],
                        [
                          0.6666666666666666,
                          "#000017"
                        ],
                        [
                          0.7777777777777778,
                          "#000018"
                        ],
                        [
                          0.8888888888888888,
                          "#000019"
                        ],
                        [
                          1,
                          "#000020"
                        ]
                      ]
                    },
                    "colorscale": {
                      "diverging": [
                        [
                          0,
                          "#000021"
                        ],
                        [
                          0.1,
                          "#000022"
                        ],
                        [
                          0.2,
                          "#000023"
                        ],
                        [
                          0.3,
                          "#000024"
                        ],
                        [
                          0.4,
                          "#000025"
                        ],
                        [
                          0.5,
                          "#000026"
                        ],
                        [
                          0.6,
                          "#000027"
                        ],
                        [
                          0.7,
                          "#000028"
                        ],
                        [
                          0.8,
                          "#000029"
                        ],
                        [
                          0.9,
                          "#000030"
                        ],
                        [
                          1,
                          "#000031"
                        ]
                      ],
                      "sequential": [
                        [
                          0,
                          "#000011"
                        ],
                        [
                          0.1111111111111111,
                          "#000012"
                        ],
                        [
                          0.2222222222222222,
                          "#000013"
                        ],
                        [
                          0.3333333333333333,
                          "#000014"
                        ],
                        [
                          0.4444444444444444,
                          "#000015"
                        ],
                        [
                          0.5555555555555556,
                          "#000016"
                        ],
                        [
                          0.6666666666666666,
                          "#000017"
                        ],
                        [
                          0.7777777777777778,
                          "#000018"
                        ],
                        [
                          0.8888888888888888,
                          "#000019"
                        ],
                        [
                          1,
                          "#000020"
                        ]
                      ],
                      "sequentialminus": [
                        [
                          0,
                          "#000011"
                        ],
                        [
                          0.1111111111111111,
                          "#000012"
                        ],
                        [
                          0.2222222222222222,
                          "#000013"
                        ],
                        [
                          0.3333333333333333,
                          "#000014"
                        ],
                        [
                          0.4444444444444444,
                          "#000015"
                        ],
                        [
                          0.5555555555555556,
                          "#000016"
                        ],
                        [
                          0.6666666666666666,
                          "#000017"
                        ],
                        [
                          0.7777777777777778,
                          "#000018"
                        ],
                        [
                          0.8888888888888888,
                          "#000019"
                        ],
                        [
                          1,
                          "#000020"
                        ]
                      ]
                    },
                    "colorway": [
                      "#000001",
                      "#000002",
                      "#000003",
                      "#000004",
                      "#000005",
                      "#000006",
                      "#000007",
                      "#000008",
                      "#000009",
                      "#000010"
                    ]
                  }
                },
                "title": {
                  "text": "Melihat Tren Jumlah Berdasarkan Jam dan Hari"
                },
                "xaxis": {
                  "anchor": "y",
                  "domain": [
                    0,
                    0.49
                  ],
                  "title": {
                    "text": "hr"
                  }
                },
                "xaxis2": {
                  "anchor": "y2",
                  "domain": [
                    0.51,
                    1
                  ],
                  "matches": "x",
                  "title": {
                    "text": "hr"
                  }
                },
                "xaxis3": {
                  "anchor": "y3",
                  "domain": [
                    0,
                    0.49
                  ],
                  "matches": "x",
                  "showticklabels": false
                },
                "xaxis4": {
                  "anchor": "y4",
                  "domain": [
                    0.51,
                    1
                  ],
                  "matches": "x",
                  "showticklabels": false
                },
                "xaxis5": {
                  "anchor": "y5",
                  "domain": [
                    0,
                    0.49
                  ],
                  "matches": "x",
                  "showticklabels": false
                },
                "xaxis6": {
                  "anchor": "y6",
                  "domain": [
                    0.51,
                    1
                  ],
                  "matches": "x",
                  "showticklabels": false
                },
                "xaxis7": {
                  "anchor": "y7",
                  "domain": [
                    0,
                    0.49
                  ],
                  "matches": "x",
                  "showticklabels": false
                },
                "xaxis8": {
                  "anchor": "y8",
                  "domain": [
                    0.51,
                    1
                  ],
                  "matches": "x",
                  "showticklabels": false
                },
                "yaxis": {
                  "anchor": "x",
                  "domain": [
                    0,
                    0.1975
                  ],
                  "title": {
                    "text": "value"
                  }
                },
                "yaxis2": {
                  "anchor": "x2",
                  "domain": [
                    0,
                    0.1975
                  ],
                  "matches": "y",
                  "showticklabels": false
                },
                "yaxis3": {
                  "anchor": "x3",
                  "domain": [
                    0.2675,
                    0.465
                  ],
                  "matches": "y",
                  "title": {
                    "text": "value"
                  }
                },
                "yaxis4": {
                  "anchor": "x4",
                  "domain": [
                    0.2675,
                    0.465
                  ],
                  "matches": "y",
                  "showticklabels": false
                },
                "yaxis5": {
                  "anchor": "x5",
                  "domain": [
                    0.535,
                    0.7325
                  ],
                  "matches": "y",
                  "title": {
                    "text": "value"
                  }
                },
                "yaxis6": {
                  "anchor": "x6",
                  "domain": [
                    0.535,
                    0.7325
                  ],
                  "matches": "y",
                  "showticklabels": false
                },
                "yaxis7": {
                  "anchor": "x7",
                  "domain": [
                    0.8025,
                    1
                  ],
                  "matches": "y",
                  "title": {
                    "text": "value"
                  }
                },
                "yaxis8": {
                  "anchor": "x8",
                  "domain": [
                    0.8025,
                    1
                  ],
                  "matches": "y",
                  "showticklabels": false
                }
              }
            }
          },
          "metadata": {},
          "output_type": "display_data"
        }
      ],
      "source": [
        "x = 'hr'\n",
        "columns = ['casual', 'registered', 'cnt']\n",
        "title = 'Melihat Tren Jumlah Berdasarkan Jam dan Hari'\n",
        "colors_theme = ['orchid', 'darkred','blue']\n",
        "show_dailyhour_rented_df_by_category(dailyhour_rented_df , x, columns, title, colors_theme,facet_col=\"weekday\",facet_col_wrap=2)"
      ]
    },
    {
      "cell_type": "markdown",
      "metadata": {
        "id": "o5nNwqQ4SoAi"
      },
      "source": [
        "## Conclusion"
      ]
    },
    {
      "cell_type": "markdown",
      "metadata": {
        "id": "fAvP3zAYSskj"
      },
      "source": [
        "- **Conclution pertanyaan 1**\n",
        "Setelah diamati dari Jan 2011- Jul 2021 mengalami kenaikan dari Jul 2011- Jan 2012\n",
        "mengalami penurunan dan ditahun berikutnya mengalami hal yang sama. Kemungkinan karena pengaruh cuaca\n",
        "yang terjadi.\n",
        "Varibael cnt selalu paling tinggi, yang kedua registered, dan yang paling rendah adalah casual.\n",
        "\n",
        "- **Conclution pertanyaan 2**\n",
        " Dari 4 musim, musim semi pengguna sepeda paling rendah, pada musim panas kedua terendah, pada musim dingin ketiga terendah, dan paling tinggi pada musim gugur.\n",
        "dan menurut cuaca tertinggi itu pada cuaca cerah berawan  yang kabur, dan yang terakhir cuaca hujan dan salju.\n",
        "dan selalu peminat tertinggi itu adalah registered jauh lebih tinggi dari casual.\n",
        "\n",
        "- **Conclution pertanyaan 3**\n",
        "Dari pengamatan diagram tersebut peminat pengguna sepeda naik dari hari senin-kamis dan mulai menurun di hari jumat-minggu,\n",
        "maka dapat disimpulkan para pengguna sepeda tersebut menggunakan sepeda untuk berpergian bekerja.\n",
        "Dari pertayaan workingday dan non-workingday peminat pengguna sepeda itu di status workingday dan selalu yang tertinggi adalah registered dibanding casual.\n",
        "\n",
        "- **Conclution pertanyaan 4**\n",
        "Dari diagram menurut jam, dari jam 05.00-10.00 mengalami peningkatan dan di jam 15.00-18.00\n",
        "Karena pada tersebut jam sibuk pergi bekerja dan pulang bekerja.\n",
        "\n",
        "- **Conclution pertanyaan 5**\n",
        "Dari diagram Rata-rata penggunaan sepeda rental menurut jam dan hari ditemukan berbeda untuk\n",
        " Registered user dan Casual User pada weekdays namun pola yang relatif sama terjadi pada weekend.\n",
        "Pada weekday registered user mempunyai puncak peminjaman sepede pada pukul 08.00 dan 17.00.\n",
        "Namun pada weekend, registered user tidak ditemukan 2 puncak seperti yang terjadi pada weekday.\n",
        "Registered user mulai meminjam sepeda sekitar pukul 08.00 dan secara perlahan meningkat hingga mulai mengalami penurunan pada pukul 15.00 atau 16.00"
      ]
    }
  ],
  "metadata": {
    "colab": {
      "provenance": []
    },
    "kernelspec": {
      "display_name": "Python 3",
      "name": "python3"
    },
    "language_info": {
      "codemirror_mode": {
        "name": "ipython",
        "version": 3
      },
      "file_extension": ".py",
      "mimetype": "text/x-python",
      "name": "python",
      "nbconvert_exporter": "python",
      "pygments_lexer": "ipython3",
      "version": "3.12.5"
    }
  },
  "nbformat": 4,
  "nbformat_minor": 0
}
